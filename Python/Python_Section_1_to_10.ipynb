{
 "cells": [
  {
   "cell_type": "markdown",
   "id": "1a8c3d5b-3dbd-4b8a-bce3-004bb3f862e1",
   "metadata": {},
   "source": [
    "## Section-1, 2 & 3"
   ]
  },
  {
   "cell_type": "markdown",
   "id": "1c34e664-9cff-4010-b0d4-0e3ad58861c5",
   "metadata": {},
   "source": [
    "Create Virtual Environment by various ways:\n",
    "- Python ways:\n",
    "1. python -m venv myenv\n",
    "2. myenv\\Scripts\\activate\n",
    "- Python version change ways:\n",
    "1. pip install virtualenv\n",
    "2. virtualenv -p python3 virtual_env\n",
    "3. virtual_env\\Scripts\\activate\n",
    "- Anaconda way:\n",
    "1. conda create -p venv python==3.12\n",
    "2. conda activate venv/"
   ]
  },
  {
   "cell_type": "code",
   "execution_count": 7,
   "id": "baf18f92-e9d9-462c-8355-0588e14a29cd",
   "metadata": {},
   "outputs": [
    {
     "name": "stdout",
     "output_type": "stream",
     "text": [
      "45\n"
     ]
    }
   ],
   "source": [
    "## Line Continuation:\n",
    "## Use backslash (\\) to continue the statement\n",
    "total = 1+2+3+4+5+\\\n",
    "9+8+7+6\n",
    "print(total)"
   ]
  },
  {
   "cell_type": "code",
   "execution_count": 8,
   "id": "171bfc1b-25c7-46a7-9795-22228aadd427",
   "metadata": {},
   "outputs": [
    {
     "name": "stdout",
     "output_type": "stream",
     "text": [
      "15\n"
     ]
    }
   ],
   "source": [
    "## Multiple statements on a single line:\n",
    "x=5;y=10;z=x+y\n",
    "print(z)"
   ]
  },
  {
   "cell_type": "code",
   "execution_count": 9,
   "id": "062238db-62d8-4ca8-acc2-33ce6f26a903",
   "metadata": {},
   "outputs": [
    {
     "name": "stdout",
     "output_type": "stream",
     "text": [
      "Age: 32\n"
     ]
    }
   ],
   "source": [
    "age = 32\n",
    "if age> 30:\n",
    "    pass\n",
    "print(\"Age:\",age)"
   ]
  },
  {
   "cell_type": "markdown",
   "id": "ff19a3be-f3b1-4399-a14f-4174c1fb0188",
   "metadata": {},
   "source": [
    "- Syntax dictates the grammatical rules for writing the valid code.\n",
    "- Semantic define what the valid code actually done. Ex: Execution Flow, Variable & Object Management, operator behavior."
   ]
  },
  {
   "cell_type": "code",
   "execution_count": 10,
   "id": "dd0cb150-e400-444c-aaa6-2364cc92275d",
   "metadata": {},
   "outputs": [
    {
     "name": "stdout",
     "output_type": "stream",
     "text": [
      "Ayush <class 'str'>\n"
     ]
    }
   ],
   "source": [
    "# Input statement: \n",
    "Name = input(\"What is your name: \")\n",
    "print(Name, type(Name))"
   ]
  },
  {
   "cell_type": "code",
   "execution_count": 11,
   "id": "831a2dfa-7899-4f4f-afbb-2c9422fea4d7",
   "metadata": {},
   "outputs": [
    {
     "name": "stdout",
     "output_type": "stream",
     "text": [
      "Your Age is  29 <class 'int'>\n"
     ]
    }
   ],
   "source": [
    "# Help us to find your Age:\n",
    "birth_year = int(input(\"What is your Birth year: \"))\n",
    "curr_year = int(input(\"Current year: \"))\n",
    "print(\"Your Age is \", curr_year-birth_year, type(curr_year-birth_year))"
   ]
  },
  {
   "cell_type": "code",
   "execution_count": 12,
   "id": "ce15c246-1f87-4efc-89d3-6d43bf722765",
   "metadata": {},
   "outputs": [
    {
     "data": {
      "text/plain": [
       "bool"
      ]
     },
     "execution_count": 12,
     "metadata": {},
     "output_type": "execute_result"
    }
   ],
   "source": [
    "a = 10\n",
    "b = 10\n",
    "type(a==b)"
   ]
  },
  {
   "cell_type": "code",
   "execution_count": 13,
   "id": "98e52ff3-3b4b-4b7d-882b-a41b6cf80730",
   "metadata": {},
   "outputs": [
    {
     "data": {
      "text/plain": [
       "False"
      ]
     },
     "execution_count": 13,
     "metadata": {},
     "output_type": "execute_result"
    }
   ],
   "source": [
    "bool()"
   ]
  },
  {
   "cell_type": "code",
   "execution_count": 14,
   "id": "23c823a2-c79a-4c8d-9a09-d04b0b0efbd2",
   "metadata": {},
   "outputs": [
    {
     "data": {
      "text/plain": [
       "'Hello5'"
      ]
     },
     "execution_count": 14,
     "metadata": {},
     "output_type": "execute_result"
    }
   ],
   "source": [
    "result = 'Hello' + str(5)\n",
    "result"
   ]
  },
  {
   "cell_type": "code",
   "execution_count": 15,
   "id": "0688a70c-e698-4aa3-9609-9fccde7558cf",
   "metadata": {},
   "outputs": [
    {
     "name": "stdout",
     "output_type": "stream",
     "text": [
      "sorted list: [1, 2, 3, 4, 5, 6]\n"
     ]
    }
   ],
   "source": [
    "# input and sort list numbers:\n",
    "\n",
    "numbers = [int(x) for x in input(\"Enter the number to separeted by comma: \").split(',')]\n",
    "numbers.sort()\n",
    "print(f\"sorted list: {numbers}\")"
   ]
  },
  {
   "cell_type": "code",
   "execution_count": 16,
   "id": "b944b40f-3fc0-42e3-a958-b213b440b5cd",
   "metadata": {},
   "outputs": [
    {
     "name": "stdout",
     "output_type": "stream",
     "text": [
      "55\n"
     ]
    }
   ],
   "source": [
    "# Calculate sum of 1st N numbers using while:\n",
    "sums=0\n",
    "count=1\n",
    "n=10\n",
    "while n>=count:\n",
    "    sums += count\n",
    "    count +=1\n",
    "print(sums)"
   ]
  },
  {
   "cell_type": "code",
   "execution_count": 17,
   "id": "6da78fdc-11b9-431a-9ad2-b1220acd6af6",
   "metadata": {},
   "outputs": [
    {
     "name": "stdout",
     "output_type": "stream",
     "text": [
      "2\n",
      "3\n",
      "5\n",
      "7\n"
     ]
    }
   ],
   "source": [
    "# prime number bwt 1 to 100:\n",
    "n = 10\n",
    "for num in range(1,n+1):\n",
    "    if num>1:\n",
    "        for i in range(2,num):\n",
    "            if num%i ==0:\n",
    "                break\n",
    "        else:\n",
    "            print(num)"
   ]
  },
  {
   "cell_type": "code",
   "execution_count": 18,
   "id": "e3068087-f011-4388-bf55-7e3dfb2f0683",
   "metadata": {},
   "outputs": [],
   "source": [
    "def cal_dis(price, dis):\n",
    "    try:\n",
    "        assert 0<=dis<=1, \"Discount must be between 0 and 1.\"\n",
    "        return price*(1-dis)\n",
    "    except AssertionError as e:\n",
    "        print('Error: ',e)\n",
    "    "
   ]
  },
  {
   "cell_type": "code",
   "execution_count": 19,
   "id": "bb221bdc-035f-4ada-bcd5-3719a404b482",
   "metadata": {},
   "outputs": [
    {
     "name": "stdout",
     "output_type": "stream",
     "text": [
      "Error:  Discount must be between 0 and 1.\n"
     ]
    }
   ],
   "source": [
    "cal_dis(100,10)"
   ]
  },
  {
   "cell_type": "code",
   "execution_count": 20,
   "id": "85891326-7599-4eb4-98f0-7921eb069e89",
   "metadata": {},
   "outputs": [
    {
     "name": "stdout",
     "output_type": "stream",
     "text": [
      "Your age is :  27\n",
      "Finally code over!!\n"
     ]
    }
   ],
   "source": [
    "def check_age(age):\n",
    "    if age<18:\n",
    "        raise ValueError('Age must be greater then 18.')\n",
    "try: \n",
    "    age = int(input(\"Enter your Age: \"))\n",
    "    check_age(age)\n",
    "except ValueError as e:\n",
    "    print(\"Error: \", e)\n",
    "else:\n",
    "    print(\"Your age is : \", age)\n",
    "finally:\n",
    "    print(\"Finally code over!!\")\n",
    "    "
   ]
  },
  {
   "cell_type": "code",
   "execution_count": 21,
   "id": "2d764e95-dee4-453a-a2ba-168b32a8218f",
   "metadata": {},
   "outputs": [
    {
     "data": {
      "text/plain": [
       "[1, 2, 3, 1, 2, 3, 1, 2, 3]"
      ]
     },
     "execution_count": 21,
     "metadata": {},
     "output_type": "execute_result"
    }
   ],
   "source": [
    "lst = [1,2,3] *3\n",
    "lst"
   ]
  },
  {
   "cell_type": "markdown",
   "id": "49410ddf",
   "metadata": {},
   "source": [
    "## Section - 4:"
   ]
  },
  {
   "cell_type": "markdown",
   "id": "c127c611",
   "metadata": {},
   "source": [
    "### List:"
   ]
  },
  {
   "cell_type": "code",
   "execution_count": 22,
   "id": "e25fc8bc-9934-4f5b-9a0c-e9bb26a5dc44",
   "metadata": {},
   "outputs": [
    {
     "data": {
      "text/plain": [
       "['apple', 'cherry', 'banana', 'orange']"
      ]
     },
     "execution_count": 22,
     "metadata": {},
     "output_type": "execute_result"
    }
   ],
   "source": [
    "fruits = ['apple', 'banana','orange']\n",
    "fruits.insert(1, 'cherry')\n",
    "fruits"
   ]
  },
  {
   "cell_type": "code",
   "execution_count": 23,
   "id": "08216dc4",
   "metadata": {},
   "outputs": [
    {
     "data": {
      "text/plain": [
       "['apple', 'banana', 'orange']"
      ]
     },
     "execution_count": 23,
     "metadata": {},
     "output_type": "execute_result"
    }
   ],
   "source": [
    "fruits.remove('cherry')\n",
    "# fruits.counts('banana')\n",
    "fruits"
   ]
  },
  {
   "cell_type": "code",
   "execution_count": 24,
   "metadata": {},
   "outputs": [
    {
     "data": {
      "text/plain": [
       "['apple', 'banana', 'orange']"
      ]
     },
     "execution_count": 24,
     "metadata": {},
     "output_type": "execute_result"
    }
   ],
   "source": [
    "fruits.count('banana')\n",
    "fruits.sort()\n",
    "fruits"
   ]
  },
  {
   "cell_type": "code",
   "execution_count": 25,
   "id": "04131c3f",
   "metadata": {},
   "outputs": [
    {
     "data": {
      "text/plain": [
       "['orange', 'banana', 'apple']"
      ]
     },
     "execution_count": 25,
     "metadata": {},
     "output_type": "execute_result"
    }
   ],
   "source": [
    "fruits.reverse()\n",
    "fruits"
   ]
  },
  {
   "cell_type": "code",
   "execution_count": 26,
   "metadata": {},
   "outputs": [
    {
     "data": {
      "text/plain": [
       "[10, 8, 6, 4, 2]"
      ]
     },
     "execution_count": 26,
     "metadata": {},
     "output_type": "execute_result"
    }
   ],
   "source": [
    "num= [1,2,3,4,5,6,7,8,9,10]\n",
    "num[::-2]"
   ]
  },
  {
   "cell_type": "code",
   "execution_count": 27,
   "metadata": {},
   "outputs": [
    {
     "name": "stdout",
     "output_type": "stream",
     "text": [
      "0 1\n",
      "1 2\n",
      "2 3\n",
      "3 4\n",
      "4 5\n",
      "5 6\n",
      "6 7\n",
      "7 8\n",
      "8 9\n",
      "9 10\n"
     ]
    }
   ],
   "source": [
    "for index,number in enumerate(num):\n",
    "    print(index,number)"
   ]
  },
  {
   "cell_type": "code",
   "execution_count": 28,
   "id": "f9834eef",
   "metadata": {},
   "outputs": [
    {
     "data": {
      "text/plain": [
       "[(0, 0),\n",
       " (0, 1),\n",
       " (0, 2),\n",
       " (0, 3),\n",
       " (0, 4),\n",
       " (1, 0),\n",
       " (1, 1),\n",
       " (1, 2),\n",
       " (1, 3),\n",
       " (1, 4),\n",
       " (2, 0),\n",
       " (2, 1),\n",
       " (2, 2),\n",
       " (2, 3),\n",
       " (2, 4),\n",
       " (3, 0),\n",
       " (3, 1),\n",
       " (3, 2),\n",
       " (3, 3),\n",
       " (3, 4),\n",
       " (4, 0),\n",
       " (4, 1),\n",
       " (4, 2),\n",
       " (4, 3),\n",
       " (4, 4)]"
      ]
     },
     "execution_count": 28,
     "metadata": {},
     "output_type": "execute_result"
    }
   ],
   "source": [
    "lst = [x**2 for x in num]\n",
    "lst = [x**2 for x in num if x%2==0]\n",
    "lst = [(x,y) for x in range(5) for y in range(5)]\n",
    "lst"
   ]
  },
  {
   "cell_type": "markdown",
   "id": "06c778d1",
   "metadata": {},
   "source": [
    "### Tuples:"
   ]
  },
  {
   "cell_type": "code",
   "execution_count": 29,
   "id": "54e2b928",
   "metadata": {},
   "outputs": [],
   "source": [
    "# packing:\n",
    "pack1 = 1,2,3\n",
    "pack2 = 1,'hello',2,'world',3"
   ]
  },
  {
   "cell_type": "code",
   "execution_count": 30,
   "metadata": {},
   "outputs": [],
   "source": [
    "# unpacking:\n",
    "a,b,c = pack1\n",
    "\n",
    "# multiple unpacking:\n",
    "z, *y, x = pack2"
   ]
  },
  {
   "cell_type": "code",
   "execution_count": 31,
   "id": "378137bc",
   "metadata": {},
   "outputs": [
    {
     "name": "stdout",
     "output_type": "stream",
     "text": [
      "a:  1\n",
      "b:  2\n",
      "c:  3\n",
      "z:  1\n",
      "y:  ['hello', 2, 'world']\n",
      "x:  3\n"
     ]
    }
   ],
   "source": [
    "print('a: ',a)\n",
    "print('b: ',b)\n",
    "print('c: ',c)\n",
    "# multiple values return \n",
    "print('z: ',z)\n",
    "print('y: ',y)\n",
    "print('x: ',x)"
   ]
  },
  {
   "cell_type": "code",
   "execution_count": 32,
   "id": "8585008f",
   "metadata": {},
   "outputs": [
    {
     "data": {
      "text/plain": [
       "(1, 2, 3, 1, 2, 3, 1, 2, 3)"
      ]
     },
     "execution_count": 32,
     "metadata": {},
     "output_type": "execute_result"
    }
   ],
   "source": [
    "m = (1,2,3)*3\n",
    "m"
   ]
  },
  {
   "cell_type": "markdown",
   "id": "69c15676",
   "metadata": {},
   "source": [
    "### Set:"
   ]
  },
  {
   "cell_type": "code",
   "execution_count": 33,
   "id": "6fe4e9f5",
   "metadata": {},
   "outputs": [
    {
     "data": {
      "text/plain": [
       "{1, 3, 4, 5, 23}"
      ]
     },
     "execution_count": 33,
     "metadata": {},
     "output_type": "execute_result"
    }
   ],
   "source": [
    "myset = {1,23,4,5,1,3}\n",
    "myset.add(1)\n",
    "myset"
   ]
  },
  {
   "cell_type": "code",
   "execution_count": 34,
   "metadata": {},
   "outputs": [
    {
     "data": {
      "text/plain": [
       "{1, 3, 4, 5}"
      ]
     },
     "execution_count": 34,
     "metadata": {},
     "output_type": "execute_result"
    }
   ],
   "source": [
    "myset.remove(23)\n",
    "myset"
   ]
  },
  {
   "cell_type": "code",
   "execution_count": 35,
   "metadata": {},
   "outputs": [
    {
     "data": {
      "text/plain": [
       "{1, 3, 4, 5}"
      ]
     },
     "execution_count": 35,
     "metadata": {},
     "output_type": "execute_result"
    }
   ],
   "source": [
    "myset.discard(10)\n",
    "myset"
   ]
  },
  {
   "cell_type": "code",
   "execution_count": 36,
   "id": "d629bb13",
   "metadata": {},
   "outputs": [
    {
     "name": "stdout",
     "output_type": "stream",
     "text": [
      "1\n",
      "{3, 4, 5}\n"
     ]
    }
   ],
   "source": [
    "rem_elm = myset.pop()\n",
    "print(rem_elm)\n",
    "print(myset)"
   ]
  },
  {
   "cell_type": "code",
   "execution_count": 37,
   "id": "c3fa785c",
   "metadata": {},
   "outputs": [
    {
     "data": {
      "text/plain": [
       "set()"
      ]
     },
     "execution_count": 37,
     "metadata": {},
     "output_type": "execute_result"
    }
   ],
   "source": [
    "myset.clear()\n",
    "myset"
   ]
  },
  {
   "cell_type": "code",
   "execution_count": 38,
   "id": "4e230faa",
   "metadata": {},
   "outputs": [
    {
     "name": "stdout",
     "output_type": "stream",
     "text": [
      "False\n",
      "True\n"
     ]
    }
   ],
   "source": [
    "ms = {1,2,3,4,5,6,7,8,9,0}\n",
    "print(10 in ms)\n",
    "print(1 in ms)\n"
   ]
  },
  {
   "cell_type": "code",
   "execution_count": 39,
   "metadata": {},
   "outputs": [
    {
     "name": "stdout",
     "output_type": "stream",
     "text": [
      "{1, 2, 3, 4, 5, 6, 7}\n",
      "{3, 4, 5}\n",
      "{1, 2, 3, 4, 5}\n",
      "{3, 4, 5}\n"
     ]
    }
   ],
   "source": [
    "\n",
    "## Mathematical Operation:\n",
    "\n",
    "s1 = {1,2,3,4,5}\n",
    "s2 = {3,4,5,6,7}\n",
    "\n",
    "## Union \n",
    "\n",
    "uni = s1.union(s2)\n",
    "print(uni)\n",
    "\n",
    "# intersection:\n",
    "inter = s1.intersection(s2)\n",
    "print(inter)\n",
    "\n",
    "# intersection update:\n",
    "print(s1)\n",
    "s1.intersection_update(s2)\n",
    "print(s1)"
   ]
  },
  {
   "cell_type": "code",
   "execution_count": 40,
   "id": "4689cd75",
   "metadata": {},
   "outputs": [
    {
     "name": "stdout",
     "output_type": "stream",
     "text": [
      "{1, 2}\n"
     ]
    }
   ],
   "source": [
    "s1 = {1,2,3,4,5}\n",
    "s2 = {3,4,5,6,7}\n",
    "dif = s1.difference(s2)\n",
    "print(dif)"
   ]
  },
  {
   "cell_type": "code",
   "execution_count": 41,
   "id": "6578ea3b",
   "metadata": {},
   "outputs": [
    {
     "data": {
      "text/plain": [
       "{1, 2}"
      ]
     },
     "execution_count": 41,
     "metadata": {},
     "output_type": "execute_result"
    }
   ],
   "source": [
    "s1.difference_update(s2)\n",
    "s1"
   ]
  },
  {
   "cell_type": "code",
   "execution_count": 42,
   "id": "a055ce68-f058-48cd-96ca-65725512b1e3",
   "metadata": {},
   "outputs": [
    {
     "name": "stdout",
     "output_type": "stream",
     "text": [
      "{1, 2, 6, 7}\n"
     ]
    },
    {
     "data": {
      "text/plain": [
       "{1, 2, 6, 7}"
      ]
     },
     "execution_count": 42,
     "metadata": {},
     "output_type": "execute_result"
    }
   ],
   "source": [
    "s1 = {1,2,3,4,5}\n",
    "s2 = {3,4,5,6,7}\n",
    "sym = s1.symmetric_difference(s2)\n",
    "print(sym)\n",
    "s1.symmetric_difference_update(s2)\n",
    "s1"
   ]
  },
  {
   "cell_type": "code",
   "execution_count": 43,
   "id": "65431ca5-1f28-4cb5-af61-c24337e9ccf3",
   "metadata": {},
   "outputs": [
    {
     "name": "stdout",
     "output_type": "stream",
     "text": [
      "False\n",
      "True\n"
     ]
    }
   ],
   "source": [
    "s1 = {1,2,3,4,5}\n",
    "s2 = {3,4,5}\n",
    "\n",
    "print(s1.issubset(s2))\n",
    "print(s1.issuperset(s2))"
   ]
  },
  {
   "cell_type": "code",
   "execution_count": 44,
   "id": "43c4dd0d-adc6-41e7-9ea7-3011b30acc63",
   "metadata": {},
   "outputs": [
    {
     "name": "stdout",
     "output_type": "stream",
     "text": [
      "words:  ['In', 'this', 'sets', 'tutorial', 'we', 'are', 'discussing', 'about', 'tutorial', 'sets']\n",
      "Unique Words:  {'we', 'this', 'In', 'tutorial', 'discussing', 'about', 'sets', 'are'}\n",
      "8\n"
     ]
    }
   ],
   "source": [
    "## Counting Unique words in text:\n",
    "\n",
    "text = \"In this sets tutorial we are discussing about tutorial sets\"\n",
    "words = text.split()\n",
    "print(\"words: \",words)\n",
    "unique = set(words)\n",
    "print('Unique Words: ',unique)\n",
    "print(len(unique))"
   ]
  },
  {
   "cell_type": "markdown",
   "id": "41d4fdc9-21e5-48b7-9470-75759ff8f841",
   "metadata": {},
   "source": [
    "### Dictionaries:"
   ]
  },
  {
   "cell_type": "code",
   "execution_count": 85,
   "id": "d34d588e-46fc-4988-a967-fdc5a83bd728",
   "metadata": {},
   "outputs": [
    {
     "data": {
      "text/plain": [
       "{'name': 'Ayush', 'age': 22}"
      ]
     },
     "execution_count": 85,
     "metadata": {},
     "output_type": "execute_result"
    }
   ],
   "source": [
    "# Single key is always used:\n",
    "\n",
    "dic = {'name': 'Ayu', 'age': 22, 'name': 'Ayush'}\n",
    "dic"
   ]
  },
  {
   "cell_type": "code",
   "execution_count": 89,
   "id": "f584b275-c218-4885-9681-22606154f3f6",
   "metadata": {},
   "outputs": [
    {
     "name": "stdout",
     "output_type": "stream",
     "text": [
      "A\n",
      "None\n",
      "Not Available\n"
     ]
    }
   ],
   "source": [
    "# get() method for dictionary:\n",
    "\n",
    "student = {'name': 'Ayu', 'age': 22, 'grade': 'A'}\n",
    "print(student.get('grade'))\n",
    "print(student.get('class'))\n",
    "print(student.get('class', 'Not Available'))"
   ]
  },
  {
   "cell_type": "code",
   "execution_count": 91,
   "id": "9826223a-32a3-4353-87cb-acb7410bd21b",
   "metadata": {},
   "outputs": [
    {
     "data": {
      "text/plain": [
       "{'name': 'Ayu', 'age': 27, 'grade': 'A', 'address': 'India'}"
      ]
     },
     "execution_count": 91,
     "metadata": {},
     "output_type": "execute_result"
    }
   ],
   "source": [
    "# Dictionary is Mutable:\n",
    "student['age'] = 27\n",
    "student['address'] = 'India'\n",
    "student"
   ]
  },
  {
   "cell_type": "code",
   "execution_count": 92,
   "id": "e772f25e-26f7-4daa-b0e5-f91ad17dde06",
   "metadata": {},
   "outputs": [
    {
     "data": {
      "text/plain": [
       "{'name': 'Ayu', 'age': 27, 'address': 'India'}"
      ]
     },
     "execution_count": 92,
     "metadata": {},
     "output_type": "execute_result"
    }
   ],
   "source": [
    "# Delete key:\n",
    "\n",
    "del student['grade']\n",
    "student"
   ]
  },
  {
   "cell_type": "code",
   "execution_count": 94,
   "id": "e0e83342-70dc-4598-95d2-e71adfe844ce",
   "metadata": {},
   "outputs": [
    {
     "name": "stdout",
     "output_type": "stream",
     "text": [
      "dict_keys(['name', 'age', 'address'])\n",
      "dict_values(['Ayu', 27, 'India'])\n",
      "dict_items([('name', 'Ayu'), ('age', 27), ('address', 'India')])\n"
     ]
    }
   ],
   "source": [
    "keys = student.keys()\n",
    "print(keys)\n",
    "values = student.values()\n",
    "print(values)\n",
    "items = student.items()\n",
    "print(items)"
   ]
  },
  {
   "cell_type": "code",
   "execution_count": 97,
   "id": "8af67bdb-fa40-4242-a30f-4dcacfea3885",
   "metadata": {},
   "outputs": [
    {
     "name": "stdout",
     "output_type": "stream",
     "text": [
      "stu:  {'name': 'Ayu3', 'age': 27, 'address': 'India'}\n",
      "student:  {'name': 'Ayu2', 'age': 27, 'address': 'India'}\n",
      "stu:  {'name': 'Ayu2', 'age': 27, 'address': 'India'}\n"
     ]
    }
   ],
   "source": [
    "## Shallow Copy:\n",
    "stu = student\n",
    "print('stu: ', stu)\n",
    "student['name'] = 'Ayu2'\n",
    "print('student: ', student)\n",
    "print('stu: ', stu)"
   ]
  },
  {
   "cell_type": "code",
   "execution_count": null,
   "id": "08cec8fc-8b6d-4b51-8b84-7d36386f73a3",
   "metadata": {},
   "outputs": [
    {
     "name": "stdout",
     "output_type": "stream",
     "text": [
      "stu2:  {'name': 'Ayu2', 'age': 27, 'address': 'India'}\n",
      "student:  {'name': 'Ayu3', 'age': 27, 'address': 'India'}\n",
      "stu2:  {'name': 'Ayu2', 'age': 27, 'address': 'India'}\n"
     ]
    }
   ],
   "source": [
    "## Deep copy: \n",
    "stu2 = student.copy()\n",
    "print('stu2: ', stu2)\n",
    "student['name'] = 'Ayu3'\n",
    "print('student: ', student)\n",
    "print('stu2: ', stu2)\n",
    "\n"
   ]
  },
  {
   "cell_type": "code",
   "execution_count": 99,
   "id": "354adc0c-3b54-475c-a008-acc532b24853",
   "metadata": {},
   "outputs": [],
   "source": [
    "# Nested dictionary:\n",
    "School = {\n",
    "    'student1' : {'name': 'Ayu', 'age': 22, 'grade': 'A'},\n",
    "    'student2' : {'name': 'Pri', 'age': 20, 'grade': 'A'},\n",
    "    'student3' : {'name': 'AP', 'age': 18, 'grade': 'A'},\n",
    "}"
   ]
  },
  {
   "cell_type": "code",
   "execution_count": 101,
   "id": "b1072baf-92f8-41d7-8fe4-336748487bcb",
   "metadata": {},
   "outputs": [
    {
     "name": "stdout",
     "output_type": "stream",
     "text": [
      "StudentId: student1, Student Info: {'name': 'Ayu', 'age': 22, 'grade': 'A'}\n",
      "name: Ayu \n",
      "age: 22 \n",
      "grade: A \n",
      "StudentId: student2, Student Info: {'name': 'Pri', 'age': 20, 'grade': 'A'}\n",
      "name: Pri \n",
      "age: 20 \n",
      "grade: A \n",
      "StudentId: student3, Student Info: {'name': 'AP', 'age': 18, 'grade': 'A'}\n",
      "name: AP \n",
      "age: 18 \n",
      "grade: A \n"
     ]
    }
   ],
   "source": [
    "for student_id, student_info in School.items():\n",
    "    print(f\"StudentId: {student_id}, Student Info: {student_info}\")\n",
    "\n",
    "    for k, v in student_info.items():\n",
    "        print(f\"{k}: {v} \")"
   ]
  },
  {
   "cell_type": "code",
   "execution_count": 105,
   "id": "5de96f4c-94a5-4da8-aee5-5e7710371157",
   "metadata": {},
   "outputs": [
    {
     "name": "stdout",
     "output_type": "stream",
     "text": [
      "{1: 6, 2: 5, 8: 2, 6: 4, 4: 5, 3: 4, 5: 2, 7: 3}\n"
     ]
    }
   ],
   "source": [
    "# Dictionary Comphrehension:\n",
    "\n",
    "num = [1,2,8,6,4,3,4,5,6,7,7,6,5,4,3,2,1,1,2,3,8,2,3,1,4,6,7,4,2,1,1]\n",
    "\n",
    "count_dict = {x: num.count(x) for x in num}\n",
    "print(count_dict)"
   ]
  },
  {
   "cell_type": "code",
   "execution_count": null,
   "id": "58d77cb7-a55f-47bd-ba62-d5eb01c55afb",
   "metadata": {},
   "outputs": [
    {
     "name": "stdout",
     "output_type": "stream",
     "text": [
      "merge_dict: {'a': 1, 'b': 2, 'c': 3}\n",
      "merge_dict 2: {'a': 1, 'b': 2, 'c': 3}\n"
     ]
    }
   ],
   "source": [
    "# Merge 2 dictionaries:\n",
    "\n",
    "d1 = {'a': 1, 'b': 2}\n",
    "d2 = {'a': 1, 'c': 3}\n",
    "merge_dict= {**d1, **d2}\n",
    "print(f\"merge_dict: {merge_dict}\")\n",
    "\n",
    "md2 = d1|d2\n",
    "print(f\"merge_dict 2: {md2}\")"
   ]
  },
  {
   "cell_type": "markdown",
   "id": "6147e12a-84c9-4527-9fb1-bbb4165a758e",
   "metadata": {},
   "source": [
    "#### Real world usecases:"
   ]
  },
  {
   "cell_type": "code",
   "execution_count": 113,
   "id": "46413d36-6889-4136-9194-a6cdea1e162d",
   "metadata": {},
   "outputs": [
    {
     "name": "stdout",
     "output_type": "stream",
     "text": [
      "Positive Feedback count: 2\n",
      "User Feedback: \n",
      "- excellent work!\n",
      "- Great service!!\n",
      "- could be better\n",
      "- Very Setisfied\n",
      "- Worst experiance\n"
     ]
    }
   ],
   "source": [
    "# collect feedback: \n",
    "\n",
    "feedback = ['excellent work!', 'Great service!!', 'could be better', 'Very Setisfied']\n",
    "\n",
    "# adding new feedback:\n",
    "feedback.append('Worst experiance')\n",
    "\n",
    "# counting specific feedback:\n",
    "positive_feedback_count = sum(1 for comm in feedback if 'great' in comm.lower() or 'excellent' in comm.lower() )\n",
    "print(f\"Positive Feedback count: {positive_feedback_count}\")\n",
    "\n",
    "# printing all feedback\n",
    "print(\"User Feedback: \")\n",
    "for i in feedback:\n",
    "    print(f\"- {i}\")"
   ]
  },
  {
   "cell_type": "markdown",
   "id": "d43539b0-41a9-4ce8-a428-190c6ef810ba",
   "metadata": {},
   "source": [
    "## Section 5: \n",
    "\n"
   ]
  },
  {
   "cell_type": "code",
   "execution_count": 116,
   "id": "c9874c3a-2669-4226-9ef8-49fce2699d35",
   "metadata": {},
   "outputs": [
    {
     "data": {
      "text/plain": [
       "(2, 1, 2)"
      ]
     },
     "execution_count": 116,
     "metadata": {},
     "output_type": "execute_result"
    }
   ],
   "source": [
    "# Functions can return multiple parameters:\n",
    "\n",
    "def multiply(a,b):\n",
    "    return a*b, a, b\n",
    "\n",
    "multiply(1,2)"
   ]
  },
  {
   "cell_type": "code",
   "execution_count": 124,
   "id": "1273a656-5105-4ce8-9980-ebe47746fa42",
   "metadata": {},
   "outputs": [
    {
     "name": "stdout",
     "output_type": "stream",
     "text": [
      "True\n"
     ]
    }
   ],
   "source": [
    "# Checking for Password is weak or strong:\n",
    "\n",
    "def check_pass(new_pass):\n",
    "    \"\"\" This Function is check if new password is strong or weak. \"\"\"\n",
    "\n",
    "    if not any(i.isdigit() for i in new_pass):\n",
    "        return False\n",
    "    if not any(i.isupper for i in new_pass):\n",
    "        return False\n",
    "    if not any(i.islower for i in new_pass):\n",
    "        return False\n",
    "    if not any(i in \"~!@#$%^&*(){}:?><,.;\\'\\\"\" for i in new_pass):\n",
    "        return False\n",
    "    else:\n",
    "        return True\n",
    "\n",
    "print(check_pass(input('Write your Password: ')))"
   ]
  },
  {
   "cell_type": "code",
   "execution_count": 126,
   "id": "9938cba2-4181-4b58-a52d-fa55fc24402c",
   "metadata": {},
   "outputs": [
    {
     "name": "stdout",
     "output_type": "stream",
     "text": [
      "True\n"
     ]
    }
   ],
   "source": [
    "# String Palandrome:\n",
    "\n",
    "string = 'A man a plan a canal Panama'\n",
    "\n",
    "def check_palan(s):\n",
    "    s = s.lower().replace(' ','')\n",
    "    return s==s[::-1]\n",
    "\n",
    "print(check_palan(string))"
   ]
  },
  {
   "cell_type": "code",
   "execution_count": 129,
   "id": "245f6814-450e-486d-b3ab-d97663654271",
   "metadata": {},
   "outputs": [
    {
     "name": "stdout",
     "output_type": "stream",
     "text": [
      "6\n"
     ]
    }
   ],
   "source": [
    "# Factorial Recursion function:\n",
    "\n",
    "def fact(num):\n",
    "    if num==1 or num==0:\n",
    "        return 1\n",
    "    else:\n",
    "        return (num * fact(num-1))\n",
    "print(fact(3))"
   ]
  },
  {
   "cell_type": "code",
   "execution_count": 151,
   "id": "c6a14bff-fd09-45a1-bcfd-d6fae9e42a55",
   "metadata": {},
   "outputs": [
    {
     "name": "stdout",
     "output_type": "stream",
     "text": [
      "{'1': 47, '2': 9, '0': 80, 'h': 2, 'e': 4, 'l': 4, 'o': 7, 'w': 5, 'r': 5, 'd': 3, ',': 1, 'm': 2, 'y': 2, 'n': 2, 'a': 4, 'i': 4, 's': 3, 'u': 2, 'p': 2, 'c': 1, 't': 1}\n"
     ]
    }
   ],
   "source": [
    "\n",
    "# character & Word count in file: \n",
    "\n",
    "def word_count(file_path):\n",
    "    words_dic = {}\n",
    "    with open(file_path, 'r') as file: \n",
    "        for line in file:\n",
    "            lst_line = line.strip().split()\n",
    "            for word in lst_line:\n",
    "                word = word.lower().strip(' !@#$%^&*()_+')\n",
    "                # words_dic[word] = words_dic.get(word,0)+1\n",
    "                for i in word:\n",
    "                    words_dic[i] = words_dic.get(i, 0) +1\n",
    "    \n",
    "    return words_dic\n",
    "\n",
    "file_path = 'test.txt'\n",
    "print(word_count(file_path))"
   ]
  },
  {
   "cell_type": "code",
   "execution_count": 152,
   "id": "560fe491-2c95-448d-8f72-e6ccba1340db",
   "metadata": {},
   "outputs": [
    {
     "data": {
      "text/plain": [
       "['man', '!@#$a', 'plan', 'a-_canal', 'Panama']"
      ]
     },
     "execution_count": 152,
     "metadata": {},
     "output_type": "execute_result"
    }
   ],
   "source": [
    "string = '            !@#$      A man !@#$a plan a-_canal Panama!@#$'\n",
    "string.strip(' A!@#$%^&*()__+\\'\"').split()"
   ]
  },
  {
   "cell_type": "code",
   "execution_count": 154,
   "id": "dd41a0b1",
   "metadata": {},
   "outputs": [
    {
     "name": "stdout",
     "output_type": "stream",
     "text": [
      "Your email: ayushsilarpuria@gmail.com  is True\n"
     ]
    }
   ],
   "source": [
    "# Validate email address: \n",
    "\n",
    "import re\n",
    "\n",
    "def validate_email(email):\n",
    "\n",
    "    pattern = r'^[a-zA-Z0-9_.+-]+@[a-zA-Z0-9-]+.[a-zA-Z0-9-]+$'\n",
    "    return re.match(pattern, email) is not None\n",
    "\n",
    "typeemail = input('Enter your email : ')\n",
    "print(f'Your email: {typeemail}  is {validate_email(typeemail)}')"
   ]
  },
  {
   "cell_type": "markdown",
   "id": "dcc47edc",
   "metadata": {},
   "source": [
    "#### Lambda Function in Python:"
   ]
  },
  {
   "cell_type": "code",
   "execution_count": 46,
   "id": "0f70e825",
   "metadata": {},
   "outputs": [],
   "source": [
    "# lambda arguments: expression"
   ]
  },
  {
   "cell_type": "code",
   "execution_count": 47,
   "id": "24f0c48e",
   "metadata": {},
   "outputs": [
    {
     "name": "stdout",
     "output_type": "stream",
     "text": [
      "11\n"
     ]
    }
   ],
   "source": [
    "addition = lambda a,b : a+b\n",
    "type(addition)\n",
    "print(addition(5,6))"
   ]
  },
  {
   "cell_type": "code",
   "execution_count": 48,
   "id": "4b51f8a5",
   "metadata": {},
   "outputs": [
    {
     "name": "stdout",
     "output_type": "stream",
     "text": [
      "True\n"
     ]
    }
   ],
   "source": [
    "even1 = lambda num: num%2 ==0\n",
    "print(even1(12))"
   ]
  },
  {
   "cell_type": "code",
   "execution_count": 49,
   "id": "cd8edee7",
   "metadata": {},
   "outputs": [
    {
     "data": {
      "text/plain": [
       "194"
      ]
     },
     "execution_count": 49,
     "metadata": {},
     "output_type": "execute_result"
    }
   ],
   "source": [
    "add = lambda x,y,z : x+y*z\n",
    "add(12,13,14)"
   ]
  },
  {
   "cell_type": "code",
   "execution_count": 50,
   "id": "ef128fe5-217a-48a6-844d-87399f5b1d24",
   "metadata": {},
   "outputs": [],
   "source": [
    "# map():"
   ]
  },
  {
   "cell_type": "code",
   "execution_count": 51,
   "id": "0238b6e1",
   "metadata": {},
   "outputs": [
    {
     "data": {
      "text/plain": [
       "[1, 4, 9, 16, 25, 36, 49, 64, 81, 100]"
      ]
     },
     "execution_count": 51,
     "metadata": {},
     "output_type": "execute_result"
    }
   ],
   "source": [
    "num = [1,2,3,4,5,6,7,8,9,10]\n",
    "sqr = map(lambda z: z**2, num)\n",
    "list(sqr)"
   ]
  },
  {
   "cell_type": "code",
   "execution_count": 52,
   "id": "a202cd90",
   "metadata": {},
   "outputs": [
    {
     "name": "stdout",
     "output_type": "stream",
     "text": [
      "[5, 7, 9]\n"
     ]
    }
   ],
   "source": [
    "n1 = [1,2,3]\n",
    "n2 = [4,5,6]\n",
    "\n",
    "add_multi_itr = map(lambda x,y: x+y, n1,n2)\n",
    "print(list(add_multi_itr))"
   ]
  },
  {
   "cell_type": "code",
   "execution_count": 53,
   "id": "9553713d-1533-41d4-94a0-b0bd600f9ece",
   "metadata": {},
   "outputs": [
    {
     "name": "stdout",
     "output_type": "stream",
     "text": [
      "[1, 2, 3, 4, 5, 6]\n"
     ]
    }
   ],
   "source": [
    "str_num = ['1','2','3','4','5','6']\n",
    "int_num = list(map(int,str_num))\n",
    "print(int_num)"
   ]
  },
  {
   "cell_type": "code",
   "execution_count": 54,
   "id": "2cb787ee-a641-4f21-bee3-8cf9faf20daa",
   "metadata": {},
   "outputs": [
    {
     "name": "stdout",
     "output_type": "stream",
     "text": [
      "['APPLE', 'BANANA', 'CHERRY']\n"
     ]
    }
   ],
   "source": [
    "words = ['apple','banana', 'cherry']\n",
    "up_wrd = list(map(str.upper, words))\n",
    "print(up_wrd)"
   ]
  },
  {
   "cell_type": "code",
   "execution_count": 55,
   "id": "0a95ff2d-a9f8-4348-a31c-1023da48311b",
   "metadata": {},
   "outputs": [
    {
     "data": {
      "text/plain": [
       "['Ayush', 'Jack']"
      ]
     },
     "execution_count": 55,
     "metadata": {},
     "output_type": "execute_result"
    }
   ],
   "source": [
    "people = [\n",
    "    {'name':'Ayush', 'age':29},\n",
    "    {'name':'Jack', 'age': 33}\n",
    "]\n",
    "\n",
    "list(map(lambda x: x['name'], people))"
   ]
  },
  {
   "cell_type": "code",
   "execution_count": 56,
   "id": "b2b596e3-6f7b-478b-91f6-436716ad3681",
   "metadata": {},
   "outputs": [
    {
     "data": {
      "text/plain": [
       "['Ayush', 'Jack']"
      ]
     },
     "execution_count": 56,
     "metadata": {},
     "output_type": "execute_result"
    }
   ],
   "source": [
    "def get_name(person):\n",
    "    return person['name']\n",
    "list(map(get_name, people))"
   ]
  },
  {
   "cell_type": "code",
   "execution_count": 57,
   "id": "19c84d4e-7207-4178-921b-869e8573829e",
   "metadata": {},
   "outputs": [],
   "source": [
    "# Filter: "
   ]
  },
  {
   "cell_type": "code",
   "execution_count": 58,
   "id": "0db5091d-1676-4fa8-97f3-caf11c33f7d1",
   "metadata": {},
   "outputs": [
    {
     "data": {
      "text/plain": [
       "[2, 4, 6, 8, 10, 12]"
      ]
     },
     "execution_count": 58,
     "metadata": {},
     "output_type": "execute_result"
    }
   ],
   "source": [
    "lst= [1,2,3,4,5,6,7,8,9,10,11,12]\n",
    "list(filter(lambda x:x%2==0, lst))"
   ]
  },
  {
   "cell_type": "code",
   "execution_count": 59,
   "id": "eb9d61cb-0af0-46e6-9a36-be9f161dd1d2",
   "metadata": {},
   "outputs": [
    {
     "data": {
      "text/plain": [
       "[6, 8, 10, 12]"
      ]
     },
     "execution_count": 59,
     "metadata": {},
     "output_type": "execute_result"
    }
   ],
   "source": [
    "list(filter(lambda x: x>5 and x%2==0, lst))"
   ]
  },
  {
   "cell_type": "code",
   "execution_count": 60,
   "id": "3c595efc-7279-4705-b60a-753794f3dd6f",
   "metadata": {},
   "outputs": [
    {
     "data": {
      "text/plain": [
       "[{'name': 'Ayush', 'age': 29}, {'name': 'Jack', 'age': 33}]"
      ]
     },
     "execution_count": 60,
     "metadata": {},
     "output_type": "execute_result"
    }
   ],
   "source": [
    "people = [\n",
    "    {'name':'Ayush', 'age':29},\n",
    "    {'name':'Jack', 'age': 33},\n",
    "    {'name':'Jone', 'age': 35}\n",
    "]\n",
    "\n",
    "list(filter(lambda person:person['age']<35,people))"
   ]
  },
  {
   "cell_type": "markdown",
   "id": "53c424a2-d728-405c-ac49-547af2f71b34",
   "metadata": {
    "jp-MarkdownHeadingCollapsed": true
   },
   "source": [
    "### Module 4: Advanced Functions Assignments"
   ]
  },
  {
   "cell_type": "markdown",
   "id": "4b4279b5-6ce3-45c7-8619-bf9f299c2acf",
   "metadata": {},
   "source": [
    "Assignment 1: Fibonacci Sequence with Memoization\n",
    "- Define a recursive function to calculate the nth Fibonacci number using memoization. Test the function with different inputs.\n"
   ]
  },
  {
   "cell_type": "code",
   "execution_count": 61,
   "id": "8b037ea4-c32b-498c-b13d-d7ee4b4685f7",
   "metadata": {},
   "outputs": [
    {
     "data": {
      "text/plain": [
       "[0, 1, 1, 2, 3, 5, 8, 13, 21, 34, 55]"
      ]
     },
     "execution_count": 61,
     "metadata": {},
     "output_type": "execute_result"
    }
   ],
   "source": [
    "def fibonacci(num):\n",
    "    a=0\n",
    "    b=1\n",
    "    lst = [0,1]\n",
    "    if num <= 1:\n",
    "        return lst\n",
    "    else:\n",
    "        count = 1\n",
    "        while num>count:\n",
    "            count += 1\n",
    "            c = a+b\n",
    "            a = b\n",
    "            b = c\n",
    "            lst.append(b)\n",
    "    return lst\n",
    "\n",
    "fibonacci(10)"
   ]
  },
  {
   "cell_type": "code",
   "execution_count": 62,
   "id": "8ff2a066-eac9-4670-9736-61c89ce5a422",
   "metadata": {},
   "outputs": [
    {
     "name": "stdout",
     "output_type": "stream",
     "text": [
      "55\n",
      "610\n"
     ]
    }
   ],
   "source": [
    "def fibo(n, mem = []):\n",
    "    if n in mem:\n",
    "        return mem[n]\n",
    "    if n<=1:\n",
    "        return n\n",
    "    return fibo(n-1,mem) + fibo(n-2, mem)\n",
    "print(fibo(10))\n",
    "print(fibo(15))"
   ]
  },
  {
   "cell_type": "markdown",
   "id": "dcb5bbca-b890-45d6-ad86-fe36f7cc7e7a",
   "metadata": {},
   "source": [
    "Assignment 2: Function with Nested Default Arguments\n",
    "- Define a function that takes two arguments, a and b, where b is a dictionary with a default value of an empty dictionary. The function should add a new key-value pair to the dictionary and return it. Test the function with different inputs."
   ]
  },
  {
   "cell_type": "code",
   "execution_count": 156,
   "id": "15d71962-ff4e-43b6-a223-cbbd07d955ff",
   "metadata": {},
   "outputs": [
    {
     "name": "stdout",
     "output_type": "stream",
     "text": [
      "{2: 4}\n",
      "{1: 1, 3: 9}\n"
     ]
    }
   ],
   "source": [
    "def nest(a,b=None):\n",
    "    if b is None:\n",
    "        b={}\n",
    "    b[a] = a**2\n",
    "    return b\n",
    "\n",
    "print(nest(2))\n",
    "print(nest(3,{1:1}))"
   ]
  },
  {
   "cell_type": "markdown",
   "id": "45d0c9fb-13ad-417a-9249-96070da1c327",
   "metadata": {},
   "source": [
    "Assignment 3: Function with Variable Keyword Arguments\n",
    "- Define a function that takes a variable number of keyword arguments and returns a dictionary containing only those key-value pairs where the value is an integer. Test the function with different inputs."
   ]
  },
  {
   "cell_type": "code",
   "execution_count": 64,
   "id": "e3849366-0036-4b79-9392-b69deb3cd925",
   "metadata": {},
   "outputs": [
    {
     "name": "stdout",
     "output_type": "stream",
     "text": [
      "{'a': 1}\n",
      "{'a': 1, 'c': 44}\n"
     ]
    }
   ],
   "source": [
    "def variable(**kwargs):\n",
    "    return {k:v for k,v in kwargs.items() if isinstance(v,int)}\n",
    "print(variable(a=1,b='a',c='2',d=9.4))\n",
    "\n",
    "print(variable(a=int('1'),b='a',c=44,d=9.4))"
   ]
  },
  {
   "cell_type": "markdown",
   "id": "d6660508-be7e-4ca6-ac9f-1bded3efb614",
   "metadata": {},
   "source": [
    "Assignment 4: Function with Callback\n",
    "- Define a function that takes another function as a callback and a list of integers. The function should apply the callback to each integer in the list and return a new list with the results. Test with different callback functions."
   ]
  },
  {
   "cell_type": "code",
   "execution_count": 65,
   "id": "29d3a423-4fe2-4d3e-a632-34b886fa4b9a",
   "metadata": {},
   "outputs": [
    {
     "name": "stdout",
     "output_type": "stream",
     "text": [
      "[1, 4, 9, 16]\n",
      "[3, 4, 5, 6]\n"
     ]
    }
   ],
   "source": [
    "lst = [1,2,3,4]\n",
    "def cb(callback, llstt):\n",
    "    return [callback(i) for i in llstt]\n",
    "print(cb(lambda i: i**2, lst))\n",
    "print(cb(lambda i: i+2, lst))"
   ]
  },
  {
   "cell_type": "markdown",
   "id": "204e3931-fa06-4a14-83bb-77047528b1f4",
   "metadata": {},
   "source": [
    "Assignment 5: Function that Returns a Function\n",
    "- Define a function that returns another function. The returned function should take an integer and return its square. Test the returned function with different inputs."
   ]
  },
  {
   "cell_type": "code",
   "execution_count": 66,
   "id": "465e89fc-f3ed-4899-86ea-fb4e27468002",
   "metadata": {},
   "outputs": [
    {
     "name": "stdout",
     "output_type": "stream",
     "text": [
      "4\n"
     ]
    }
   ],
   "source": [
    "def func():\n",
    "    return lambda x: x**2\n",
    "var = func()\n",
    "print(var(2))"
   ]
  },
  {
   "cell_type": "code",
   "execution_count": 67,
   "id": "763f0fd5-8911-4606-91b8-75f37437a653",
   "metadata": {},
   "outputs": [
    {
     "name": "stdout",
     "output_type": "stream",
     "text": [
      "4\n"
     ]
    }
   ],
   "source": [
    "def outer():\n",
    "    def inner(x):\n",
    "        return x**2\n",
    "    return inner\n",
    "\n",
    "sqr = outer()\n",
    "print(sqr(2))"
   ]
  },
  {
   "cell_type": "markdown",
   "id": "d20f213f-0c9a-4c92-ac91-fc8e3290baaa",
   "metadata": {},
   "source": [
    "Assignment 6: Function with Decorators\n",
    "- Define a function that calculates the time taken to execute another function. Apply this decorator to a function that performs a complex calculation. Test the decorated function with different inputs."
   ]
  },
  {
   "cell_type": "code",
   "execution_count": 68,
   "id": "04ced12b-95cb-4c7d-8094-fca1cd160408",
   "metadata": {},
   "outputs": [
    {
     "name": "stdout",
     "output_type": "stream",
     "text": [
      "Time Start 1758214929.0783396\n",
      "Time End 1758214929.084278\n",
      "Time taken 0.005938529968261719\n",
      "333283335000\n"
     ]
    }
   ],
   "source": [
    "import time\n",
    "def decorat(fn):\n",
    "    def wrap(*args, **kwargs):\n",
    "        t_start = time.time()\n",
    "        print(f\"Time Start {t_start}\")\n",
    "        result = fn(*args, **kwargs)\n",
    "        t_end = time.time()\n",
    "        print(f\"Time End {t_end}\")\n",
    "        print(f\"Time taken {t_end - t_start}\")\n",
    "        return result\n",
    "    return wrap\n",
    "\n",
    "@decorat\n",
    "def power(a):\n",
    "    return sum(x**2 for x in range(a))\n",
    "print(power(10000))"
   ]
  },
  {
   "cell_type": "markdown",
   "id": "0166124e-14fb-4530-bdc5-a8ab42ceb21f",
   "metadata": {},
   "source": [
    "Assignment 7: Higher-Order Function for Filtering and Mapping\n",
    "- Define a higher-order function that takes two functions, a filter function and a map function, along with a list of integers. The higher-order function should first filter the integers using the filter function and then apply the map function to the filtered integers. Test with different filter and map functions.\n",
    "\n"
   ]
  },
  {
   "cell_type": "code",
   "execution_count": 69,
   "id": "834179c5-4762-42db-b173-a3171a27f0dc",
   "metadata": {},
   "outputs": [
    {
     "name": "stdout",
     "output_type": "stream",
     "text": [
      "Filter: [1, 2, 3, 4, 5, 6]\n",
      "Map: [True, True, True, False, True, True, True, False]\n",
      "[1, 2, 3, 4, 5, 6]\n"
     ]
    }
   ],
   "source": [
    "def decorator(lst_int):\n",
    "    fi = list(filter(lambda x: isinstance(x,int),lst_int))\n",
    "    mapi = list(map(lambda x: isinstance(x,int),lst_int))\n",
    "    print(f'Filter: {fi}')\n",
    "    print(f'Map: {mapi}')\n",
    "    return fi\n",
    "lst = [1,2,3,'b',4,5,6,'a']\n",
    "dec = decorator(lst)\n",
    "print(f'{dec}')"
   ]
  },
  {
   "cell_type": "code",
   "execution_count": 70,
   "id": "a2bcd746-3860-4bb3-b46a-b74a499d369e",
   "metadata": {},
   "outputs": [
    {
     "name": "stdout",
     "output_type": "stream",
     "text": [
      "[4, 16]\n",
      "[5, 6, 7]\n"
     ]
    }
   ],
   "source": [
    "def high_ord(fil_fun, map_fun, lst):\n",
    "    return [map_fun(x) for x in lst if fil_fun(x)]\n",
    "\n",
    "print(high_ord(lambda x: x%2==0, lambda x: x**2,[1,2,3,4,5]))\n",
    "print(high_ord(lambda x: x>2, lambda x: x+2,[1,2,3,4,5]))"
   ]
  },
  {
   "cell_type": "markdown",
   "id": "a102b5bc-9de5-4049-a188-4eff14c16f4b",
   "metadata": {},
   "source": [
    "Assignment 8: Function Composition\n",
    "- Define a function that composes two functions, f and g, such that the result is f(g(x)). Test with different functions f and g."
   ]
  },
  {
   "cell_type": "code",
   "execution_count": 71,
   "id": "d32f41e8-47db-4b57-9d8d-269870b49b95",
   "metadata": {},
   "outputs": [
    {
     "name": "stdout",
     "output_type": "stream",
     "text": [
      "7\n",
      "9\n"
     ]
    }
   ],
   "source": [
    "def compose(f,g):\n",
    "    return lambda x: f(g(x))\n",
    "\n",
    "f = lambda x: x+1\n",
    "g = lambda x: x*2\n",
    "h = compose(f,g)\n",
    "print(h(3))\n",
    "print(h(4))"
   ]
  },
  {
   "cell_type": "markdown",
   "id": "44e0c519-645d-47e0-a021-46f6e8b99691",
   "metadata": {},
   "source": [
    "Assignment 9: Partial Function Application\n",
    "- Use the functools.partial function to create a new function that multiplies its input by 2. Test the new function with different inputs."
   ]
  },
  {
   "cell_type": "code",
   "execution_count": 72,
   "id": "072fc853-a213-46de-9b0a-fd623d7f0b94",
   "metadata": {},
   "outputs": [
    {
     "name": "stdout",
     "output_type": "stream",
     "text": [
      "6\n"
     ]
    }
   ],
   "source": [
    "from functools import partial\n",
    "\n",
    "multiply_input = partial(lambda x,y: x*y, 2)\n",
    "print(multiply_input(3))"
   ]
  },
  {
   "cell_type": "code",
   "execution_count": 73,
   "id": "eacf4506-e1dd-411b-bdcb-cd9ebd441940",
   "metadata": {},
   "outputs": [
    {
     "name": "stdout",
     "output_type": "stream",
     "text": [
      "hello:)\n",
      "world:)\n"
     ]
    }
   ],
   "source": [
    "from functools import partial\n",
    "happy = partial(print, end =':)\\n')\n",
    "happy('hello')\n",
    "happy('world')"
   ]
  },
  {
   "cell_type": "code",
   "execution_count": null,
   "id": "ada0fc96-cf37-401d-902e-aa563eaee62f",
   "metadata": {},
   "outputs": [
    {
     "name": "stdout",
     "output_type": "stream",
     "text": [
      "greetings\n",
      "this is greeting fucntion\n"
     ]
    }
   ],
   "source": [
    "from functools import wraps\n",
    "\n",
    "def decorator(func):\n",
    "    @wraps(func)\n",
    "    def wrpper(*args, **kwargs):\n",
    "        print(\"Inside Wrapper\")\n",
    "        value = func(*args, **kwargs)\n",
    "        print(\"Going Out Wrapper\")\n",
    "        return value\n",
    "    return wrpper\n",
    "\n",
    "@decorator\n",
    "def greetings():\n",
    "    '''this is greeting fucntion'''\n",
    "    print('Hello')\n",
    "print(greetings.__name__)\n",
    "print(greetings.__doc__)"
   ]
  },
  {
   "cell_type": "code",
   "execution_count": 75,
   "id": "31a1506e-9bf8-4a0a-812b-3d2ecdf86d97",
   "metadata": {},
   "outputs": [
    {
     "name": "stdout",
     "output_type": "stream",
     "text": [
      "Hello, 123\n"
     ]
    }
   ],
   "source": [
    "def greet(name: str) -> str:\n",
    "    return f\"Hello, {name}\"\n",
    "print(greet(123))"
   ]
  },
  {
   "cell_type": "markdown",
   "id": "1f14367f-3816-4690-8a53-7b49cd164ff2",
   "metadata": {},
   "source": [
    "Assignment 10: Function with Error Handling¶\n",
    "- Define a function that takes a list of integers and returns their average. The function should handle any errors that occur (e.g., empty list) and return None in such cases. Test with different inputs."
   ]
  },
  {
   "cell_type": "code",
   "execution_count": 76,
   "id": "5df0b325-8dde-42c9-bcfc-ce4df0e00a03",
   "metadata": {},
   "outputs": [
    {
     "name": "stdout",
     "output_type": "stream",
     "text": [
      "2.0\n",
      "Average calculated Successfully..!!\n",
      "This is average calculation..!!\n"
     ]
    }
   ],
   "source": [
    "def avg(lst):    \n",
    "        average = sum(lst) / len(lst)\n",
    "        return average\n",
    "ll = [1,2,3]\n",
    "\n",
    "try:\n",
    "    print(avg(ll))\n",
    "except Exception as e:\n",
    "    print(f'error: {e}')\n",
    "else:\n",
    "    print('Average calculated Successfully..!!')\n",
    "finally:\n",
    "    print(f'This is average calculation..!!')\n",
    "\n",
    "\n",
    "\n",
    "    "
   ]
  },
  {
   "cell_type": "code",
   "execution_count": 77,
   "id": "3eea9649-dc63-40e0-af9c-1f1260233571",
   "metadata": {},
   "outputs": [
    {
     "name": "stdout",
     "output_type": "stream",
     "text": [
      "3.0\n",
      "None\n"
     ]
    }
   ],
   "source": [
    "def average(lst):\n",
    "    try:\n",
    "        return sum(lst)/len(lst)\n",
    "    except ZeroDivisionError:\n",
    "        return None\n",
    "print(average([1,2,3,4,5]))\n",
    "print(average([]))"
   ]
  },
  {
   "cell_type": "markdown",
   "id": "e7fc6d77-9936-4d2a-a641-175d07dd45e7",
   "metadata": {},
   "source": [
    "Assignment 11: Function with Generators\n",
    "- Define a function that generates an infinite sequence of Fibonacci numbers. Test by printing the first 10 numbers in the sequence."
   ]
  },
  {
   "cell_type": "code",
   "execution_count": 78,
   "id": "d2b7647d-fccd-437a-b58f-4dbb04b3ec7b",
   "metadata": {},
   "outputs": [
    {
     "name": "stdout",
     "output_type": "stream",
     "text": [
      "0\n",
      "1\n",
      "1\n",
      "2\n",
      "3\n",
      "5\n",
      "8\n",
      "13\n",
      "21\n",
      "34\n"
     ]
    }
   ],
   "source": [
    "def fib():\n",
    "    a,b = 0,1\n",
    "    while True:\n",
    "        yield a\n",
    "        a,b = b, a+b\n",
    "\n",
    "f = fib()\n",
    "for i in range(10):\n",
    "    print(next(f))"
   ]
  },
  {
   "cell_type": "code",
   "execution_count": 79,
   "id": "d6d00045-b31b-4896-ac6b-1b7c3536f381",
   "metadata": {},
   "outputs": [
    {
     "name": "stdout",
     "output_type": "stream",
     "text": [
      "1\n",
      "2\n",
      "3\n",
      "4\n"
     ]
    }
   ],
   "source": [
    "def countt(max):\n",
    "    cnt = 1\n",
    "    while max>cnt:\n",
    "        yield cnt\n",
    "        cnt += 1\n",
    "crt = countt(5)\n",
    "for i in crt:\n",
    "    print(i)\n",
    "    "
   ]
  },
  {
   "cell_type": "code",
   "execution_count": 80,
   "id": "3887888c-a73d-4b73-b651-e7ceee1078c9",
   "metadata": {},
   "outputs": [
    {
     "name": "stdout",
     "output_type": "stream",
     "text": [
      "0\n",
      "1\n",
      "1\n",
      "2\n",
      "3\n",
      "5\n",
      "8\n",
      "13\n",
      "21\n",
      "34\n"
     ]
    }
   ],
   "source": [
    "def fibb(n):\n",
    "    a,b = 0,1\n",
    "    cnt = 1\n",
    "    while n>=cnt:\n",
    "        cnt += 1\n",
    "        yield a\n",
    "        a,b = b,a+b\n",
    "\n",
    "f = fibb(10)\n",
    "for i in f:\n",
    "    print(i)\n",
    "        "
   ]
  },
  {
   "cell_type": "markdown",
   "id": "b876f8ba-e80d-42ec-8d20-21afcb7f0a11",
   "metadata": {},
   "source": [
    "Assignment 12: Currying\n",
    "- Define a curried function that takes three arguments, one at a time, and returns their product. Test the function by providing arguments one at a time."
   ]
  },
  {
   "cell_type": "code",
   "execution_count": 81,
   "id": "d872512d-9550-4c77-af00-a779522801a9",
   "metadata": {},
   "outputs": [
    {
     "name": "stdout",
     "output_type": "stream",
     "text": [
      "24\n",
      "30\n"
     ]
    }
   ],
   "source": [
    "def curry_product(a):\n",
    "    def outer_prod(b):\n",
    "        def inner_prod(c):\n",
    "            return a*b*c\n",
    "        return inner_prod\n",
    "    return outer_prod\n",
    "print(curry_product(4)(2)(3))\n",
    "print(curry_product(1)(5)(6))"
   ]
  },
  {
   "cell_type": "markdown",
   "id": "6c776d43-92f2-46fe-986a-2fe2d47c2f2d",
   "metadata": {},
   "source": [
    "Assignment 13: Function with Context Manager\n",
    "- Define a function that uses a context manager to write a list of integers to a file. The function should handle any errors that occur during file operations. Test with different lists."
   ]
  },
  {
   "cell_type": "code",
   "execution_count": 82,
   "id": "e241e7a9-d119-4166-9973-01a6958fbb65",
   "metadata": {},
   "outputs": [
    {
     "name": "stdout",
     "output_type": "stream",
     "text": [
      "1\n",
      "2\n",
      "3\n",
      "4\n",
      "5\n",
      "\n"
     ]
    }
   ],
   "source": [
    "def write_file(lst, file_n):\n",
    "    try:\n",
    "        with open(file_n, 'w') as f:\n",
    "            for num in lst:\n",
    "                f.write(f\"{num}\\n\")\n",
    "    except IOError as e:\n",
    "        print(f\"An exception error occure: {e}\")\n",
    "l = [1,2,3,4,5]\n",
    "file_n = 'test.xlsx'\n",
    "write_file(l, file_n)\n",
    "\n",
    "with open(file_n) as r:\n",
    "    print(r.read())"
   ]
  },
  {
   "cell_type": "markdown",
   "id": "af761815-ae57-4846-a719-d966996ae755",
   "metadata": {},
   "source": [
    "Assignment 14: Function with Multiple Return Types\n",
    "- Define a function that takes a list of mixed data types (integers, strings, and floats) and returns three lists: one containing all the integers, one containing all the strings, and one containing all the floats. Test with different inputs."
   ]
  },
  {
   "cell_type": "code",
   "execution_count": 83,
   "id": "ff269ec0-ce87-40e4-aee0-29dd35ecb50b",
   "metadata": {},
   "outputs": [
    {
     "name": "stdout",
     "output_type": "stream",
     "text": [
      "([1, 2], ['a', 'Hello'], [4.4, 2.67])\n"
     ]
    }
   ],
   "source": [
    "def mix_dt(lst):\n",
    "    ints, strs, flts = [],[],[]\n",
    "    for i in lst:\n",
    "        if isinstance(i, int):\n",
    "            ints.append(i)\n",
    "        elif isinstance(i, str):\n",
    "            strs.append(i)\n",
    "        elif isinstance(i, float):\n",
    "            flts.append(i)\n",
    "    return ints, strs, flts\n",
    "\n",
    "l = [1,2,4.4,2.67,'a','Hello']\n",
    "print(mix_dt(l))\n",
    "            "
   ]
  },
  {
   "cell_type": "markdown",
   "id": "2b6d6f80-d812-461a-acc9-e41b981de789",
   "metadata": {},
   "source": [
    "Assignment 15: Function with State\n",
    "- Define a function that maintains state between calls using a mutable default argument. The function should keep track of how many times it has been called. Test by calling the function multiple times."
   ]
  },
  {
   "cell_type": "code",
   "execution_count": 84,
   "id": "3d75b777-47fa-4cdb-8a36-86b3dc118b5f",
   "metadata": {},
   "outputs": [
    {
     "name": "stdout",
     "output_type": "stream",
     "text": [
      "5\n",
      "6\n",
      "7\n",
      "8\n"
     ]
    }
   ],
   "source": [
    "def call_counter(counter={'count':0}):\n",
    "    counter['count'] += 1\n",
    "    return counter['count']\n",
    "\n",
    "call_counter()\n",
    "call_counter()\n",
    "call_counter()\n",
    "call_counter()\n",
    "print(call_counter())\n",
    "print(call_counter())\n",
    "print(call_counter())\n",
    "print(call_counter())"
   ]
  },
  {
   "cell_type": "markdown",
   "id": "7edf5b01-88ec-40d0-a9f1-811ea0e68523",
   "metadata": {},
   "source": [
    "## Section - 8: "
   ]
  },
  {
   "cell_type": "markdown",
   "id": "b9de2427-6a85-4e02-b08d-a5a1d79b1644",
   "metadata": {},
   "source": [
    "#### Modules and Packages:"
   ]
  },
  {
   "cell_type": "code",
   "execution_count": 16,
   "id": "3afe366c-3beb-49a3-982f-db82b8effd15",
   "metadata": {},
   "outputs": [
    {
     "name": "stdout",
     "output_type": "stream",
     "text": [
      "3.141592653589793\n",
      "2.0\n"
     ]
    }
   ],
   "source": [
    "from math import sqrt, pi\n",
    "print(pi)\n",
    "print(sqrt(4))"
   ]
  },
  {
   "cell_type": "code",
   "execution_count": 13,
   "id": "3574dc25-cbda-45e4-8340-893a87061f2c",
   "metadata": {},
   "outputs": [
    {
     "name": "stdout",
     "output_type": "stream",
     "text": [
      "11\n"
     ]
    }
   ],
   "source": [
    "from Package.maths import addition\n",
    "print(addition(9,2))"
   ]
  },
  {
   "cell_type": "code",
   "execution_count": 15,
   "id": "7680e2e3-48b7-46d2-b063-59b5768e7169",
   "metadata": {},
   "outputs": [
    {
     "name": "stdout",
     "output_type": "stream",
     "text": [
      "8\n"
     ]
    }
   ],
   "source": [
    "from Package import maths \n",
    "print(maths.addition(4,4))"
   ]
  },
  {
   "cell_type": "markdown",
   "id": "eafc1e79-8f44-4ae4-8edb-75ae20caf0ae",
   "metadata": {},
   "source": [
    "#### Standard Libraries Overview: "
   ]
  },
  {
   "cell_type": "code",
   "execution_count": 22,
   "id": "38f6038b-1741-4524-9246-76625b0f290f",
   "metadata": {},
   "outputs": [
    {
     "name": "stdout",
     "output_type": "stream",
     "text": [
      "5 4 3 2 1\n"
     ]
    }
   ],
   "source": [
    "# Array: \n",
    "import array as ar\n",
    "a = ar.array('i', [1,2,3,4,5])\n",
    "\n",
    "a.reverse()\n",
    "print(*a)"
   ]
  },
  {
   "cell_type": "code",
   "execution_count": 23,
   "id": "8f14ba96-ad4b-45fb-aac1-e74c482f9481",
   "metadata": {},
   "outputs": [
    {
     "name": "stdout",
     "output_type": "stream",
     "text": [
      "4.0\n",
      "3.141592653589793\n"
     ]
    }
   ],
   "source": [
    "import math\n",
    "\n",
    "print(math.sqrt(16))\n",
    "print(math.pi)"
   ]
  },
  {
   "cell_type": "code",
   "execution_count": 29,
   "id": "b73596ea-5aae-4913-9e8e-ca298b7d6eab",
   "metadata": {},
   "outputs": [
    {
     "name": "stdout",
     "output_type": "stream",
     "text": [
      "6\n",
      "5\n",
      "0.6229016948897019\n"
     ]
    }
   ],
   "source": [
    "import random\n",
    "\n",
    "print(random.randint(1,10))\n",
    "\n",
    "l1 = [1,2,3,4,5]\n",
    "print(random.choice(l1))\n",
    "random.seed(5)\n",
    "print(random.random())"
   ]
  },
  {
   "cell_type": "code",
   "execution_count": 31,
   "id": "8bd67219",
   "metadata": {},
   "outputs": [
    {
     "name": "stdout",
     "output_type": "stream",
     "text": [
      "Current Dir:  d:\\Projects\\R&D\\Python_Bootcamp\\ds,ml,dl,nlp\n"
     ]
    }
   ],
   "source": [
    "# os\n",
    "import os\n",
    "\n",
    "cwd = os.getcwd()\n",
    "print(\"Current Dir: \", cwd)\n",
    "\n",
    "# make dir : \n",
    "# os.mkdir('test')"
   ]
  },
  {
   "cell_type": "code",
   "execution_count": null,
   "id": "a3893205",
   "metadata": {},
   "outputs": [
    {
     "name": "stdout",
     "output_type": "stream",
     "text": [
      "['.ipynb_checkpoints', 'Assignment', 'example.csv', 'Package', 'python_debugger.py', 'Section_1_to_10.ipynb', 'test.py', 'test.txt', 'test.xlsx', 'test_copy.txt']\n"
     ]
    }
   ],
   "source": [
    "# listing files and dir\n",
    "items = os.listdir('.')\n",
    "print(items)"
   ]
  },
  {
   "cell_type": "code",
   "execution_count": 71,
   "id": "d33c7ff3",
   "metadata": {},
   "outputs": [
    {
     "name": "stdout",
     "output_type": "stream",
     "text": [
      "folder\\test.txt\n"
     ]
    }
   ],
   "source": [
    "# join path: \n",
    "\n",
    "dir_name = 'folder'\n",
    "file_name = 'test.txt'\n",
    "full_path = os.path.join(dir_name, file_name)\n",
    "print(full_path)"
   ]
  },
  {
   "cell_type": "code",
   "execution_count": 72,
   "id": "ba007484",
   "metadata": {},
   "outputs": [
    {
     "name": "stdout",
     "output_type": "stream",
     "text": [
      "d:\\Projects\\R&D\\Python_Bootcamp\\ds,ml,dl,nlp\\test.txt\n"
     ]
    }
   ],
   "source": [
    "dir_name = 'folder'\n",
    "file_name = 'test.txt'\n",
    "full_path = os.path.join(os.getcwd(), file_name)\n",
    "print(full_path)"
   ]
  },
  {
   "cell_type": "code",
   "execution_count": 73,
   "id": "ba7700b1",
   "metadata": {},
   "outputs": [
    {
     "name": "stdout",
     "output_type": "stream",
     "text": [
      "The file path test.txt exists.\n"
     ]
    }
   ],
   "source": [
    "file_name = 'test.txt'\n",
    "if os.path.exists(file_name):\n",
    "    print(f\"The file path {file_name} exists.\")\n",
    "else: \n",
    "    # os.mkdir(file_name)\n",
    "    print(f\"The file path {file_name} does not exists.\")\n",
    "    "
   ]
  },
  {
   "cell_type": "code",
   "execution_count": 76,
   "id": "cd06db27",
   "metadata": {},
   "outputs": [
    {
     "name": "stdout",
     "output_type": "stream",
     "text": [
      "The path test.txt is file.\n"
     ]
    }
   ],
   "source": [
    "path = 'test.txt'\n",
    "if os.path.isfile(path):\n",
    "    print(f\"The path {path} is file.\")\n",
    "elif os.path.isdir(path):\n",
    "    print(f\"The path {path} is directory.\")\n",
    "else: \n",
    "    print(f\"The path {path} is neither a file nor a directroy.\")"
   ]
  },
  {
   "cell_type": "code",
   "execution_count": 77,
   "metadata": {},
   "outputs": [
    {
     "name": "stdout",
     "output_type": "stream",
     "text": [
      "d:\\Projects\\R&D\\Python_Bootcamp\\ds,ml,dl,nlp\\test.txt\n"
     ]
    }
   ],
   "source": [
    "## Getting the absolute path (full path):\n",
    "\n",
    "relative_path = 'test.txt' # shot path name\n",
    "absolute_path = os.path.abspath(relative_path)\n",
    "print(absolute_path)"
   ]
  },
  {
   "cell_type": "code",
   "execution_count": 32,
   "id": "779adc0e",
   "metadata": {},
   "outputs": [
    {
     "data": {
      "text/plain": [
       "'test_copy.txt'"
      ]
     },
     "execution_count": 32,
     "metadata": {},
     "output_type": "execute_result"
    }
   ],
   "source": [
    "# High level operations on files and collections of files:\n",
    "\n",
    "import shutil\n",
    "shutil.copyfile('test.txt', 'test_copy.txt')"
   ]
  },
  {
   "cell_type": "code",
   "execution_count": 35,
   "id": "da242fe9",
   "metadata": {},
   "outputs": [
    {
     "name": "stdout",
     "output_type": "stream",
     "text": [
      "{\"name\": \"Ayu\", \"age\": 25}\n",
      "<class 'str'>\n",
      "{'name': 'Ayu', 'age': 25}\n",
      "<class 'dict'>\n"
     ]
    }
   ],
   "source": [
    "# Data Serialization:\n",
    "\n",
    "import json\n",
    "\n",
    "data = {'name': 'Ayu', 'age': 25}\n",
    "\n",
    "json_str = json.dumps(data)\n",
    "print(json_str)\n",
    "print(type(json_str))\n",
    "\n",
    "parsed_data = json.loads(json_str)\n",
    "print(parsed_data)\n",
    "print(type(parsed_data))\n"
   ]
  },
  {
   "cell_type": "code",
   "execution_count": 36,
   "id": "978e45b5",
   "metadata": {},
   "outputs": [
    {
     "name": "stdout",
     "output_type": "stream",
     "text": [
      "['name', 'age']\n",
      "['Ayu', '25']\n",
      "['Pri', '22']\n"
     ]
    }
   ],
   "source": [
    "## csv: \n",
    "\n",
    "import csv\n",
    "\n",
    "with open('example.csv', mode = 'w', newline = '') as file:\n",
    "    writer = csv.writer(file)\n",
    "    writer.writerow(['name', 'age'])\n",
    "    writer.writerow(['Ayu', 25])\n",
    "    writer.writerow(['Pri', 22])\n",
    "\n",
    "with open('example.csv', mode = 'r') as file:\n",
    "    reader = csv.reader(file)\n",
    "    for row in reader:\n",
    "        print(row)\n"
   ]
  },
  {
   "cell_type": "code",
   "execution_count": 38,
   "id": "ca121cab",
   "metadata": {},
   "outputs": [
    {
     "name": "stdout",
     "output_type": "stream",
     "text": [
      "2025-09-20 21:21:38.745366\n",
      "2025-09-19 21:21:38.745366\n"
     ]
    }
   ],
   "source": [
    "# datetime :\n",
    "from datetime import datetime, timedelta\n",
    "\n",
    "now = datetime.now()\n",
    "print(now)\n",
    "\n",
    "yest = now-timedelta(days = 1)\n",
    "print(yest)"
   ]
  },
  {
   "cell_type": "code",
   "execution_count": 39,
   "id": "d8636207",
   "metadata": {},
   "outputs": [
    {
     "name": "stdout",
     "output_type": "stream",
     "text": [
      "1758383600.9087093\n",
      "1758383600.9095619\n",
      "0.0008525848388671875\n"
     ]
    }
   ],
   "source": [
    "# time: \n",
    "\n",
    "import time \n",
    "start = time.time()\n",
    "print(start)\n",
    "end = time.time()\n",
    "print(end)\n",
    "time_diff = end - start\n",
    "print(time_diff)"
   ]
  },
  {
   "cell_type": "code",
   "execution_count": 45,
   "id": "7284dfbd",
   "metadata": {},
   "outputs": [
    {
     "name": "stdout",
     "output_type": "stream",
     "text": [
      "123\n",
      "['123', '456']\n"
     ]
    }
   ],
   "source": [
    "# Regular expression: \n",
    "import re\n",
    "\n",
    "pattern = r'\\d+'\n",
    "text = 'There are 123 apples 456'\n",
    "search = re.search(pattern, text)\n",
    "print(search.group())\n",
    "\n",
    "find = re.findall(pattern, text)\n",
    "print(find)"
   ]
  },
  {
   "cell_type": "markdown",
   "id": "50886299",
   "metadata": {},
   "source": [
    "## Section - 9: "
   ]
  },
  {
   "cell_type": "code",
   "execution_count": 47,
   "id": "62e51337",
   "metadata": {},
   "outputs": [
    {
     "name": "stdout",
     "output_type": "stream",
     "text": [
      "1212221111221212\n",
      "\n"
     ]
    }
   ],
   "source": [
    "# Read file :\n",
    "\n",
    "with open('test.txt', 'r') as file:\n",
    "    # content = file.read()\n",
    "    content = file.readline()\n",
    "    print(content)"
   ]
  },
  {
   "cell_type": "code",
   "execution_count": 49,
   "id": "6239e632",
   "metadata": {},
   "outputs": [
    {
     "name": "stdout",
     "output_type": "stream",
     "text": [
      "1212221111221212\n",
      "1201010101000099\n",
      "0101000010000010\n",
      "0010000010000010\n",
      "0010010010010010\n",
      "\n",
      "hello world , my name is ayush\n",
      "a power is i power a\n",
      "I count world word\n",
      "\n",
      "0010010010010010\n",
      "1010100010100000\n",
      "1001000101001000\n",
      "1010100101010010\n",
      "0101001010010011\n"
     ]
    }
   ],
   "source": [
    "# open line by line: \n",
    "with open('test.txt', 'r') as file:\n",
    "    for line in file:\n",
    "        print(line.strip())\n"
   ]
  },
  {
   "cell_type": "code",
   "execution_count": null,
   "id": "7a1f4e22",
   "metadata": {},
   "outputs": [],
   "source": [
    "# write a file overwriting : \n",
    "\n",
    "with open('test.txt', 'w') as file:\n",
    "    file.write(\"Hello World\\n\")\n",
    "    file.write(\"New line just print...!!\")\n"
   ]
  },
  {
   "cell_type": "code",
   "execution_count": 55,
   "id": "0235c239",
   "metadata": {},
   "outputs": [],
   "source": [
    "# Write a file without overwriting: \n",
    "\n",
    "with open('test.txt', 'a') as file: \n",
    "    file.write(\"\\nThis is append line\\n\")"
   ]
  },
  {
   "cell_type": "code",
   "execution_count": 56,
   "id": "e9dbca64",
   "metadata": {},
   "outputs": [],
   "source": [
    "# write a list of line  to a file : \n",
    "lines = [\"1st line \\n\", \"2nd Line \\n\", \"3rd Line\\n\"]\n",
    "with open('test.txt', 'a') as file: \n",
    "    file.writelines(lines)"
   ]
  },
  {
   "cell_type": "code",
   "execution_count": 57,
   "metadata": {},
   "outputs": [],
   "source": [
    "## Binary file: \n",
    "# read file = 'rb'\n",
    "# write file = 'wb'"
   ]
  },
  {
   "cell_type": "code",
   "execution_count": 59,
   "id": "4a5c4eb6",
   "metadata": {},
   "outputs": [],
   "source": [
    "# coping file : \n",
    "\n",
    "with open('test.txt', 'r') as source:\n",
    "    content = source.read()\n",
    "\n",
    "with open('test_copy.txt', 'w') as destination: \n",
    "    destination.write(content)"
   ]
  },
  {
   "cell_type": "code",
   "execution_count": 68,
   "metadata": {},
   "outputs": [
    {
     "name": "stdout",
     "output_type": "stream",
     "text": [
      "Lines: 10, Words: 26, Characters: 135\n"
     ]
    }
   ],
   "source": [
    "# Read a text file and count the number of lines, words, and characters: \n",
    "\n",
    "def counting(file_path):\n",
    "\n",
    "    with open(file_path, 'r') as file:\n",
    "        lines = file.readlines()\n",
    "        line_count = len(lines)\n",
    "        # word_count = sum(len(line.strip()) for line in lines)\n",
    "        word_count = sum(len(line.strip().split(' ')) for line in lines)\n",
    "        char_count = sum(len(line) for line in lines)\n",
    "\n",
    "    return line_count, word_count, char_count\n",
    "\n",
    "file_path = 'test.txt'\n",
    "lines, words, characters = counting(file_path)\n",
    "print(f\"Lines: {lines}, Words: {words}, Characters: {characters}\")"
   ]
  },
  {
   "cell_type": "code",
   "execution_count": null,
   "metadata": {},
   "outputs": [
    {
     "name": "stdout",
     "output_type": "stream",
     "text": [
      "Hello World\n",
      "New line just print...!!\n"
     ]
    }
   ],
   "source": [
    "# Writing and then reading file:\n",
    "\n",
    "with open('test.txt', 'w+') as file: \n",
    "    file.write(\"Hello World\\n\")\n",
    "    file.write(\"New line just print...!!\")\n",
    "\n",
    "    # Move the file cursor to the beginning: \n",
    "    file.seek(0)\n",
    "\n",
    "    # read file: \n",
    "    content= file.read()\n",
    "    print(content)"
   ]
  },
  {
   "cell_type": "markdown",
   "id": "dd328670",
   "metadata": {},
   "source": [
    "## Section - 10: "
   ]
  },
  {
   "cell_type": "code",
   "execution_count": 80,
   "id": "98a61593",
   "metadata": {},
   "outputs": [
    {
     "name": "stdout",
     "output_type": "stream",
     "text": [
      "name 'b' is not defined\n",
      "The Main excetion caught here.\n"
     ]
    }
   ],
   "source": [
    "try: \n",
    "    a = 1/2\n",
    "    a= b\n",
    "except ZeroDivisionError as ex: \n",
    "    print(ex)\n",
    "    print(\"Please enter the denominator greater then 0.\")\n",
    "\n",
    "except Exception as exx: # this except any type of error\n",
    "    print(exx)\n",
    "    print(\"The Main excetion caught here.\")"
   ]
  },
  {
   "cell_type": "code",
   "execution_count": null,
   "metadata": {},
   "outputs": [
    {
     "name": "stdout",
     "output_type": "stream",
     "text": [
      "name 'b' is not defined\n",
      ">>>>>>>> file close\n"
     ]
    }
   ],
   "source": [
    "# File Handling and Exception Handling: \n",
    "\n",
    "try: \n",
    "    file = open('test.txt', 'r')\n",
    "    content = file.read()\n",
    "    a=b # Just raiseing the exception on purpose.\n",
    "    print(content)\n",
    "except FileNotFoundError:\n",
    "    print('The file does not exists')\n",
    "except Exception as exe:\n",
    "    print(exe)\n",
    "\n",
    "else: \n",
    "    print(\">>>>>>>> We Also closing the file\")\n",
    "finally: \n",
    "    if 'file' in locals() or not file.closed():\n",
    "        file.close()\n",
    "        print('>>>>>>>> file close')\n"
   ]
  },
  {
   "cell_type": "markdown",
   "id": "1ecdc90e",
   "metadata": {},
   "source": [
    "## Refer Next File : Section_11.ipynb"
   ]
  }
 ],
 "metadata": {
  "kernelspec": {
   "display_name": "Python 3",
   "language": "python",
   "name": "python3"
  },
  "language_info": {
   "codemirror_mode": {
    "name": "ipython",
    "version": 3
   },
   "file_extension": ".py",
   "mimetype": "text/x-python",
   "name": "python",
   "nbconvert_exporter": "python",
   "pygments_lexer": "ipython3",
   "version": "3.13.0"
  }
 },
 "nbformat": 4,
 "nbformat_minor": 5
}
