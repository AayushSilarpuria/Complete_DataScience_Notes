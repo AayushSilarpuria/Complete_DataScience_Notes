{
 "cells": [
  {
   "cell_type": "markdown",
   "id": "af920b63",
   "metadata": {},
   "source": [
    "### Section - 11:"
   ]
  },
  {
   "cell_type": "markdown",
   "id": "58f1d2be",
   "metadata": {},
   "source": [
    "#### Classes & Objects: \n",
    "\n",
    "Object - Oriented Programming Language (OOPs) is a programming paradigm (\"आदर्श, मिसाल\") that uses \"objects\" to design applications and computer programs.\n",
    "OOPs allows for modelling real-world scenarios using classes and objects. This lesson covers the basics of creating classes and objects, including instance variables and methods."
   ]
  },
  {
   "cell_type": "code",
   "execution_count": 3,
   "id": "83c19ee5",
   "metadata": {},
   "outputs": [],
   "source": [
    "## A class is a blue print for creating objects.\n",
    "## It will be having Attributes, methods."
   ]
  },
  {
   "cell_type": "code",
   "execution_count": null,
   "id": "5f6d8200",
   "metadata": {},
   "outputs": [],
   "source": [
    "class Car:\n",
    "    pass\n",
    "\n",
    "audi = Car() # audi is object\n",
    "bmw = Car()\n",
    "\n",
    "print(type(audi)) # audi is object beacuse we have instantiated from specific class which is called as car.\n"
   ]
  },
  {
   "cell_type": "code",
   "execution_count": 6,
   "id": "9c93d72d",
   "metadata": {},
   "outputs": [
    {
     "name": "stdout",
     "output_type": "stream",
     "text": [
      "4\n"
     ]
    }
   ],
   "source": [
    "# We can pass an attribute in below way but this is not proper way.\n",
    "\n",
    "audi.windows = 4\n",
    "print(audi.windows)"
   ]
  },
  {
   "cell_type": "code",
   "execution_count": 18,
   "id": "561757c0",
   "metadata": {},
   "outputs": [
    {
     "data": {
      "text/plain": [
       "['__class__',\n",
       " '__delattr__',\n",
       " '__dict__',\n",
       " '__dir__',\n",
       " '__doc__',\n",
       " '__eq__',\n",
       " '__firstlineno__',\n",
       " '__format__',\n",
       " '__ge__',\n",
       " '__getattribute__',\n",
       " '__getstate__',\n",
       " '__gt__',\n",
       " '__hash__',\n",
       " '__init__',\n",
       " '__init_subclass__',\n",
       " '__le__',\n",
       " '__lt__',\n",
       " '__module__',\n",
       " '__ne__',\n",
       " '__new__',\n",
       " '__reduce__',\n",
       " '__reduce_ex__',\n",
       " '__repr__',\n",
       " '__setattr__',\n",
       " '__sizeof__',\n",
       " '__static_attributes__',\n",
       " '__str__',\n",
       " '__subclasshook__',\n",
       " '__weakref__',\n",
       " 'windows']"
      ]
     },
     "execution_count": 18,
     "metadata": {},
     "output_type": "execute_result"
    }
   ],
   "source": [
    "dir(audi)"
   ]
  },
  {
   "cell_type": "code",
   "execution_count": 19,
   "id": "d2627d71",
   "metadata": {},
   "outputs": [
    {
     "name": "stdout",
     "output_type": "stream",
     "text": [
      "<__main__.Dog object at 0x000001D75D31EBA0>\n",
      "Buddy\n",
      "3\n"
     ]
    }
   ],
   "source": [
    "# Instance variable and methods:\n",
    "\n",
    "class Dog:\n",
    "    ## Constructor is __init__\n",
    "    def __init__(self, name, age): # Here name is an attribute to the class\n",
    "        self.name = name # name is an Instance Variable\n",
    "        self.age = age\n",
    "    \n",
    "\n",
    "## create objects:\n",
    "dog1 = Dog(\"Buddy\", 3)\n",
    "print(dog1)  # memory location\n",
    "print(dog1.name) \n",
    "print(dog1.age)    "
   ]
  },
  {
   "cell_type": "code",
   "execution_count": 20,
   "id": "39a37333",
   "metadata": {},
   "outputs": [
    {
     "name": "stdout",
     "output_type": "stream",
     "text": [
      "Lucy\n",
      "4\n"
     ]
    }
   ],
   "source": [
    "# we are accessign Instance Variable - which is some type of property.\n",
    "dog2 = Dog('Lucy', 4)\n",
    "print(dog2.name)\n",
    "print(dog2.age)"
   ]
  },
  {
   "cell_type": "code",
   "execution_count": 23,
   "id": "fa6e8261",
   "metadata": {},
   "outputs": [
    {
     "name": "stdout",
     "output_type": "stream",
     "text": [
      "Buddy says woof..!!\n",
      "Lucy says woof..!!\n"
     ]
    }
   ],
   "source": [
    "## Define a class with Instance Methods.\n",
    "class Dog: \n",
    "    def __init__(self, name, age):\n",
    "        self.name = name\n",
    "        self.age = age\n",
    "\n",
    "    # Instance Methods related to dog\n",
    "    def bark(self):  # with the help of 'self' in an Method we will be able to use instance variable.\n",
    "        print(f\"{self.name} says woof..!!\")\n",
    "\n",
    "dog1 = Dog('Buddy', 2)\n",
    "dog1.bark()\n",
    "dog2 = Dog('Lucy', 4)\n",
    "dog2.bark()"
   ]
  },
  {
   "cell_type": "code",
   "execution_count": 28,
   "id": "d1b484ae",
   "metadata": {},
   "outputs": [
    {
     "name": "stdout",
     "output_type": "stream",
     "text": [
      "5000\n"
     ]
    }
   ],
   "source": [
    "## Modeling a Bank Account: \n",
    "\n",
    "## Define a class for Bank Account:\n",
    "class BankAccount:\n",
    "    def __init__(self, owner, balance=0):\n",
    "        self.owner = owner\n",
    "        self.balance = balance\n",
    "\n",
    "    def deposit(self, amount):\n",
    "        self.balance += amount\n",
    "        print(f\"Rs. {amount} is deposited. New Balance is Rs. {self.balance} \")\n",
    "    \n",
    "    def withdraw(self, amount):\n",
    "        if amount > self.balance:\n",
    "            print(\"Insufficent funds.!\")\n",
    "        else:   \n",
    "            self.balance -= amount\n",
    "        print(f\"You have withdraw Rs. {amount}. New Balance is Rs. {self.balance}\")\n",
    "\n",
    "    def show(self):\n",
    "        print(f\"Your current balance is Rs. {self.balance}\")\n",
    "        return self.balance\n",
    "        \n",
    "# Create an Account:\n",
    "account = BankAccount(\"Ayush\", 5000)\n",
    "print(account.balance)"
   ]
  },
  {
   "cell_type": "code",
   "execution_count": 29,
   "id": "dca4743b",
   "metadata": {},
   "outputs": [
    {
     "name": "stdout",
     "output_type": "stream",
     "text": [
      "Rs. 1000 is deposited. New Balance is Rs. 6000 \n"
     ]
    }
   ],
   "source": [
    "# Call Instance Methods:\n",
    "account.deposit(1000)"
   ]
  },
  {
   "cell_type": "code",
   "execution_count": 30,
   "id": "ea1fd67d",
   "metadata": {},
   "outputs": [
    {
     "name": "stdout",
     "output_type": "stream",
     "text": [
      "You have withdraw Rs. 100. New Balance is Rs. 5900\n"
     ]
    }
   ],
   "source": [
    "account.withdraw(100)"
   ]
  },
  {
   "cell_type": "code",
   "execution_count": 32,
   "id": "42a5062a",
   "metadata": {},
   "outputs": [
    {
     "name": "stdout",
     "output_type": "stream",
     "text": [
      "Your current balance is Rs. 5900\n"
     ]
    },
    {
     "data": {
      "text/plain": [
       "5900"
      ]
     },
     "execution_count": 32,
     "metadata": {},
     "output_type": "execute_result"
    }
   ],
   "source": [
    "account.show()"
   ]
  },
  {
   "cell_type": "markdown",
   "id": "3d35080e",
   "metadata": {},
   "source": [
    "### OOPs Type:\n",
    "#### 1. Inheritance:\n",
    "\n",
    "Inheritance allows a class (child class) to acquire properties and methods of another class (parent class). It supports hierarchical classification and promotes code reuse.\n",
    "\n",
    "##### Types of Inheritance:\n",
    "- Single Inheritance: A child class inherits from a single parent class.\n",
    "- Multiple Inheritance: A child class inherits from more than one parent class.\n",
    "- Multilevel Inheritance: A child class inherits from a parent class, which in turn inherits from another class.\n",
    "- Hierarchical Inheritance: Multiple child classes inherit from a single parent class.\n",
    "- Hybrid Inheritance: A combination of two or more types of inheritance."
   ]
  },
  {
   "cell_type": "code",
   "execution_count": 18,
   "metadata": {},
   "outputs": [],
   "source": [
    "# 1.1 -> Single Inheritance:  \n",
    "## Parent Class:\n",
    "\n",
    "class Car:\n",
    "    def __init__(self, model, engine_type, windows):\n",
    "        self.model = model\n",
    "        self.engine_type = engine_type\n",
    "        self.windows = windows\n",
    "    \n",
    "    def drive(self, distance):\n",
    "        print(f\"The person will drive the {self.engine_type} car\")\n",
    "        self.distance = distance\n",
    "        print(f\"Long drive {self.distance} \")"
   ]
  },
  {
   "cell_type": "code",
   "execution_count": 19,
   "metadata": {},
   "outputs": [
    {
     "name": "stdout",
     "output_type": "stream",
     "text": [
      "The person will drive the Diesel car\n",
      "Long drive 100 \n"
     ]
    },
    {
     "data": {
      "text/plain": [
       "'XUV700'"
      ]
     },
     "execution_count": 19,
     "metadata": {},
     "output_type": "execute_result"
    }
   ],
   "source": [
    "car1 = Car('XUV700', 'Diesel', 4)\n",
    "car1.drive(100)\n",
    "car1.model"
   ]
  },
  {
   "cell_type": "code",
   "execution_count": 20,
   "metadata": {},
   "outputs": [],
   "source": [
    "# Child class:\n",
    "\n",
    "class Tesla(Car):\n",
    "    \n",
    "    def __init__(self, model, engine_type, windows, is_selfdriving):\n",
    "        super().__init__(model, engine_type, windows)\n",
    "        self.is_selfdriving = is_selfdriving\n",
    "\n",
    "    def selfdriving(self):\n",
    "        print(f\"Tesla supports self driving: {self.is_selfdriving}\")"
   ]
  },
  {
   "cell_type": "code",
   "execution_count": 21,
   "id": "6be49e3a",
   "metadata": {},
   "outputs": [
    {
     "name": "stdout",
     "output_type": "stream",
     "text": [
      "Tesla supports self driving: True\n"
     ]
    },
    {
     "data": {
      "text/plain": [
       "'Electric'"
      ]
     },
     "execution_count": 21,
     "metadata": {},
     "output_type": "execute_result"
    }
   ],
   "source": [
    "tesla1 = Tesla('X', 'Electric', 4, True)\n",
    "tesla1.selfdriving()\n",
    "tesla1.engine_type"
   ]
  },
  {
   "cell_type": "code",
   "execution_count": 22,
   "id": "3fcccf3f",
   "metadata": {},
   "outputs": [
    {
     "name": "stdout",
     "output_type": "stream",
     "text": [
      "The person will drive the Electric car\n",
      "Long drive 11000 \n"
     ]
    }
   ],
   "source": [
    "tesla1.drive(11000)"
   ]
  },
  {
   "cell_type": "code",
   "execution_count": null,
   "metadata": {},
   "outputs": [],
   "source": [
    "# 1.2 -> Multiple Inheritance:"
   ]
  },
  {
   "cell_type": "code",
   "execution_count": 31,
   "metadata": {},
   "outputs": [
    {
     "name": "stdout",
     "output_type": "stream",
     "text": [
      "Buddy say woof.\n",
      "Owner: Ayush\n"
     ]
    }
   ],
   "source": [
    "class Animal:\n",
    "    def __init__(self, name):\n",
    "        self.name = name\n",
    "    \n",
    "    def speak(self):\n",
    "        print(\"Subclass must implement this method.\")\n",
    "    \n",
    "\n",
    "class Pet:\n",
    "    def __init__(self, owner):\n",
    "        self.owner = owner\n",
    "\n",
    "\n",
    "class Dog(Animal, Pet):\n",
    "    def __init__(self, name, owner):\n",
    "        Animal.__init__(self,name)\n",
    "        Pet.__init__(self,owner)\n",
    "    \n",
    "    def speak(self):\n",
    "        return f\"{self.name} say woof.\"\n",
    "    \n",
    "dog = Dog('Buddy', 'Ayush')\n",
    "print(dog.speak())\n",
    "print(f\"Owner: {dog.owner}\")\n"
   ]
  },
  {
   "cell_type": "markdown",
   "id": "a0e3a3a4",
   "metadata": {},
   "source": [
    "#### 2. Polymorphism:\n",
    "\n",
    "Polymorphism in Python means \"same operation, different behavior.\" It allows functions or methods with the same name to work differently depending on the type of object they are acting upon.\n",
    "\n",
    "##### Types of Polymorphism\n",
    "\n",
    "2_1. Compile-Time Polymorphism:\n",
    "\n",
    "This type of polymorphism is determined during the compilation of the program. It allows methods or operators with the same name to behave differently based on their input parameters or usage. In languages like Java or C++, compile-time polymorphism is achieved through method overloading but it's not directly supported in Python.\n",
    "\n",
    "In Python:\n",
    "\n",
    "- True compile-time polymorphism is not supported.\n",
    "- Instead, Python mimics it using default arguments or *args/**kwargs."
   ]
  },
  {
   "cell_type": "code",
   "execution_count": 32,
   "id": "02b91efd",
   "metadata": {},
   "outputs": [
    {
     "name": "stdout",
     "output_type": "stream",
     "text": [
      "15\n",
      "30\n",
      "15\n"
     ]
    }
   ],
   "source": [
    "class Calculator:\n",
    "\n",
    "    def add(self, *args):\n",
    "        return sum(args)\n",
    "    \n",
    "calc = Calculator()\n",
    "print(calc.add(5,10))\n",
    "print(calc.add(5,10,15))\n",
    "print(calc.add(1,2,3,4,5))"
   ]
  },
  {
   "cell_type": "markdown",
   "id": "eab211b0",
   "metadata": {},
   "source": [
    "2_2. Run-Time Polymorphism\n",
    "\n",
    "Run-Time Polymorphism is determined during the execution of the program. It covers multiple forms in Python:\n",
    "\n",
    "- Method Overriding: A subclass redefines a method from its parent class.\n",
    "- Duck Typing: If an object implements the required method, it works regardless of its type.\n",
    "- Operator Overloading: Special methods (__add__, __sub__, etc.) redefine how operators behave for user-defined objects."
   ]
  },
  {
   "cell_type": "code",
   "execution_count": 37,
   "metadata": {},
   "outputs": [
    {
     "name": "stdout",
     "output_type": "stream",
     "text": [
      "Woof!!\n"
     ]
    }
   ],
   "source": [
    "# 1. Method Overriding\n",
    "# We start with a base class and then a subclass that \"overrides\" the speak method.\n",
    "\n",
    "class Animal:\n",
    "    def speak(self):\n",
    "        return \"I am an animal.\"\n",
    "    \n",
    "class Dog(Animal):\n",
    "    def speak(self):\n",
    "        return \"Woof!!\"\n",
    "\n",
    "print(Dog().speak())"
   ]
  },
  {
   "cell_type": "code",
   "execution_count": 38,
   "metadata": {},
   "outputs": [
    {
     "name": "stdout",
     "output_type": "stream",
     "text": [
      "meow!!\n",
      "Woof!!\n"
     ]
    }
   ],
   "source": [
    "# 2. Duck Typing:\n",
    "# This function works for both Dog and Cat because they both have a 'speak' method.\n",
    "\n",
    "class Cat:\n",
    "    def speak(self):\n",
    "        return 'meow!!'\n",
    "    \n",
    "def make_animal_speak(animal):\n",
    "    return animal.speak()\n",
    "print(make_animal_speak(Cat()))\n",
    "print(make_animal_speak(Dog()))\n"
   ]
  },
  {
   "cell_type": "code",
   "execution_count": null,
   "id": "b6592ddc",
   "metadata": {},
   "outputs": [
    {
     "name": "stdout",
     "output_type": "stream",
     "text": [
      "Vector(6, 8)\n"
     ]
    }
   ],
   "source": [
    "# 3 Operator Overloading\n",
    "# We create a simple class that customizes the '+' operator.\n",
    "\n",
    "class Vector:\n",
    "    def __init__(self, x, y):\n",
    "        self.x = x\n",
    "        self.y = y\n",
    "\n",
    "    # This special method defines the behavior of the '+' operator.\n",
    "\n",
    "    def __add__(self, other):\n",
    "        return Vector(self.x + other.x, self.y + other.y)\n",
    "    \n",
    "    def __repr__(self): \n",
    "        # When you inspect an object in an interactive python interpretor, \n",
    "        # __repr__ method is invoked to provide a clear and unambiguous representation of the object's state.\n",
    "        \n",
    "        return f\"Vector({self.x}, {self.y})\"\n",
    "    \n",
    "v1 = Vector(2,3)\n",
    "v2 = Vector(4,5)\n",
    "v3 = v1 + v2\n",
    "print(v3)"
   ]
  },
  {
   "cell_type": "code",
   "execution_count": 44,
   "id": "26c9499d",
   "metadata": {},
   "outputs": [],
   "source": [
    "# Polymorphism with Abstract Base Classes:\n",
    "\n",
    "# Abstract base classes (ABCs) are used to define common methods for a group of related objects.\n",
    "# They can enforce that derived classes implement particular methods, promoting consistency across different implementations."
   ]
  },
  {
   "cell_type": "code",
   "execution_count": 49,
   "id": "de478709",
   "metadata": {},
   "outputs": [
    {
     "name": "stdout",
     "output_type": "stream",
     "text": [
      "Car engine started\n",
      "Motorcycle engine started\n"
     ]
    }
   ],
   "source": [
    "from abc import ABC, abstractmethod\n",
    "\n",
    "## Define abstract class:\n",
    "class Vehicle(ABC):\n",
    "    @abstractmethod\n",
    "    def start_engine(self):\n",
    "        pass\n",
    "\n",
    "class Car(Vehicle):\n",
    "    def start_engine(self):\n",
    "        return \"Car engine started\"\n",
    "    \n",
    "class Motorcycle(Vehicle):\n",
    "    def start_engine(self):\n",
    "        return \"Motorcycle engine started\"\n",
    "    \n",
    "# Function that demonstrate polymorphism:\n",
    "def start_vehicle(vehicle):\n",
    "    print(vehicle.start_engine())\n",
    "\n",
    "## objects of CAR:\n",
    "\n",
    "car = Car()\n",
    "moto = Motorcycle()\n",
    "\n",
    "start_vehicle(car)\n",
    "start_vehicle(moto)"
   ]
  },
  {
   "cell_type": "markdown",
   "id": "e82800b4",
   "metadata": {},
   "source": [
    "#### 3. Encapsulation:\n",
    "\n",
    "Encapsulation is the bundling of data (attributes) and methods (functions) within a class, restricting access to some components to control interactions.\n",
    "\n",
    "##### Types of Encapsulation:\n",
    "- Public Members: Accessible from anywhere. {self.name -> #public attribute}\n",
    "- Protected Members: Accessible within the class and its subclasses. {self._name -> #protected attribute}\n",
    "- Private Members: Accessible only within the class. {self.__name -> #private attribute}"
   ]
  },
  {
   "cell_type": "code",
   "execution_count": null,
   "id": "e5e10fa6",
   "metadata": {},
   "outputs": [
    {
     "data": {
      "text/plain": [
       "['_Person__gender',\n",
       " '__class__',\n",
       " '__delattr__',\n",
       " '__dict__',\n",
       " '__dir__',\n",
       " '__doc__',\n",
       " '__eq__',\n",
       " '__format__',\n",
       " '__ge__',\n",
       " '__getattribute__',\n",
       " '__getstate__',\n",
       " '__gt__',\n",
       " '__hash__',\n",
       " '__init__',\n",
       " '__init_subclass__',\n",
       " '__le__',\n",
       " '__lt__',\n",
       " '__module__',\n",
       " '__ne__',\n",
       " '__new__',\n",
       " '__reduce__',\n",
       " '__reduce_ex__',\n",
       " '__repr__',\n",
       " '__setattr__',\n",
       " '__sizeof__',\n",
       " '__str__',\n",
       " '__subclasshook__',\n",
       " '__weakref__',\n",
       " '_age',\n",
       " 'name']"
      ]
     },
     "execution_count": 61,
     "metadata": {},
     "output_type": "execute_result"
    }
   ],
   "source": [
    "class Person:\n",
    "    def __init__(self, name , age, gender):\n",
    "        self.name = name \n",
    "        self._age = age\n",
    "        self.__gender = gender\n",
    "\n",
    "class Employee(Person):\n",
    "    def __init__(self, name, age, gender):\n",
    "        super().__init__(name, age, gender)\n",
    "\n",
    "# obj = Person('Ayush', 27, \"Male\") # similar output\n",
    "obj = Employee('Ayush', 27, \"Male\")\n",
    "\n",
    "dir(obj)"
   ]
  },
  {
   "cell_type": "code",
   "execution_count": 63,
   "id": "74df8859",
   "metadata": {},
   "outputs": [
    {
     "name": "stdout",
     "output_type": "stream",
     "text": [
      "Ayush\n",
      "27\n"
     ]
    },
    {
     "ename": "AttributeError",
     "evalue": "'Employee' object has no attribute '__gender'",
     "output_type": "error",
     "traceback": [
      "\u001b[1;31m---------------------------------------------------------------------------\u001b[0m",
      "\u001b[1;31mAttributeError\u001b[0m                            Traceback (most recent call last)",
      "Cell \u001b[1;32mIn[63], line 5\u001b[0m\n\u001b[0;32m      3\u001b[0m \u001b[38;5;28mprint\u001b[39m(obj\u001b[38;5;241m.\u001b[39mname) \u001b[38;5;66;03m# we will got public member.\u001b[39;00m\n\u001b[0;32m      4\u001b[0m \u001b[38;5;28mprint\u001b[39m(obj\u001b[38;5;241m.\u001b[39m_age) \u001b[38;5;66;03m# we will got protected member because we are accessing it from same class.\u001b[39;00m\n\u001b[1;32m----> 5\u001b[0m \u001b[38;5;28mprint\u001b[39m(\u001b[43mobj\u001b[49m\u001b[38;5;241;43m.\u001b[39;49m\u001b[43m__gender\u001b[49m) \u001b[38;5;66;03m# this will though error cannot access outside class.\u001b[39;00m\n",
      "\u001b[1;31mAttributeError\u001b[0m: 'Employee' object has no attribute '__gender'"
     ]
    }
   ],
   "source": [
    "# similar output got from base class:\n",
    "\n",
    "print(obj.name) # we will got public member.\n",
    "print(obj._age) # we will got protected member because we are accessing it from same class.\n",
    "print(obj.__gender) # this will though error cannot access outside class."
   ]
  },
  {
   "cell_type": "code",
   "execution_count": null,
   "id": "45fd462f",
   "metadata": {},
   "outputs": [
    {
     "data": {
      "text/plain": [
       "27"
      ]
     },
     "execution_count": 67,
     "metadata": {},
     "output_type": "execute_result"
    }
   ],
   "source": [
    "def get_age(person):\n",
    "    return person._age\n",
    "\n",
    "get_age(obj)"
   ]
  },
  {
   "cell_type": "code",
   "execution_count": 68,
   "id": "78b60ed0",
   "metadata": {},
   "outputs": [
    {
     "name": "stdout",
     "output_type": "stream",
     "text": [
      "Protected variable accessed via method: 10\n",
      "Protected variable modified via method: 20\n",
      "Direct access to protected variable: 20\n",
      "Direct modification of protected variable: 30\n"
     ]
    }
   ],
   "source": [
    "class MyClass:\n",
    "    def __init__(self, value):\n",
    "        self._protected_variable = value  # This is a protected variable\n",
    "\n",
    "    def get_protected_value(self):\n",
    "        return self._protected_variable\n",
    "\n",
    "    def set_protected_value(self, new_value):\n",
    "        self._protected_variable = new_value\n",
    "\n",
    "# Create an instance of MyClass\n",
    "obj = MyClass(10)\n",
    "\n",
    "# Accessing the protected variable through a public method (recommended)\n",
    "print(f\"Protected variable accessed via method: {obj.get_protected_value()}\")\n",
    "\n",
    "# Modifying the protected variable through a public method (recommended)\n",
    "obj.set_protected_value(20)\n",
    "print(f\"Protected variable modified via method: {obj.get_protected_value()}\")\n",
    "\n",
    "# Direct access to the protected variable (discouraged, but possible)\n",
    "print(f\"Direct access to protected variable: {obj._protected_variable}\")\n",
    "\n",
    "# Direct modification of the protected variable (discouraged, but possible)\n",
    "obj._protected_variable = 30\n",
    "print(f\"Direct modification of protected variable: {obj._protected_variable}\")"
   ]
  },
  {
   "cell_type": "code",
   "execution_count": 83,
   "id": "3dddbb07",
   "metadata": {},
   "outputs": [
    {
     "name": "stdout",
     "output_type": "stream",
     "text": [
      "Ayush\n",
      "27\n",
      "21\n",
      "Age cannot be negative.\n"
     ]
    }
   ],
   "source": [
    "## Encapsulation with Getter and Setter:\n",
    "class Person:\n",
    "    def __init__(self, name, age):\n",
    "        self.__name = name \n",
    "        self.__age = age\n",
    "\n",
    "    ## getter method for name:\n",
    "    def get_name(self):\n",
    "        return self.__name\n",
    "    \n",
    "    ## setter method for name:\n",
    "    def set_name(self, new_name):\n",
    "        self.__name = new_name\n",
    "    \n",
    "    ## getter method for age:\n",
    "    def get_age(self):\n",
    "        return self.__age\n",
    "    \n",
    "    ## setter method for age:\n",
    "    def set_age(self, new_age):\n",
    "        if new_age>0:\n",
    "            self.__age = new_age\n",
    "        else:\n",
    "            print(\"Age cannot be negative.\")\n",
    "\n",
    "person = Person('Ayush', 27)\n",
    "\n",
    "# Access and modify private method using getter and setter:\n",
    "\n",
    "print(person.get_name())\n",
    "print(person.get_age())\n",
    "\n",
    "person.set_age(21)\n",
    "print(person.get_age())\n",
    "\n",
    "person.set_age(-5)\n"
   ]
  },
  {
   "cell_type": "markdown",
   "id": "5fe92832",
   "metadata": {},
   "source": [
    "#### 4. Data Abstraction:\n",
    "\n",
    "Abstraction hides the internal implementation details while exposing only the necessary functionality. It helps focus on \"what to do\" rather than \"how to do it.\"\n",
    "\n",
    "Abstraction is a concept of hiding complex implementation details and showing only the necessary features of an object. This help to reducing programming complexity and effort.\n",
    "\n",
    "##### Types of Abstraction:\n",
    "- Partial Abstraction: Abstract class contains both abstract and concrete methods.\n",
    "- Full Abstraction: Abstract class contains only abstract methods (like interfaces).\n",
    "\n",
    "\n",
    "Why Use It: \n",
    "\n",
    "Abstraction ensures consistency in derived classes by enforcing the implementation of abstract methods.\n",
    "\n",
    "from abc import ABC, abstractmethod"
   ]
  },
  {
   "cell_type": "code",
   "execution_count": 84,
   "metadata": {},
   "outputs": [
    {
     "name": "stdout",
     "output_type": "stream",
     "text": [
      "Car engine started.\n",
      "The vehichle is used for driving\n"
     ]
    }
   ],
   "source": [
    "from abc import ABC, abstractmethod\n",
    "\n",
    "class Vehicle(ABC):\n",
    "\n",
    "    def drive(self):\n",
    "        print(\"The vehichle is used for driving\")\n",
    "\n",
    "    @abstractmethod\n",
    "    def start_engine(self):\n",
    "        pass\n",
    "\n",
    "class Car(Vehicle):\n",
    "\n",
    "    def start_engine(self):\n",
    "        print(\"Car engine started.\")\n",
    "\n",
    "def operate_vehicle(vehicle):\n",
    "    vehicle.start_engine()\n",
    "    vehicle.drive()\n",
    "\n",
    "car = Car()\n",
    "operate_vehicle(car)"
   ]
  },
  {
   "cell_type": "markdown",
   "id": "93e604c1",
   "metadata": {},
   "source": [
    "#### Magic Methods:\n",
    "\n",
    "Magic Methods in Python, also known as dunder methods (double underscore methods), are special methods that start and end with double underscores. These methods enable you to define the behavior of objects for built-in operations, such as arithmetic operations, comparisons, and more."
   ]
  },
  {
   "cell_type": "code",
   "execution_count": null,
   "metadata": {},
   "outputs": [],
   "source": [
    "\"\"\" \n",
    "Methods include:\n",
    "- __init__: Initialize a new instance of class.\n",
    "- __str__: returns a str representation of an object.\n",
    "- __repr__: returns an official string representation of an object.\n",
    "- __len__: return an length of an object.\n",
    "- __getitem__: Gets an item from a container.\n",
    "- __setitem__: Sets and item in a container.\n",
    "\"\"\""
   ]
  },
  {
   "cell_type": "code",
   "execution_count": 85,
   "metadata": {},
   "outputs": [
    {
     "data": {
      "text/plain": [
       "['__class__',\n",
       " '__delattr__',\n",
       " '__dict__',\n",
       " '__dir__',\n",
       " '__doc__',\n",
       " '__eq__',\n",
       " '__format__',\n",
       " '__ge__',\n",
       " '__getattribute__',\n",
       " '__getstate__',\n",
       " '__gt__',\n",
       " '__hash__',\n",
       " '__init__',\n",
       " '__init_subclass__',\n",
       " '__le__',\n",
       " '__lt__',\n",
       " '__module__',\n",
       " '__ne__',\n",
       " '__new__',\n",
       " '__reduce__',\n",
       " '__reduce_ex__',\n",
       " '__repr__',\n",
       " '__setattr__',\n",
       " '__sizeof__',\n",
       " '__str__',\n",
       " '__subclasshook__',\n",
       " '__weakref__']"
      ]
     },
     "execution_count": 85,
     "metadata": {},
     "output_type": "execute_result"
    }
   ],
   "source": [
    "# below output are all magic methods:\n",
    "\n",
    "class Person:\n",
    "    def __init__(self):\n",
    "        pass\n",
    "\n",
    "obj = Person()\n",
    "dir(obj)"
   ]
  },
  {
   "cell_type": "code",
   "execution_count": 86,
   "metadata": {},
   "outputs": [
    {
     "name": "stdout",
     "output_type": "stream",
     "text": [
      "<__main__.Person object at 0x0000023401F15580>\n"
     ]
    }
   ],
   "source": [
    "print(person)"
   ]
  },
  {
   "cell_type": "code",
   "execution_count": 90,
   "metadata": {},
   "outputs": [
    {
     "name": "stdout",
     "output_type": "stream",
     "text": [
      "My name is Ayush, and I am 29 years old.\n",
      "Person(name=Ayush, age=29) \n"
     ]
    }
   ],
   "source": [
    "# We can replace above memory location by some string using __str__\n",
    "\n",
    "class Person:\n",
    "    def __init__(self, name , age):\n",
    "        self.name = name \n",
    "        self.age = age\n",
    "\n",
    "    def __str__(self):\n",
    "        return f\"My name is {self.name}, and I am {self.age} years old.\"\n",
    "    \n",
    "    def __repr__(self):\n",
    "        return f\"Person(name={self.name}, age={self.age}) \"\n",
    "    \n",
    "per = Person(\"Ayush\", 29)\n",
    "print(per)\n",
    "# representing __repr__ method:\n",
    "print(repr(per))"
   ]
  },
  {
   "cell_type": "markdown",
   "id": "6caa03cd",
   "metadata": {},
   "source": [
    "#### Operator Overloading:\n",
    "\n",
    "Operator Overloading allows you to define the behavior of operators(+,-,*, etc.) for custom objects. You achieve this by overriding specific magic mehtods in your class."
   ]
  },
  {
   "cell_type": "code",
   "execution_count": 91,
   "metadata": {},
   "outputs": [
    {
     "data": {
      "text/plain": [
       "'\\n- __add__(self, other): Adds two objects using the + operator.\\n- __sub__(self, other): Subtracts two objects using the - operator.\\n- __mul__(self, other): Multiplies two objects using the * operator.\\n- __truediv__(self, other): Divides two objects using the / operator.\\n- __eq__(self, other): Checks if two objects are equal using the == operator.\\n- __lt__(self, other): Checks if two objects is less then other using the < operator.\\n- __gt__(self, other): Checks if two objects is more then other using the > operator.\\n'"
      ]
     },
     "execution_count": 91,
     "metadata": {},
     "output_type": "execute_result"
    }
   ],
   "source": [
    "\"\"\"\n",
    "- __add__(self, other): Adds two objects using the + operator.\n",
    "- __sub__(self, other): Subtracts two objects using the - operator.\n",
    "- __mul__(self, other): Multiplies two objects using the * operator.\n",
    "- __truediv__(self, other): Divides two objects using the / operator.\n",
    "- __eq__(self, other): Checks if two objects are equal using the == operator.\n",
    "- __lt__(self, other): Checks if two objects is less then other using the < operator.\n",
    "- __gt__(self, other): Checks if two objects is more then other using the > operator.\n",
    "\"\"\""
   ]
  },
  {
   "cell_type": "code",
   "execution_count": 98,
   "metadata": {},
   "outputs": [
    {
     "name": "stdout",
     "output_type": "stream",
     "text": [
      "Vector(4,8)\n",
      "Vector(0,-2)\n",
      "Vector(10,15)\n"
     ]
    }
   ],
   "source": [
    "class Vector:\n",
    "    def __init__(self, x, y):\n",
    "        self.x = x\n",
    "        self.y = y\n",
    "\n",
    "    def __add__(self, other):\n",
    "        return Vector(self.x + other.x, self.y+ other.y)\n",
    "    \n",
    "    def __sub__(self, other):\n",
    "        return Vector(self.x-other.x, self.y-other.y)\n",
    "    \n",
    "    def __mul__(self, other):\n",
    "        return Vector(self.x*other, self.y*other)\n",
    "    \n",
    "    def __eq__(self, other):\n",
    "        return self.x == other.x and self.y == other.y\n",
    "\n",
    "    def __repr__(self):\n",
    "        return f\"Vector({self.x},{self.y})\"\n",
    "v1 = Vector(2,3)\n",
    "v2 = Vector(2,5)\n",
    "obj = v1+v2\n",
    "print(obj)\n",
    "print(v1-v2)\n",
    "print(v1*5)"
   ]
  },
  {
   "cell_type": "code",
   "execution_count": 105,
   "metadata": {},
   "outputs": [
    {
     "name": "stdout",
     "output_type": "stream",
     "text": [
      "3 + 7i\n",
      "1 + -1i\n",
      "-10 + 11i\n",
      "0.8235294117647058 + 0.29411764705882354i\n",
      "False\n"
     ]
    }
   ],
   "source": [
    "## Operator overloading for complex numbers (x+yi=0):\n",
    "class ComplexNumbers: \n",
    "    def __init__(self, real, imag):\n",
    "        self.real = real\n",
    "        self.imag = imag\n",
    "    \n",
    "    def __add__(self, other):\n",
    "        return ComplexNumbers(self.real + other.real, self.imag + other.imag )\n",
    "    \n",
    "    def __sub__(self, other):\n",
    "        return ComplexNumbers(self.real - other.real, self.imag - other.imag)\n",
    "    \n",
    "    def __mul__(self, other):\n",
    "        real_part = self.real * other.real - self.imag * other.imag\n",
    "        imag_part = self.real * other.imag + self.imag * other.real\n",
    "        return ComplexNumbers(real_part, imag_part)\n",
    "    \n",
    "    def __truediv__(self, other):\n",
    "        denominator = other.real**2 + other.imag**2\n",
    "        real_part = (self.real * other.real + self.imag * other.imag) / denominator\n",
    "        imag_part = (self.real * other.imag - self.imag * other.real) / denominator\n",
    "        return ComplexNumbers(real_part, imag_part)\n",
    "\n",
    "    def __eq__(self, other):\n",
    "        return self.real == other.real and self.imag == other.imag\n",
    "    \n",
    "    def __repr__(self):\n",
    "        return f\"{self.real} + {self.imag}i\"\n",
    "    \n",
    "c1 = ComplexNumbers(2,3)\n",
    "c2 = ComplexNumbers(1,4)\n",
    "\n",
    "print(c1+c2)\n",
    "print(c1-c2)\n",
    "print(c1 * c2)\n",
    "print(c1 / c2)\n",
    "print(c1==c2)\n"
   ]
  },
  {
   "cell_type": "markdown",
   "id": "4d479a18",
   "metadata": {},
   "source": [
    "### Custom Exception (Raise and Throw an exception):"
   ]
  },
  {
   "cell_type": "code",
   "execution_count": 106,
   "metadata": {},
   "outputs": [],
   "source": [
    "class Error(Exception):\n",
    "    pass\n",
    "\n",
    "class dobException(Error):\n",
    "    pass"
   ]
  },
  {
   "cell_type": "code",
   "execution_count": 107,
   "metadata": {},
   "outputs": [
    {
     "name": "stdout",
     "output_type": "stream",
     "text": [
      "The age is valid so you can apply for the exam.\n"
     ]
    }
   ],
   "source": [
    "year = int(input(\"Enter your DOB: \"))\n",
    "age = 2025 - year\n",
    "\n",
    "try:\n",
    "    if age<=30 and age>=20:\n",
    "        print(\"The age is valid so you can apply for the exam.\")\n",
    "    else:\n",
    "        raise dobException\n",
    "except dobException: \n",
    "    print(\"Sorry, your age should be greater than 20 and less then 30.\")\n"
   ]
  },
  {
   "cell_type": "markdown",
   "id": "f34ce2ff",
   "metadata": {},
   "source": [
    "## Section - 12:"
   ]
  },
  {
   "cell_type": "markdown",
   "id": "6580f348",
   "metadata": {},
   "source": [
    "#### Iterators:\n",
    "\n",
    "Iterators are the advance python concepts that allow for efficient looping and memory management. Iterators provide a way to access collection elements sequentially without exposing the underlying structure."
   ]
  },
  {
   "cell_type": "code",
   "execution_count": 2,
   "metadata": {},
   "outputs": [
    {
     "name": "stdout",
     "output_type": "stream",
     "text": [
      "1\n",
      "2\n",
      "3\n",
      "4\n",
      "5\n",
      "6\n"
     ]
    }
   ],
   "source": [
    "# Normally iteration of list.\n",
    "my_list = [1,2,3,4,5,6]\n",
    "for i in my_list:\n",
    "    print(i)"
   ]
  },
  {
   "cell_type": "code",
   "execution_count": 3,
   "id": "0b937ac6",
   "metadata": {},
   "outputs": [
    {
     "name": "stdout",
     "output_type": "stream",
     "text": [
      "<class 'list'>\n"
     ]
    }
   ],
   "source": [
    "print(type(my_list))"
   ]
  },
  {
   "cell_type": "code",
   "execution_count": 6,
   "metadata": {},
   "outputs": [
    {
     "name": "stdout",
     "output_type": "stream",
     "text": [
      "<class 'list_iterator'>\n"
     ]
    },
    {
     "data": {
      "text/plain": [
       "<list_iterator at 0x1ff2d698790>"
      ]
     },
     "execution_count": 6,
     "metadata": {},
     "output_type": "execute_result"
    }
   ],
   "source": [
    "## Iterator:\n",
    "\n",
    "iterator = iter(my_list)\n",
    "print(type(iterator))\n",
    "iterator #it get stored in memory and cannot be relesed until we iterate from iterator."
   ]
  },
  {
   "cell_type": "code",
   "execution_count": 13,
   "id": "5c5a21cc",
   "metadata": {},
   "outputs": [
    {
     "ename": "StopIteration",
     "evalue": "",
     "output_type": "error",
     "traceback": [
      "\u001b[1;31m---------------------------------------------------------------------------\u001b[0m",
      "\u001b[1;31mStopIteration\u001b[0m                             Traceback (most recent call last)",
      "Cell \u001b[1;32mIn[13], line 2\u001b[0m\n\u001b[0;32m      1\u001b[0m \u001b[38;5;66;03m## Iterate through all the element.\u001b[39;00m\n\u001b[1;32m----> 2\u001b[0m \u001b[38;5;28;43mnext\u001b[39;49m\u001b[43m(\u001b[49m\u001b[43miterator\u001b[49m\u001b[43m)\u001b[49m \u001b[38;5;66;03m# because of lazy loading techique it load only 1 value at time.\u001b[39;00m\n",
      "\u001b[1;31mStopIteration\u001b[0m: "
     ]
    }
   ],
   "source": [
    "## Iterate through all the element.\n",
    "next(iterator) # because of lazy loading techique it load only 1 value at time."
   ]
  },
  {
   "cell_type": "code",
   "execution_count": 30,
   "id": "a54e6dbc",
   "metadata": {},
   "outputs": [],
   "source": [
    "iterator2 = iter(my_list)"
   ]
  },
  {
   "cell_type": "code",
   "execution_count": 32,
   "id": "40e0cc47",
   "metadata": {},
   "outputs": [
    {
     "name": "stdout",
     "output_type": "stream",
     "text": [
      "6\n"
     ]
    }
   ],
   "source": [
    "try: \n",
    "    print(next(iterator2)*3)\n",
    "except StopIteration: \n",
    "    print(\"There are no elements in the iterator.\")"
   ]
  },
  {
   "cell_type": "code",
   "execution_count": 33,
   "id": "7275104f",
   "metadata": {},
   "outputs": [],
   "source": [
    "# string iterator:\n",
    "my_str = \"Hello\"\n",
    "str_iter = iter(my_str)"
   ]
  },
  {
   "cell_type": "code",
   "execution_count": 38,
   "id": "6232eb21",
   "metadata": {},
   "outputs": [
    {
     "name": "stdout",
     "output_type": "stream",
     "text": [
      "There are no elements in the iterator.\n"
     ]
    }
   ],
   "source": [
    "try: \n",
    "    print(next(str_iter))\n",
    "    \n",
    "except StopIteration: \n",
    "    print(\"There are no elements in the iterator.\")"
   ]
  },
  {
   "cell_type": "markdown",
   "id": "fa446aa7",
   "metadata": {},
   "source": [
    "#### Generators:\n",
    "\n",
    "Generator are the simple way to create iterators. They use the yield keyword to produce a series of value lazily, which means they generate values on the fly and do not store them in memory."
   ]
  },
  {
   "cell_type": "code",
   "execution_count": 42,
   "id": "3bc24d29",
   "metadata": {},
   "outputs": [
    {
     "data": {
      "text/plain": [
       "<generator object square at 0x000001FF2DB32330>"
      ]
     },
     "execution_count": 42,
     "metadata": {},
     "output_type": "execute_result"
    }
   ],
   "source": [
    "def square(n):\n",
    "    for i in range(n):\n",
    "        yield i ** 2\n",
    "\n",
    "square(3)"
   ]
  },
  {
   "cell_type": "code",
   "execution_count": 43,
   "id": "34292edb",
   "metadata": {},
   "outputs": [
    {
     "name": "stdout",
     "output_type": "stream",
     "text": [
      "0\n",
      "1\n",
      "4\n"
     ]
    }
   ],
   "source": [
    "for i in square(3):\n",
    "    print(i)"
   ]
  },
  {
   "cell_type": "code",
   "execution_count": 45,
   "id": "c2a33c51",
   "metadata": {},
   "outputs": [
    {
     "name": "stdout",
     "output_type": "stream",
     "text": [
      "1\n",
      "2\n",
      "3\n"
     ]
    }
   ],
   "source": [
    "def my_gen():\n",
    "    yield 1\n",
    "    yield 2\n",
    "    yield 3\n",
    "\n",
    "gen = my_gen()\n",
    "for val in gen:\n",
    "    print(val)"
   ]
  },
  {
   "cell_type": "markdown",
   "id": "02ff29bc",
   "metadata": {},
   "source": [
    "##### Practical Example: Reading Large Files-\n",
    "\n",
    "Generator are particularly useful for reading large files because they allow you to process one line at a time without loading the entire file into memory."
   ]
  },
  {
   "cell_type": "code",
   "execution_count": 48,
   "id": "ea7bee51",
   "metadata": {},
   "outputs": [],
   "source": [
    "## Reading large files:\n",
    "\n",
    "def read_large_file(file_path):\n",
    "    with open(file_path, 'r') as file:\n",
    "        for line in file:\n",
    "            yield line"
   ]
  },
  {
   "cell_type": "code",
   "execution_count": 53,
   "id": "20a13580",
   "metadata": {},
   "outputs": [
    {
     "name": "stdout",
     "output_type": "stream",
     "text": [
      "Hello World\n",
      "New line just print...!!\n",
      "This is append line1st line\n",
      "2nd Line\n",
      "3rd Line\n",
      "\n",
      "This is append line\n",
      "1st line\n",
      "2nd Line\n",
      "3rd Line\n"
     ]
    }
   ],
   "source": [
    "file_path = \"D:/Python/Python_Bootcamp/ds,ml,dl,nlp/meta_data/test_copy.txt\"\n",
    "\n",
    "for line in read_large_file(file_path):\n",
    "    print(line.strip())\n",
    "\n",
    "# next(read_large_file(file_path))"
   ]
  },
  {
   "cell_type": "markdown",
   "id": "66730ad9",
   "metadata": {},
   "source": [
    "#### Key Differences:\n",
    "\n",
    "- Implementation: Iterators are typically implemented as classes with __iter__() and __next__() methods, while generators are implemented as functions using yield or as generator expressions.\n",
    "\n",
    "- State Management: Generators automatically handle state saving and restoration between yield calls, simplifying the creation of iterators. With custom iterators, you manage the state manually within the class.\n",
    "\n",
    "- Memory Efficiency: Generators are inherently memory-efficient as they produce values on demand (lazy evaluation) and don't store the entire sequence in memory, making them suitable for large or infinite sequences. Iterators can also be memory-efficient if implemented correctly, but the mechanism is more explicit.\n",
    "\n",
    "- Simplicity: Generators often offer a more concise and readable way to define iterators for many use cases. \n",
    "\n",
    "- Every iterator is not a generator and Every generator is an iterator."
   ]
  },
  {
   "cell_type": "markdown",
   "id": "02e902a9",
   "metadata": {},
   "source": [
    "#### Decoratros:\n",
    "\n",
    "Decorator are a powerful and flexible feature in Python that allow you to modify the behavior of a function or class method.\n",
    "\n",
    "They are commonly used to add fucntionallity to functions or methods without modifying their actual code."
   ]
  },
  {
   "cell_type": "code",
   "execution_count": null,
   "id": "0f59f8ee",
   "metadata": {},
   "outputs": [
    {
     "data": {
      "text/plain": [
       "'Welcome to the Advance Python Course.'"
      ]
     },
     "execution_count": 54,
     "metadata": {},
     "output_type": "execute_result"
    }
   ],
   "source": [
    "#### Function Copy:\n",
    "def welcome():\n",
    "    return \"Welcome to the Advance Python Course.\"\n",
    "\n",
    "welcome()"
   ]
  },
  {
   "cell_type": "code",
   "execution_count": 56,
   "id": "7b393240",
   "metadata": {},
   "outputs": [
    {
     "name": "stdout",
     "output_type": "stream",
     "text": [
      "Welcome to the Advance Python Course.\n",
      "Welcome to the Advance Python Course.\n"
     ]
    }
   ],
   "source": [
    "# We can copy a function to an variable and then ever deleting the original function the copy function will work.\n",
    "\n",
    "wel = welcome\n",
    "print(wel())\n",
    "del welcome\n",
    "print(wel())"
   ]
  },
  {
   "cell_type": "code",
   "execution_count": 58,
   "id": "aee5bcaa",
   "metadata": {},
   "outputs": [
    {
     "name": "stdout",
     "output_type": "stream",
     "text": [
      "Hello from the Python..!!\n",
      "Message1: Welcome\n",
      "Message2: Everyone\n",
      "Please be comfortable and learn..!!\n"
     ]
    }
   ],
   "source": [
    "#### Closures Function or High-Order Function:\n",
    "\n",
    "def main_welcome(msg2):\n",
    "    msg1 = 'Welcome'\n",
    "    def sub_welcome_function():\n",
    "        print(\"Hello from the Python..!!\")\n",
    "        print(f\"Message1: {msg1}\")\n",
    "        print(f\"Message2: {msg2}\")\n",
    "        print(\"Please be comfortable and learn..!!\")\n",
    "    return sub_welcome_function()\n",
    "\n",
    "main_welcome(\"Everyone\")"
   ]
  },
  {
   "cell_type": "code",
   "execution_count": 59,
   "id": "63e0dc72",
   "metadata": {},
   "outputs": [
    {
     "name": "stdout",
     "output_type": "stream",
     "text": [
      "Hello from the Python..!!\n",
      "Welcome\n",
      "Please be comfortable and learn..!!\n"
     ]
    }
   ],
   "source": [
    "def main_welcome(func):\n",
    "    \n",
    "    def sub_welcome_function():\n",
    "        print(\"Hello from the Python..!!\")\n",
    "        func(\"Welcome\")\n",
    "        print(\"Please be comfortable and learn..!!\")\n",
    "    return sub_welcome_function()\n",
    "\n",
    "main_welcome(print)"
   ]
  },
  {
   "cell_type": "code",
   "execution_count": 61,
   "id": "970e416c",
   "metadata": {},
   "outputs": [
    {
     "name": "stdout",
     "output_type": "stream",
     "text": [
      "Hello from the Python..!!\n",
      "4\n",
      "Please be comfortable and learn..!!\n"
     ]
    }
   ],
   "source": [
    "def main_welcome(func, list):\n",
    "    \n",
    "    def sub_welcome_function():\n",
    "        print(\"Hello from the Python..!!\")\n",
    "        print(func(list))\n",
    "        print(\"Please be comfortable and learn..!!\")\n",
    "    return sub_welcome_function()\n",
    "\n",
    "main_welcome(len,[1,2,3,4])"
   ]
  },
  {
   "cell_type": "code",
   "execution_count": 80,
   "id": "a168f904",
   "metadata": {},
   "outputs": [],
   "source": [
    "#### Decorator:\n",
    "\n",
    "def main_wlc(func):\n",
    "\n",
    "    def sub_wlc():\n",
    "        print(\"Hello from the Python..!!\")\n",
    "        func()\n",
    "        print(\"Please be comfortable and learn..!!\")\n",
    "    # return sub_wlc # when this does not return fucntion then course_intro() is required to call.\n",
    "    return sub_wlc() # when here function is return then no need to call main function \n",
    "def course_intro():\n",
    "    print(\"This is advance Python\")\n",
    "\n",
    "# main_wlc(course_intro)\n",
    "# work = main_wlc(course_intro)\n",
    "# work"
   ]
  },
  {
   "cell_type": "code",
   "execution_count": 82,
   "id": "b30e4367",
   "metadata": {},
   "outputs": [
    {
     "name": "stdout",
     "output_type": "stream",
     "text": [
      "Hello from the Python..!!\n",
      "Again this is Advance Python Course.\n",
      "Please be comfortable and learn..!!\n"
     ]
    }
   ],
   "source": [
    "@main_wlc\n",
    "def course_intro():\n",
    "    print(\"Again this is Advance Python Course.\")\n",
    "\n",
    "# course_intro()"
   ]
  },
  {
   "cell_type": "code",
   "execution_count": null,
   "id": "cc2285c3",
   "metadata": {},
   "outputs": [
    {
     "name": "stdout",
     "output_type": "stream",
     "text": [
      "Hello\n",
      "World\n",
      "something\n"
     ]
    }
   ],
   "source": [
    "## With main Function call:\n",
    "def my_deco(func):\n",
    "    def wrapper():\n",
    "        print(\"Hello\")\n",
    "        func()\n",
    "        print(\"something\")\n",
    "    return wrapper\n",
    "\n",
    "@my_deco\n",
    "def say_some():\n",
    "    print(\"World\")\n",
    "\n",
    "say_some()\n"
   ]
  },
  {
   "cell_type": "code",
   "execution_count": 87,
   "id": "e9e24e1e",
   "metadata": {},
   "outputs": [
    {
     "name": "stdout",
     "output_type": "stream",
     "text": [
      "Namaste\n",
      "Namaste\n",
      "Namaste\n"
     ]
    }
   ],
   "source": [
    "## Decorator with Arguments:\n",
    "\n",
    "def repeat(n):\n",
    "    def decorator(func):\n",
    "        def wrapper(*args, **kwargs):\n",
    "            for _ in range(n):\n",
    "                func(*args, **kwargs)\n",
    "        return wrapper\n",
    "    return decorator\n",
    "\n",
    "@repeat(3)\n",
    "def greet():\n",
    "    print(\"Namaste\")\n",
    "\n",
    "greet()"
   ]
  },
  {
   "cell_type": "markdown",
   "id": "0793dc25",
   "metadata": {},
   "source": [
    "## Section - 13:"
   ]
  },
  {
   "cell_type": "markdown",
   "id": "f6518be7",
   "metadata": {},
   "source": [
    "### Numpy:\n",
    "\n",
    "Numpy is a fundamental library for scientific computing in Python. It provides support for arrays and matrices, along with a collection of mathematical functions to operate on the data structures."
   ]
  },
  {
   "cell_type": "code",
   "execution_count": 89,
   "id": "7cb6fe62",
   "metadata": {},
   "outputs": [
    {
     "name": "stdout",
     "output_type": "stream",
     "text": [
      "Requirement already satisfied: numpy in c:\\users\\ayush\\appdata\\local\\programs\\python\\python312\\lib\\site-packages (1.26.4)\n"
     ]
    }
   ],
   "source": [
    "!pip install numpy"
   ]
  },
  {
   "cell_type": "code",
   "execution_count": 90,
   "id": "698bba8e",
   "metadata": {},
   "outputs": [
    {
     "name": "stdout",
     "output_type": "stream",
     "text": [
      "[1 2 3 4 5]\n",
      "<class 'numpy.ndarray'>\n",
      "(5,)\n"
     ]
    }
   ],
   "source": [
    "import numpy as np\n",
    "\n",
    "## crate arrays using Numpy:\n",
    "\n",
    "# create 1D array:\n",
    "\n",
    "arr1 = np.array([1,2,3,4,5])\n",
    "print(arr1)\n",
    "print(type(arr1))\n",
    "print(arr1.shape)"
   ]
  },
  {
   "cell_type": "code",
   "execution_count": 95,
   "id": "04822eee",
   "metadata": {},
   "outputs": [
    {
     "data": {
      "text/plain": [
       "array([[1, 2, 3, 4, 5]])"
      ]
     },
     "execution_count": 95,
     "metadata": {},
     "output_type": "execute_result"
    }
   ],
   "source": [
    "# Creating 2D array:\n",
    "\n",
    "arr2 = np.array([1,2,3,4,5])\n",
    "arr2.reshape(1,5) # 1 row and 5 columns"
   ]
  },
  {
   "cell_type": "code",
   "execution_count": 96,
   "id": "82a303ef",
   "metadata": {},
   "outputs": [
    {
     "data": {
      "text/plain": [
       "(1, 5)"
      ]
     },
     "execution_count": 96,
     "metadata": {},
     "output_type": "execute_result"
    }
   ],
   "source": [
    "arr2 = np.array([[1,2,3,4,5]])\n",
    "arr2.shape"
   ]
  },
  {
   "cell_type": "code",
   "execution_count": 97,
   "id": "55a14f65",
   "metadata": {},
   "outputs": [
    {
     "name": "stdout",
     "output_type": "stream",
     "text": [
      "[[1 2 3 4 5]\n",
      " [2 3 4 5 6]]\n",
      "(2, 5)\n"
     ]
    }
   ],
   "source": [
    "arr2 = np.array([[1,2,3,4,5],[2,3,4,5,6]])\n",
    "print(arr2)\n",
    "print(arr2.shape)"
   ]
  },
  {
   "cell_type": "code",
   "execution_count": 100,
   "id": "9d9d931a",
   "metadata": {},
   "outputs": [
    {
     "data": {
      "text/plain": [
       "array([[0],\n",
       "       [2],\n",
       "       [4],\n",
       "       [6],\n",
       "       [8]])"
      ]
     },
     "execution_count": 100,
     "metadata": {},
     "output_type": "execute_result"
    }
   ],
   "source": [
    "np.arange(0,10,2)\n",
    "np.arange(0,10,2).reshape(5,1)"
   ]
  },
  {
   "cell_type": "code",
   "execution_count": 103,
   "id": "4e3d2851",
   "metadata": {},
   "outputs": [
    {
     "data": {
      "text/plain": [
       "array([[0., 0., 0., 0.],\n",
       "       [0., 0., 0., 0.],\n",
       "       [0., 0., 0., 0.],\n",
       "       [0., 0., 0., 0.]])"
      ]
     },
     "execution_count": 103,
     "metadata": {},
     "output_type": "execute_result"
    }
   ],
   "source": [
    " ## In deep learning we required these commands\n",
    "np.ones((3,4))\n",
    "np.zeros((4,4))"
   ]
  },
  {
   "cell_type": "code",
   "execution_count": 104,
   "id": "b84e7c21",
   "metadata": {},
   "outputs": [
    {
     "data": {
      "text/plain": [
       "array([[1., 0., 0., 0.],\n",
       "       [0., 1., 0., 0.],\n",
       "       [0., 0., 1., 0.],\n",
       "       [0., 0., 0., 1.]])"
      ]
     },
     "execution_count": 104,
     "metadata": {},
     "output_type": "execute_result"
    }
   ],
   "source": [
    "## Identity matrix : all the digonal values is 1\n",
    "\n",
    "np.eye(4)"
   ]
  },
  {
   "cell_type": "code",
   "execution_count": 106,
   "id": "e65a22af",
   "metadata": {},
   "outputs": [
    {
     "name": "stdout",
     "output_type": "stream",
     "text": [
      "Array:  [[ 1  2  3  4  5]\n",
      " [ 6  7  8  9 10]]\n",
      "Array Shape:  (2, 5)\n",
      "Number of dimansions:  2\n",
      "Size (number of elements):  10\n",
      "Data type:  int32\n",
      "Item size (in bytes): 4\n"
     ]
    }
   ],
   "source": [
    "## Attribute of Numpy array:\n",
    "## Multi commands: \n",
    "\n",
    "\n",
    "arr = np.array([[1,2,3,4,5],[6,7,8,9,10]])\n",
    "\n",
    "print(\"Array: \", arr)\n",
    "print(\"Array Shape: \", arr.shape)\n",
    "print(\"Number of dimansions: \", arr.ndim)\n",
    "print(\"Size (number of elements): \", arr.size)\n",
    "print(\"Data type: \", arr.dtype)\n",
    "print(\"Item size (in bytes):\", arr.itemsize)"
   ]
  },
  {
   "cell_type": "code",
   "execution_count": 107,
   "id": "7158b648",
   "metadata": {},
   "outputs": [
    {
     "name": "stdout",
     "output_type": "stream",
     "text": [
      "Addition:  [11 22 33 44 55]\n",
      "Subtraction:  [ -9 -18 -27 -36 -45]\n",
      "Multiplication:  [ 10  40  90 160 250]\n",
      "Division:  [0.1 0.1 0.1 0.1 0.1]\n"
     ]
    }
   ],
   "source": [
    "## Numpy Vectorized Operation:\n",
    "\n",
    "arr1 = np.array([1,2,3,4,5])\n",
    "arr2 = np.array([10,20,30,40,50])\n",
    "\n",
    "## Element wise \n",
    "print(\"Addition: \", arr1+arr2)\n",
    "print(\"Subtraction: \", arr1-arr2)\n",
    "print(\"Multiplication: \", arr1*arr2)\n",
    "print(\"Division: \", arr1/arr2)\n",
    "\n"
   ]
  },
  {
   "cell_type": "code",
   "execution_count": 110,
   "id": "089ec89b",
   "metadata": {},
   "outputs": [
    {
     "name": "stdout",
     "output_type": "stream",
     "text": [
      "Square root:  [1.         1.41421356 1.73205081 2.         2.23606798]\n",
      "Exponential:  [  2.71828183   7.3890561   20.08553692  54.59815003 148.4131591 ]\n",
      "Exponential of 2:  [ 2.  4.  8. 16. 32.]\n",
      "Sin :  [ 0.84147098  0.90929743  0.14112001 -0.7568025  -0.95892427]\n",
      "log:  [0.         0.69314718 1.09861229 1.38629436 1.60943791]\n"
     ]
    }
   ],
   "source": [
    "## Universal Function:\n",
    "arr = np.array([1,2,3,4,5])\n",
    "\n",
    "print(\"Square root: \", np.sqrt(arr))\n",
    "print(\"Exponential: \", np.exp(arr))\n",
    "print(\"Exponential of 2: \", np.exp2(arr))\n",
    "print(\"Sin : \", np.sin(arr))\n",
    "print(\"log: \", np.log(arr))\n",
    "\n"
   ]
  },
  {
   "cell_type": "code",
   "execution_count": 113,
   "id": "67077998",
   "metadata": {},
   "outputs": [
    {
     "name": "stdout",
     "output_type": "stream",
     "text": [
      "Array: \n",
      " [[ 1  2  3  4]\n",
      " [ 5  6  7  8]\n",
      " [ 9 10 11 12]]\n"
     ]
    }
   ],
   "source": [
    "#  Universal Slicing and Indexing:\n",
    "\n",
    "arr = np.array([[1,2,3,4],[5,6,7,8],[9,10,11,12]])\n",
    "print(\"Array: \\n\", arr)"
   ]
  },
  {
   "cell_type": "code",
   "execution_count": 133,
   "id": "378c0f1f",
   "metadata": {},
   "outputs": [
    {
     "name": "stdout",
     "output_type": "stream",
     "text": [
      "1\n",
      "[[3 4]\n",
      " [7 8]]\n",
      "[[ 9 10 11 12]]\n",
      "[[ 6  7]\n",
      " [10 11]]\n"
     ]
    }
   ],
   "source": [
    "print(arr[0][0])\n",
    "print(arr[0:2,-2:])\n",
    "print(arr[1: ][1:2]) # 1: take all rows after 1 Index and 1:2 select after 1 index output.\n",
    "print(arr[1:,1:3])"
   ]
  },
  {
   "cell_type": "code",
   "execution_count": 130,
   "id": "34ee959c",
   "metadata": {},
   "outputs": [
    {
     "data": {
      "text/plain": [
       "array([[ 7,  8],\n",
       "       [11, 12]])"
      ]
     },
     "execution_count": 130,
     "metadata": {},
     "output_type": "execute_result"
    }
   ],
   "source": [
    "arr[1:,2:]"
   ]
  },
  {
   "cell_type": "code",
   "execution_count": 144,
   "id": "4fc6b27b",
   "metadata": {},
   "outputs": [
    {
     "name": "stdout",
     "output_type": "stream",
     "text": [
      "[[100   2   3   4]\n",
      " [  5   6   7   8]\n",
      " [  9  10  11  12]]\n",
      "multiple of arr * 3 : \n",
      " [[300   6   9  12]\n",
      " [ 15  18  21  24]\n",
      " [ 27  30  33  36]]\n",
      "multiple of array1 * 3 : \n",
      " array('i', [1, 2, 3, 4, 1, 2, 3, 4, 1, 2, 3, 4])\n"
     ]
    }
   ],
   "source": [
    "## Modify array elements:\n",
    "\n",
    "arr[0,0] = 100\n",
    "print(arr)\n",
    "\n",
    "print(\"multiple of arr * 3 : \\n\",arr * 3)\n",
    "\n",
    "import array\n",
    "array1 = array.array('i',[1,2,3,4])\n",
    "print(\"multiple of array1 * 3 : \\n\",array1 * 3)\n"
   ]
  },
  {
   "cell_type": "code",
   "execution_count": 151,
   "id": "19b0b7c1",
   "metadata": {},
   "outputs": [
    {
     "name": "stdout",
     "output_type": "stream",
     "text": [
      "[[100   2   3   4]\n",
      " [100   6   7   8]\n",
      " [100  10  -1  -1]]\n",
      "[[-1  2  3  4]\n",
      " [-1  6  7  8]\n",
      " [-1 10 -1 -1]]\n",
      "[[ -1   2   3   4]\n",
      " [100 100 100 100]\n",
      " [100 100 100 100]]\n"
     ]
    }
   ],
   "source": [
    "arr[:,0] = 100\n",
    "print(arr)\n",
    "\n",
    "arr[arr>10] = -1\n",
    "print(arr)\n",
    "\n",
    "arr[1:] = 100\n",
    "print(arr)"
   ]
  },
  {
   "cell_type": "code",
   "execution_count": null,
   "id": "4c893dad",
   "metadata": {},
   "outputs": [
    {
     "name": "stdout",
     "output_type": "stream",
     "text": [
      "Normalization of data:  [-1.41421356 -0.70710678  0.          0.70710678  1.41421356]\n"
     ]
    }
   ],
   "source": [
    "### Statistical Concepts -- Normalization\n",
    "## to have a mean of 0 and standard deviation of 1\n",
    "data = np.array([1,2,3,4,5])\n",
    "\n",
    "mean = np.mean(data)\n",
    "std_dev =np.std(data)\n",
    "\n",
    "# Normalization of data\n",
    "normalized_data = (data - mean) / std_dev\n",
    "print(\"Normalization of data: \", normalized_data)\n",
    "\n",
    "# Normalization is converting a data into form that mean is 0 and standard deviation is 1."
   ]
  },
  {
   "cell_type": "code",
   "execution_count": 157,
   "id": "4129d5c0",
   "metadata": {},
   "outputs": [
    {
     "name": "stdout",
     "output_type": "stream",
     "text": [
      "Mean:  3.0\n",
      "Median:  3.0\n",
      "Standard Deviation:  1.4142135623730951\n",
      "Variance:  2.0\n"
     ]
    }
   ],
   "source": [
    "mean = np.mean(data)\n",
    "print(\"Mean: \", mean)\n",
    "\n",
    "median = np.median(data)\n",
    "print(\"Median: \", median)\n",
    "\n",
    "std_dev = np.std(data) # how far particular array data point is spred from is from mean.\n",
    "print(\"Standard Deviation: \", std_dev)\n",
    "\n",
    "# Variance is a statistical measure that quantifies the spread of data points around their mean.\n",
    "variance = np.var(data) \n",
    "print(\"Variance: \", variance)"
   ]
  },
  {
   "cell_type": "code",
   "execution_count": 164,
   "id": "4ff9807d",
   "metadata": {},
   "outputs": [
    {
     "data": {
      "text/plain": [
       "array([5, 6, 7, 8])"
      ]
     },
     "execution_count": 164,
     "metadata": {},
     "output_type": "execute_result"
    }
   ],
   "source": [
    "## Logical operation: \n",
    "\n",
    "data = np.array([1,2,3,4,5,6,7,8,9])\n",
    "data[data>5]\n",
    "data[(data>4) & (data<=8)]"
   ]
  },
  {
   "cell_type": "markdown",
   "id": "35eb5a1e",
   "metadata": {},
   "source": [
    "### Pandas:\n",
    "\n",
    "Pandas is a powerful data manipulation library in Python, widely used for data analysis and data cleaning. \n",
    "\n",
    "It provides two primary data structure: Series and DataFrame. \n",
    "A Series is a 1D array-like object it is similar to column in table, while a DataFrame is 2D, size-mutable, and potentially heterogeneous tabular data structure wiht labeled axes(rows and columns)."
   ]
  },
  {
   "cell_type": "code",
   "execution_count": 173,
   "id": "971577d2",
   "metadata": {},
   "outputs": [],
   "source": [
    "import pandas as pd"
   ]
  },
  {
   "cell_type": "code",
   "execution_count": 178,
   "id": "1a33eec6",
   "metadata": {},
   "outputs": [
    {
     "name": "stdout",
     "output_type": "stream",
     "text": [
      "Series: \n",
      " 0    1\n",
      "1    2\n",
      "2    3\n",
      "3    4\n",
      "4    5\n",
      "dtype: int64\n",
      "<class 'pandas.core.series.Series'>\n"
     ]
    }
   ],
   "source": [
    "## Series:\n",
    "\n",
    "data = [1,2,3,4,5]\n",
    "series = pd.Series(data)\n",
    "print('Series: \\n',series)\n",
    "print(type(series))"
   ]
  },
  {
   "cell_type": "code",
   "execution_count": 183,
   "id": "164ccee5",
   "metadata": {},
   "outputs": [
    {
     "name": "stdout",
     "output_type": "stream",
     "text": [
      "a    1\n",
      "b    2\n",
      "c    3\n",
      "dtype: int64\n",
      "  index  0\n",
      "0     a  1\n",
      "1     b  2\n",
      "2     c  3\n",
      "  key  value\n",
      "0   a      1\n",
      "1   b      2\n",
      "2   c      3\n",
      "  key  value\n",
      "0   a      1\n",
      "1   b      2\n",
      "2   c      3\n"
     ]
    }
   ],
   "source": [
    "## Create a series from dictionary:\n",
    "\n",
    "data = {'a':1, 'b':2, 'c':3 }\n",
    "ser_dic = pd.Series(data)\n",
    "print(ser_dic)\n",
    "\n",
    "df = ser_dic.reset_index()\n",
    "print(df)\n",
    "df.columns = ['key', 'value']\n",
    "print(df)\n",
    "\n",
    "# convert directly into dataframe:\n",
    "df = ser_dic.to_frame().reset_index()\n",
    "df.columns = ['key', 'value']\n",
    "print(df)"
   ]
  },
  {
   "cell_type": "code",
   "execution_count": 186,
   "id": "7a323c1d",
   "metadata": {},
   "outputs": [
    {
     "name": "stdout",
     "output_type": "stream",
     "text": [
      "a    10\n",
      "b    20\n",
      "c    30\n",
      "dtype: int64\n",
      "  index   0\n",
      "0     a  10\n",
      "1     b  20\n",
      "2     c  30\n"
     ]
    }
   ],
   "source": [
    "data = [10,20,30]\n",
    "index = ['a','b','c']\n",
    "\n",
    "ser = pd.Series(data, index=index)\n",
    "print(ser)\n",
    "\n",
    "df = ser.reset_index()\n",
    "print(df)"
   ]
  },
  {
   "cell_type": "code",
   "execution_count": 4,
   "id": "12464b2a",
   "metadata": {},
   "outputs": [
    {
     "name": "stdout",
     "output_type": "stream",
     "text": [
      "    Name  Age       City\n",
      "0  Ayush   25     Bhopal\n",
      "1  Krish   28  Bangalore\n",
      "2   John   19   New York\n",
      "3   Jack   33    Florida\n",
      "<class 'pandas.core.frame.DataFrame'>\n"
     ]
    }
   ],
   "source": [
    "# DataFrame:\n",
    "# Create a Dataframe from a dictionary of list:\n",
    "\n",
    "import pandas as pd\n",
    "\n",
    "data = {\n",
    "    'Name': ['Ayush','Krish', 'John','Jack'],\n",
    "    'Age': [25,28,19,33],\n",
    "    'City':['Bhopal','Bangalore', 'New York', 'Florida']\n",
    "}\n",
    "\n",
    "df = pd.DataFrame(data)\n",
    "print(df)\n",
    "print(type(df))"
   ]
  },
  {
   "cell_type": "code",
   "execution_count": 5,
   "id": "9fac96ce",
   "metadata": {},
   "outputs": [
    {
     "data": {
      "text/plain": [
       "array([['Ayush', 25, 'Bhopal'],\n",
       "       ['Krish', 28, 'Bangalore'],\n",
       "       ['John', 19, 'New York'],\n",
       "       ['Jack', 33, 'Florida']], dtype=object)"
      ]
     },
     "execution_count": 5,
     "metadata": {},
     "output_type": "execute_result"
    }
   ],
   "source": [
    "import numpy as np\n",
    "np.array(df)"
   ]
  },
  {
   "cell_type": "code",
   "execution_count": 72,
   "id": "29fa7bf0",
   "metadata": {},
   "outputs": [
    {
     "data": {
      "text/html": [
       "<div>\n",
       "<style scoped>\n",
       "    .dataframe tbody tr th:only-of-type {\n",
       "        vertical-align: middle;\n",
       "    }\n",
       "\n",
       "    .dataframe tbody tr th {\n",
       "        vertical-align: top;\n",
       "    }\n",
       "\n",
       "    .dataframe thead th {\n",
       "        text-align: right;\n",
       "    }\n",
       "</style>\n",
       "<table border=\"1\" class=\"dataframe\">\n",
       "  <thead>\n",
       "    <tr style=\"text-align: right;\">\n",
       "      <th></th>\n",
       "      <th>Client ID</th>\n",
       "      <th>Name</th>\n",
       "      <th>Age</th>\n",
       "      <th>Sex</th>\n",
       "      <th>Location ID</th>\n",
       "      <th>Joined Bank</th>\n",
       "      <th>Banking Contact</th>\n",
       "      <th>Nationality</th>\n",
       "      <th>Occupation</th>\n",
       "      <th>Investment Advisor</th>\n",
       "      <th>...</th>\n",
       "      <th>Amount of Credit Cards</th>\n",
       "      <th>Credit Card Balance</th>\n",
       "      <th>Bank Loans</th>\n",
       "      <th>Bank Deposits</th>\n",
       "      <th>Checking Accounts</th>\n",
       "      <th>Saving Accounts</th>\n",
       "      <th>Foreign Currency Account</th>\n",
       "      <th>Business Lending</th>\n",
       "      <th>Properties Owned</th>\n",
       "      <th>Risk Weighting</th>\n",
       "    </tr>\n",
       "  </thead>\n",
       "  <tbody>\n",
       "    <tr>\n",
       "      <th>0</th>\n",
       "      <td>PKR81288</td>\n",
       "      <td>Raymond Mills</td>\n",
       "      <td>24</td>\n",
       "      <td>Male</td>\n",
       "      <td>34324</td>\n",
       "      <td>2019-05-06</td>\n",
       "      <td>Anthony Torres</td>\n",
       "      <td>American</td>\n",
       "      <td>Safety Technician IV</td>\n",
       "      <td>Victor Dean</td>\n",
       "      <td>...</td>\n",
       "      <td>1</td>\n",
       "      <td>484.5440</td>\n",
       "      <td>7.762429e+05</td>\n",
       "      <td>1.485829e+06</td>\n",
       "      <td>6.036179e+05</td>\n",
       "      <td>607332.455240</td>\n",
       "      <td>12249.9584</td>\n",
       "      <td>1.134475e+06</td>\n",
       "      <td>1</td>\n",
       "      <td>2</td>\n",
       "    </tr>\n",
       "    <tr>\n",
       "      <th>1</th>\n",
       "      <td>PKR65833</td>\n",
       "      <td>Julia Spencer</td>\n",
       "      <td>23</td>\n",
       "      <td>Male</td>\n",
       "      <td>42205</td>\n",
       "      <td>2001-12-10</td>\n",
       "      <td>Jonathan Hawkins</td>\n",
       "      <td>African</td>\n",
       "      <td>Software Consultant</td>\n",
       "      <td>Jeremy Porter</td>\n",
       "      <td>...</td>\n",
       "      <td>1</td>\n",
       "      <td>2256.8777</td>\n",
       "      <td>1.270615e+06</td>\n",
       "      <td>6.414828e+05</td>\n",
       "      <td>2.295214e+05</td>\n",
       "      <td>344635.157402</td>\n",
       "      <td>61162.3089</td>\n",
       "      <td>2.000526e+06</td>\n",
       "      <td>1</td>\n",
       "      <td>3</td>\n",
       "    </tr>\n",
       "    <tr>\n",
       "      <th>2</th>\n",
       "      <td>PKR47499</td>\n",
       "      <td>Stephen Murray</td>\n",
       "      <td>27</td>\n",
       "      <td>Female</td>\n",
       "      <td>7314</td>\n",
       "      <td>2010-01-25</td>\n",
       "      <td>Anthony Berry</td>\n",
       "      <td>European</td>\n",
       "      <td>Help Desk Operator</td>\n",
       "      <td>Ernest Knight</td>\n",
       "      <td>...</td>\n",
       "      <td>2</td>\n",
       "      <td>4568.7438</td>\n",
       "      <td>1.052716e+06</td>\n",
       "      <td>1.033402e+06</td>\n",
       "      <td>6.526747e+05</td>\n",
       "      <td>203054.348179</td>\n",
       "      <td>79071.7794</td>\n",
       "      <td>5.481376e+05</td>\n",
       "      <td>1</td>\n",
       "      <td>3</td>\n",
       "    </tr>\n",
       "    <tr>\n",
       "      <th>3</th>\n",
       "      <td>PKR72498</td>\n",
       "      <td>Virginia Garza</td>\n",
       "      <td>40</td>\n",
       "      <td>Male</td>\n",
       "      <td>34594</td>\n",
       "      <td>1993-03-28</td>\n",
       "      <td>Steve Diaz</td>\n",
       "      <td>American</td>\n",
       "      <td>Geologist II</td>\n",
       "      <td>Eric Shaw</td>\n",
       "      <td>...</td>\n",
       "      <td>2</td>\n",
       "      <td>4205.0010</td>\n",
       "      <td>1.211951e+05</td>\n",
       "      <td>1.048157e+06</td>\n",
       "      <td>1.048157e+06</td>\n",
       "      <td>234685.019326</td>\n",
       "      <td>57513.6520</td>\n",
       "      <td>1.148402e+06</td>\n",
       "      <td>0</td>\n",
       "      <td>4</td>\n",
       "    </tr>\n",
       "    <tr>\n",
       "      <th>4</th>\n",
       "      <td>PKR60181</td>\n",
       "      <td>Melissa Sanders</td>\n",
       "      <td>46</td>\n",
       "      <td>Female</td>\n",
       "      <td>41269</td>\n",
       "      <td>2012-07-20</td>\n",
       "      <td>Shawn Long</td>\n",
       "      <td>American</td>\n",
       "      <td>Assistant Professor</td>\n",
       "      <td>Kevin Kim</td>\n",
       "      <td>...</td>\n",
       "      <td>1</td>\n",
       "      <td>3779.4880</td>\n",
       "      <td>1.048302e+06</td>\n",
       "      <td>4.877825e+05</td>\n",
       "      <td>4.466442e+05</td>\n",
       "      <td>128351.452320</td>\n",
       "      <td>30012.1360</td>\n",
       "      <td>1.674412e+06</td>\n",
       "      <td>0</td>\n",
       "      <td>3</td>\n",
       "    </tr>\n",
       "  </tbody>\n",
       "</table>\n",
       "<p>5 rows × 25 columns</p>\n",
       "</div>"
      ],
      "text/plain": [
       "  Client ID             Name  Age     Sex  Location ID Joined Bank  \\\n",
       "0  PKR81288    Raymond Mills   24    Male        34324  2019-05-06   \n",
       "1  PKR65833    Julia Spencer   23    Male        42205  2001-12-10   \n",
       "2  PKR47499   Stephen Murray   27  Female         7314  2010-01-25   \n",
       "3  PKR72498   Virginia Garza   40    Male        34594  1993-03-28   \n",
       "4  PKR60181  Melissa Sanders   46  Female        41269  2012-07-20   \n",
       "\n",
       "    Banking Contact Nationality            Occupation Investment Advisor  ...  \\\n",
       "0    Anthony Torres    American  Safety Technician IV        Victor Dean  ...   \n",
       "1  Jonathan Hawkins     African   Software Consultant      Jeremy Porter  ...   \n",
       "2     Anthony Berry    European    Help Desk Operator      Ernest Knight  ...   \n",
       "3        Steve Diaz    American          Geologist II          Eric Shaw  ...   \n",
       "4        Shawn Long    American   Assistant Professor          Kevin Kim  ...   \n",
       "\n",
       "  Amount of Credit Cards Credit Card Balance    Bank Loans  Bank Deposits  \\\n",
       "0                      1            484.5440  7.762429e+05   1.485829e+06   \n",
       "1                      1           2256.8777  1.270615e+06   6.414828e+05   \n",
       "2                      2           4568.7438  1.052716e+06   1.033402e+06   \n",
       "3                      2           4205.0010  1.211951e+05   1.048157e+06   \n",
       "4                      1           3779.4880  1.048302e+06   4.877825e+05   \n",
       "\n",
       "   Checking Accounts  Saving Accounts  Foreign Currency Account  \\\n",
       "0       6.036179e+05    607332.455240                12249.9584   \n",
       "1       2.295214e+05    344635.157402                61162.3089   \n",
       "2       6.526747e+05    203054.348179                79071.7794   \n",
       "3       1.048157e+06    234685.019326                57513.6520   \n",
       "4       4.466442e+05    128351.452320                30012.1360   \n",
       "\n",
       "   Business Lending  Properties Owned  Risk Weighting  \n",
       "0      1.134475e+06                 1               2  \n",
       "1      2.000526e+06                 1               3  \n",
       "2      5.481376e+05                 1               3  \n",
       "3      1.148402e+06                 0               4  \n",
       "4      1.674412e+06                 0               3  \n",
       "\n",
       "[5 rows x 25 columns]"
      ]
     },
     "execution_count": 72,
     "metadata": {},
     "output_type": "execute_result"
    }
   ],
   "source": [
    "file_path = 'D:/Python/Python_Bootcamp/ds,ml,dl,nlp/meta_data/banking Data.xlsx'\n",
    "df_file = pd.read_excel(file_path)\n",
    "df_file.head()\n"
   ]
  },
  {
   "cell_type": "code",
   "execution_count": 73,
   "id": "25a42421",
   "metadata": {},
   "outputs": [
    {
     "data": {
      "text/html": [
       "<div>\n",
       "<style scoped>\n",
       "    .dataframe tbody tr th:only-of-type {\n",
       "        vertical-align: middle;\n",
       "    }\n",
       "\n",
       "    .dataframe tbody tr th {\n",
       "        vertical-align: top;\n",
       "    }\n",
       "\n",
       "    .dataframe thead th {\n",
       "        text-align: right;\n",
       "    }\n",
       "</style>\n",
       "<table border=\"1\" class=\"dataframe\">\n",
       "  <thead>\n",
       "    <tr style=\"text-align: right;\">\n",
       "      <th></th>\n",
       "      <th>Client ID</th>\n",
       "      <th>Name</th>\n",
       "      <th>Age</th>\n",
       "      <th>Sex</th>\n",
       "      <th>Location ID</th>\n",
       "      <th>Joined Bank</th>\n",
       "      <th>Banking Contact</th>\n",
       "      <th>Nationality</th>\n",
       "      <th>Occupation</th>\n",
       "      <th>Investment Advisor</th>\n",
       "      <th>...</th>\n",
       "      <th>Amount of Credit Cards</th>\n",
       "      <th>Credit Card Balance</th>\n",
       "      <th>Bank Loans</th>\n",
       "      <th>Bank Deposits</th>\n",
       "      <th>Checking Accounts</th>\n",
       "      <th>Saving Accounts</th>\n",
       "      <th>Foreign Currency Account</th>\n",
       "      <th>Business Lending</th>\n",
       "      <th>Properties Owned</th>\n",
       "      <th>Risk Weighting</th>\n",
       "    </tr>\n",
       "  </thead>\n",
       "  <tbody>\n",
       "    <tr>\n",
       "      <th>2995</th>\n",
       "      <td>PKR66827</td>\n",
       "      <td>Earl Hall</td>\n",
       "      <td>82</td>\n",
       "      <td>Female</td>\n",
       "      <td>8760</td>\n",
       "      <td>2014-10-09</td>\n",
       "      <td>Joshua Bennett</td>\n",
       "      <td>American</td>\n",
       "      <td>Accounting Assistant III</td>\n",
       "      <td>Daniel Carroll</td>\n",
       "      <td>...</td>\n",
       "      <td>1</td>\n",
       "      <td>649.8540</td>\n",
       "      <td>223935.1380</td>\n",
       "      <td>1.089957e+06</td>\n",
       "      <td>532867.880160</td>\n",
       "      <td>657849.619325</td>\n",
       "      <td>12947.3100</td>\n",
       "      <td>1.238860e+06</td>\n",
       "      <td>1</td>\n",
       "      <td>3</td>\n",
       "    </tr>\n",
       "    <tr>\n",
       "      <th>2996</th>\n",
       "      <td>PKR40556</td>\n",
       "      <td>Billy Williamson</td>\n",
       "      <td>44</td>\n",
       "      <td>Female</td>\n",
       "      <td>32837</td>\n",
       "      <td>2009-02-05</td>\n",
       "      <td>Dennis Ruiz</td>\n",
       "      <td>European</td>\n",
       "      <td>Paralegal</td>\n",
       "      <td>Peter Castillo</td>\n",
       "      <td>...</td>\n",
       "      <td>1</td>\n",
       "      <td>1639.0350</td>\n",
       "      <td>595902.0150</td>\n",
       "      <td>1.368913e+05</td>\n",
       "      <td>56581.744050</td>\n",
       "      <td>93195.608103</td>\n",
       "      <td>23205.6900</td>\n",
       "      <td>2.771711e+05</td>\n",
       "      <td>1</td>\n",
       "      <td>2</td>\n",
       "    </tr>\n",
       "    <tr>\n",
       "      <th>2997</th>\n",
       "      <td>PKR72414</td>\n",
       "      <td>Victor Black</td>\n",
       "      <td>70</td>\n",
       "      <td>Female</td>\n",
       "      <td>36088</td>\n",
       "      <td>2009-12-29</td>\n",
       "      <td>Joshua Ryan</td>\n",
       "      <td>American</td>\n",
       "      <td>Statistician IV</td>\n",
       "      <td>Steve Sanchez</td>\n",
       "      <td>...</td>\n",
       "      <td>1</td>\n",
       "      <td>2352.8448</td>\n",
       "      <td>880493.0256</td>\n",
       "      <td>2.148609e+05</td>\n",
       "      <td>158726.064384</td>\n",
       "      <td>35539.152952</td>\n",
       "      <td>30291.8112</td>\n",
       "      <td>5.029472e+05</td>\n",
       "      <td>2</td>\n",
       "      <td>2</td>\n",
       "    </tr>\n",
       "    <tr>\n",
       "      <th>2998</th>\n",
       "      <td>PKR46652</td>\n",
       "      <td>Andrew Ford</td>\n",
       "      <td>56</td>\n",
       "      <td>Female</td>\n",
       "      <td>24871</td>\n",
       "      <td>2006-02-13</td>\n",
       "      <td>Nicholas Cunningham</td>\n",
       "      <td>European</td>\n",
       "      <td>Human Resources Assistant III</td>\n",
       "      <td>Juan Ramirez</td>\n",
       "      <td>...</td>\n",
       "      <td>2</td>\n",
       "      <td>3578.6088</td>\n",
       "      <td>268625.0268</td>\n",
       "      <td>7.426302e+05</td>\n",
       "      <td>404638.261560</td>\n",
       "      <td>56411.334112</td>\n",
       "      <td>6413.1444</td>\n",
       "      <td>1.538369e+06</td>\n",
       "      <td>3</td>\n",
       "      <td>1</td>\n",
       "    </tr>\n",
       "    <tr>\n",
       "      <th>2999</th>\n",
       "      <td>PKR40216</td>\n",
       "      <td>Amy Nguyen</td>\n",
       "      <td>79</td>\n",
       "      <td>Female</td>\n",
       "      <td>38518</td>\n",
       "      <td>2005-12-08</td>\n",
       "      <td>Joe Hanson</td>\n",
       "      <td>American</td>\n",
       "      <td>Biostatistician III</td>\n",
       "      <td>Peter Castillo</td>\n",
       "      <td>...</td>\n",
       "      <td>1</td>\n",
       "      <td>1494.6876</td>\n",
       "      <td>285640.6572</td>\n",
       "      <td>6.561766e+04</td>\n",
       "      <td>77769.082368</td>\n",
       "      <td>32371.380536</td>\n",
       "      <td>8992.3608</td>\n",
       "      <td>3.294125e+05</td>\n",
       "      <td>1</td>\n",
       "      <td>1</td>\n",
       "    </tr>\n",
       "  </tbody>\n",
       "</table>\n",
       "<p>5 rows × 25 columns</p>\n",
       "</div>"
      ],
      "text/plain": [
       "     Client ID              Name  Age     Sex  Location ID Joined Bank  \\\n",
       "2995  PKR66827         Earl Hall   82  Female         8760  2014-10-09   \n",
       "2996  PKR40556  Billy Williamson   44  Female        32837  2009-02-05   \n",
       "2997  PKR72414      Victor Black   70  Female        36088  2009-12-29   \n",
       "2998  PKR46652       Andrew Ford   56  Female        24871  2006-02-13   \n",
       "2999  PKR40216        Amy Nguyen   79  Female        38518  2005-12-08   \n",
       "\n",
       "          Banking Contact Nationality                     Occupation  \\\n",
       "2995       Joshua Bennett    American       Accounting Assistant III   \n",
       "2996          Dennis Ruiz    European                      Paralegal   \n",
       "2997          Joshua Ryan    American                Statistician IV   \n",
       "2998  Nicholas Cunningham    European  Human Resources Assistant III   \n",
       "2999           Joe Hanson    American            Biostatistician III   \n",
       "\n",
       "     Investment Advisor  ... Amount of Credit Cards Credit Card Balance  \\\n",
       "2995     Daniel Carroll  ...                      1            649.8540   \n",
       "2996     Peter Castillo  ...                      1           1639.0350   \n",
       "2997      Steve Sanchez  ...                      1           2352.8448   \n",
       "2998       Juan Ramirez  ...                      2           3578.6088   \n",
       "2999     Peter Castillo  ...                      1           1494.6876   \n",
       "\n",
       "       Bank Loans  Bank Deposits  Checking Accounts  Saving Accounts  \\\n",
       "2995  223935.1380   1.089957e+06      532867.880160    657849.619325   \n",
       "2996  595902.0150   1.368913e+05       56581.744050     93195.608103   \n",
       "2997  880493.0256   2.148609e+05      158726.064384     35539.152952   \n",
       "2998  268625.0268   7.426302e+05      404638.261560     56411.334112   \n",
       "2999  285640.6572   6.561766e+04       77769.082368     32371.380536   \n",
       "\n",
       "      Foreign Currency Account  Business Lending  Properties Owned  \\\n",
       "2995                12947.3100      1.238860e+06                 1   \n",
       "2996                23205.6900      2.771711e+05                 1   \n",
       "2997                30291.8112      5.029472e+05                 2   \n",
       "2998                 6413.1444      1.538369e+06                 3   \n",
       "2999                 8992.3608      3.294125e+05                 1   \n",
       "\n",
       "      Risk Weighting  \n",
       "2995               3  \n",
       "2996               2  \n",
       "2997               2  \n",
       "2998               1  \n",
       "2999               1  \n",
       "\n",
       "[5 rows x 25 columns]"
      ]
     },
     "execution_count": 73,
     "metadata": {},
     "output_type": "execute_result"
    }
   ],
   "source": [
    "df_file.tail()"
   ]
  },
  {
   "cell_type": "code",
   "execution_count": 74,
   "id": "922bd99e",
   "metadata": {},
   "outputs": [
    {
     "data": {
      "text/plain": [
       "pandas.core.series.Series"
      ]
     },
     "execution_count": 74,
     "metadata": {},
     "output_type": "execute_result"
    }
   ],
   "source": [
    "# If we pick up 1 column it become series type.\n",
    "type(df_file['Name'] )"
   ]
  },
  {
   "cell_type": "code",
   "execution_count": 75,
   "id": "6bbf3974",
   "metadata": {},
   "outputs": [
    {
     "name": "stdout",
     "output_type": "stream",
     "text": [
      "Ayush\n",
      "Ayush\n",
      "a    25\n",
      "b    28\n",
      "c    19\n",
      "d    33\n",
      "Name: Age, dtype: int64\n",
      "    Name  Age       City\n",
      "a  Ayush   25     Bhopal\n",
      "b  Krish   28  Bangalore\n",
      "d   Jack   33    Florida\n"
     ]
    }
   ],
   "source": [
    "# Pick up row and column wise and we can search index by its name not only values:\n",
    "df = pd.DataFrame(data, index=['a','b','c','d'])\n",
    "\n",
    "print( df.loc['a']['Name'] ) # select a specific cell\n",
    "print( df.loc['a','Name'] )\n",
    "\n",
    "print( df.loc['a':'d','Age']) # for slicing all start and end element is include.\n",
    "\n",
    "print( df.loc[df['Age']>20] ) # Filter row based on condition."
   ]
  },
  {
   "cell_type": "code",
   "execution_count": 76,
   "id": "8a0ffd03",
   "metadata": {},
   "outputs": [
    {
     "name": "stdout",
     "output_type": "stream",
     "text": [
      "Krish\n",
      "    Name  Age       City\n",
      "a  Ayush   25     Bhopal\n",
      "b  Krish   28  Bangalore\n",
      "c   John   19   New York\n",
      "\n",
      "    Name  Age      City\n",
      "a  Ayush   25    Bhopal\n",
      "c   John   19  New York\n"
     ]
    }
   ],
   "source": [
    "# pick specific row or column position\n",
    "# print( df.iloc[0][1] ) # generating warning\n",
    "print( df.iloc[1,0] )\n",
    "\n",
    "# for slicing 'end' element is not included.\n",
    "print( df.iloc[0:3, :] )\n",
    "print()\n",
    "\n",
    "# Does not directly suppoet boolean for filter, but can use integer array or list derived from condition.\n",
    "print( df.iloc[[0,2]] )"
   ]
  },
  {
   "cell_type": "markdown",
   "id": "3d9238fe",
   "metadata": {},
   "source": [
    "### Key Differences Summarized:\n",
    "\n",
    ".loc: \n",
    "- Indexing: Label-based (row/column names)\n",
    "- Slicing: Inclusive of start and end labels\n",
    "- Filtering: Directly supports boolean conditions\n",
    "\n",
    ".iloc: \n",
    "- Indexing: Integer-location based (0-indexed positions)\n",
    "- Slicing: Exclusive of the end position\n",
    "- Filtering: Requires integer positions or arrays\n"
   ]
  },
  {
   "cell_type": "code",
   "execution_count": 77,
   "id": "7c2dfe46",
   "metadata": {},
   "outputs": [
    {
     "name": "stdout",
     "output_type": "stream",
     "text": [
      "  index   Name  Age       City\n",
      "0     a  Ayush   25     Bhopal\n",
      "1     b  Krish   28  Bangalore\n",
      "2     c   John   19   New York\n",
      "3     d   Jack   33    Florida\n"
     ]
    },
    {
     "data": {
      "text/plain": [
       "'Jack'"
      ]
     },
     "execution_count": 77,
     "metadata": {},
     "output_type": "execute_result"
    }
   ],
   "source": [
    "# Accessing a specified element:\n",
    "df1 = df.reset_index()\n",
    "print(df1)\n",
    "\n",
    "df1.at[0,'Age']\n",
    "df1.at[3,'Name']"
   ]
  },
  {
   "cell_type": "code",
   "execution_count": 78,
   "id": "50d13ef8",
   "metadata": {},
   "outputs": [
    {
     "data": {
      "text/plain": [
       "'Florida'"
      ]
     },
     "execution_count": 78,
     "metadata": {},
     "output_type": "execute_result"
    }
   ],
   "source": [
    "# Accessing a specific element using iat : \n",
    "df1.iat[3,3]"
   ]
  },
  {
   "cell_type": "code",
   "execution_count": 79,
   "id": "40b46dbb",
   "metadata": {},
   "outputs": [
    {
     "data": {
      "text/html": [
       "<div>\n",
       "<style scoped>\n",
       "    .dataframe tbody tr th:only-of-type {\n",
       "        vertical-align: middle;\n",
       "    }\n",
       "\n",
       "    .dataframe tbody tr th {\n",
       "        vertical-align: top;\n",
       "    }\n",
       "\n",
       "    .dataframe thead th {\n",
       "        text-align: right;\n",
       "    }\n",
       "</style>\n",
       "<table border=\"1\" class=\"dataframe\">\n",
       "  <thead>\n",
       "    <tr style=\"text-align: right;\">\n",
       "      <th></th>\n",
       "      <th>index</th>\n",
       "      <th>Name</th>\n",
       "      <th>Age</th>\n",
       "      <th>City</th>\n",
       "      <th>Salary</th>\n",
       "    </tr>\n",
       "  </thead>\n",
       "  <tbody>\n",
       "    <tr>\n",
       "      <th>0</th>\n",
       "      <td>a</td>\n",
       "      <td>Ayush</td>\n",
       "      <td>25</td>\n",
       "      <td>Bhopal</td>\n",
       "      <td>500000</td>\n",
       "    </tr>\n",
       "    <tr>\n",
       "      <th>1</th>\n",
       "      <td>b</td>\n",
       "      <td>Krish</td>\n",
       "      <td>28</td>\n",
       "      <td>Bangalore</td>\n",
       "      <td>100000</td>\n",
       "    </tr>\n",
       "    <tr>\n",
       "      <th>2</th>\n",
       "      <td>c</td>\n",
       "      <td>John</td>\n",
       "      <td>19</td>\n",
       "      <td>New York</td>\n",
       "      <td>32000</td>\n",
       "    </tr>\n",
       "    <tr>\n",
       "      <th>3</th>\n",
       "      <td>d</td>\n",
       "      <td>Jack</td>\n",
       "      <td>33</td>\n",
       "      <td>Florida</td>\n",
       "      <td>45000</td>\n",
       "    </tr>\n",
       "  </tbody>\n",
       "</table>\n",
       "</div>"
      ],
      "text/plain": [
       "  index   Name  Age       City  Salary\n",
       "0     a  Ayush   25     Bhopal  500000\n",
       "1     b  Krish   28  Bangalore  100000\n",
       "2     c   John   19   New York   32000\n",
       "3     d   Jack   33    Florida   45000"
      ]
     },
     "execution_count": 79,
     "metadata": {},
     "output_type": "execute_result"
    }
   ],
   "source": [
    "# Data Manipulation with DataFrame:\n",
    "\n",
    "df1['Salary'] = [500000,100000,32000,45000 ]\n",
    "df1\n"
   ]
  },
  {
   "cell_type": "code",
   "execution_count": 80,
   "id": "4da458e2",
   "metadata": {},
   "outputs": [
    {
     "data": {
      "text/html": [
       "<div>\n",
       "<style scoped>\n",
       "    .dataframe tbody tr th:only-of-type {\n",
       "        vertical-align: middle;\n",
       "    }\n",
       "\n",
       "    .dataframe tbody tr th {\n",
       "        vertical-align: top;\n",
       "    }\n",
       "\n",
       "    .dataframe thead th {\n",
       "        text-align: right;\n",
       "    }\n",
       "</style>\n",
       "<table border=\"1\" class=\"dataframe\">\n",
       "  <thead>\n",
       "    <tr style=\"text-align: right;\">\n",
       "      <th></th>\n",
       "      <th>Name</th>\n",
       "      <th>Age</th>\n",
       "      <th>City</th>\n",
       "      <th>Salary</th>\n",
       "    </tr>\n",
       "  </thead>\n",
       "  <tbody>\n",
       "    <tr>\n",
       "      <th>0</th>\n",
       "      <td>Ayush</td>\n",
       "      <td>25</td>\n",
       "      <td>Bhopal</td>\n",
       "      <td>500000</td>\n",
       "    </tr>\n",
       "    <tr>\n",
       "      <th>1</th>\n",
       "      <td>Krish</td>\n",
       "      <td>28</td>\n",
       "      <td>Bangalore</td>\n",
       "      <td>100000</td>\n",
       "    </tr>\n",
       "    <tr>\n",
       "      <th>2</th>\n",
       "      <td>John</td>\n",
       "      <td>19</td>\n",
       "      <td>New York</td>\n",
       "      <td>32000</td>\n",
       "    </tr>\n",
       "    <tr>\n",
       "      <th>3</th>\n",
       "      <td>Jack</td>\n",
       "      <td>33</td>\n",
       "      <td>Florida</td>\n",
       "      <td>45000</td>\n",
       "    </tr>\n",
       "  </tbody>\n",
       "</table>\n",
       "</div>"
      ],
      "text/plain": [
       "    Name  Age       City  Salary\n",
       "0  Ayush   25     Bhopal  500000\n",
       "1  Krish   28  Bangalore  100000\n",
       "2   John   19   New York   32000\n",
       "3   Jack   33    Florida   45000"
      ]
     },
     "execution_count": 80,
     "metadata": {},
     "output_type": "execute_result"
    }
   ],
   "source": [
    "# Removing column = 1, row = 0:\n",
    "df1.drop('index', axis = 1, inplace=True )\n",
    "df1"
   ]
  },
  {
   "cell_type": "code",
   "execution_count": 81,
   "id": "f680b1c3",
   "metadata": {},
   "outputs": [
    {
     "data": {
      "text/html": [
       "<div>\n",
       "<style scoped>\n",
       "    .dataframe tbody tr th:only-of-type {\n",
       "        vertical-align: middle;\n",
       "    }\n",
       "\n",
       "    .dataframe tbody tr th {\n",
       "        vertical-align: top;\n",
       "    }\n",
       "\n",
       "    .dataframe thead th {\n",
       "        text-align: right;\n",
       "    }\n",
       "</style>\n",
       "<table border=\"1\" class=\"dataframe\">\n",
       "  <thead>\n",
       "    <tr style=\"text-align: right;\">\n",
       "      <th></th>\n",
       "      <th>Name</th>\n",
       "      <th>Age</th>\n",
       "      <th>City</th>\n",
       "      <th>Salary</th>\n",
       "    </tr>\n",
       "  </thead>\n",
       "  <tbody>\n",
       "    <tr>\n",
       "      <th>0</th>\n",
       "      <td>Ayush</td>\n",
       "      <td>25</td>\n",
       "      <td>Bhopal</td>\n",
       "      <td>500000</td>\n",
       "    </tr>\n",
       "    <tr>\n",
       "      <th>1</th>\n",
       "      <td>Krish</td>\n",
       "      <td>28</td>\n",
       "      <td>Bangalore</td>\n",
       "      <td>100000</td>\n",
       "    </tr>\n",
       "    <tr>\n",
       "      <th>3</th>\n",
       "      <td>Jack</td>\n",
       "      <td>33</td>\n",
       "      <td>Florida</td>\n",
       "      <td>45000</td>\n",
       "    </tr>\n",
       "  </tbody>\n",
       "</table>\n",
       "</div>"
      ],
      "text/plain": [
       "    Name  Age       City  Salary\n",
       "0  Ayush   25     Bhopal  500000\n",
       "1  Krish   28  Bangalore  100000\n",
       "3   Jack   33    Florida   45000"
      ]
     },
     "execution_count": 81,
     "metadata": {},
     "output_type": "execute_result"
    }
   ],
   "source": [
    "df1.drop(3, axis=0)\n",
    "df1.drop(2)"
   ]
  },
  {
   "cell_type": "code",
   "execution_count": 82,
   "id": "5ce50cde",
   "metadata": {},
   "outputs": [
    {
     "data": {
      "text/html": [
       "<div>\n",
       "<style scoped>\n",
       "    .dataframe tbody tr th:only-of-type {\n",
       "        vertical-align: middle;\n",
       "    }\n",
       "\n",
       "    .dataframe tbody tr th {\n",
       "        vertical-align: top;\n",
       "    }\n",
       "\n",
       "    .dataframe thead th {\n",
       "        text-align: right;\n",
       "    }\n",
       "</style>\n",
       "<table border=\"1\" class=\"dataframe\">\n",
       "  <thead>\n",
       "    <tr style=\"text-align: right;\">\n",
       "      <th></th>\n",
       "      <th>Name</th>\n",
       "      <th>Age</th>\n",
       "      <th>City</th>\n",
       "    </tr>\n",
       "  </thead>\n",
       "  <tbody>\n",
       "    <tr>\n",
       "      <th>a</th>\n",
       "      <td>Ayush</td>\n",
       "      <td>26</td>\n",
       "      <td>Bhopal</td>\n",
       "    </tr>\n",
       "    <tr>\n",
       "      <th>b</th>\n",
       "      <td>Krish</td>\n",
       "      <td>29</td>\n",
       "      <td>Bangalore</td>\n",
       "    </tr>\n",
       "    <tr>\n",
       "      <th>c</th>\n",
       "      <td>John</td>\n",
       "      <td>20</td>\n",
       "      <td>New York</td>\n",
       "    </tr>\n",
       "    <tr>\n",
       "      <th>d</th>\n",
       "      <td>Jack</td>\n",
       "      <td>34</td>\n",
       "      <td>Florida</td>\n",
       "    </tr>\n",
       "  </tbody>\n",
       "</table>\n",
       "</div>"
      ],
      "text/plain": [
       "    Name  Age       City\n",
       "a  Ayush   26     Bhopal\n",
       "b  Krish   29  Bangalore\n",
       "c   John   20   New York\n",
       "d   Jack   34    Florida"
      ]
     },
     "execution_count": 82,
     "metadata": {},
     "output_type": "execute_result"
    }
   ],
   "source": [
    "df['Age'] = df['Age'] + 1\n",
    "df"
   ]
  },
  {
   "cell_type": "code",
   "execution_count": 83,
   "id": "363d8429",
   "metadata": {},
   "outputs": [
    {
     "data": {
      "text/plain": [
       "Name      object\n",
       "Age        int64\n",
       "City      object\n",
       "Salary     int64\n",
       "dtype: object"
      ]
     },
     "execution_count": 83,
     "metadata": {},
     "output_type": "execute_result"
    }
   ],
   "source": [
    "# Data type:\n",
    "df1.dtypes"
   ]
  },
  {
   "cell_type": "code",
   "execution_count": 67,
   "id": "8d4afce1",
   "metadata": {},
   "outputs": [
    {
     "data": {
      "text/html": [
       "<div>\n",
       "<style scoped>\n",
       "    .dataframe tbody tr th:only-of-type {\n",
       "        vertical-align: middle;\n",
       "    }\n",
       "\n",
       "    .dataframe tbody tr th {\n",
       "        vertical-align: top;\n",
       "    }\n",
       "\n",
       "    .dataframe thead th {\n",
       "        text-align: right;\n",
       "    }\n",
       "</style>\n",
       "<table border=\"1\" class=\"dataframe\">\n",
       "  <thead>\n",
       "    <tr style=\"text-align: right;\">\n",
       "      <th></th>\n",
       "      <th>Age</th>\n",
       "      <th>Salary</th>\n",
       "    </tr>\n",
       "  </thead>\n",
       "  <tbody>\n",
       "    <tr>\n",
       "      <th>count</th>\n",
       "      <td>4.00000</td>\n",
       "      <td>4.000000</td>\n",
       "    </tr>\n",
       "    <tr>\n",
       "      <th>mean</th>\n",
       "      <td>26.25000</td>\n",
       "      <td>169250.000000</td>\n",
       "    </tr>\n",
       "    <tr>\n",
       "      <th>std</th>\n",
       "      <td>5.85235</td>\n",
       "      <td>222461.045279</td>\n",
       "    </tr>\n",
       "    <tr>\n",
       "      <th>min</th>\n",
       "      <td>19.00000</td>\n",
       "      <td>32000.000000</td>\n",
       "    </tr>\n",
       "    <tr>\n",
       "      <th>25%</th>\n",
       "      <td>23.50000</td>\n",
       "      <td>41750.000000</td>\n",
       "    </tr>\n",
       "    <tr>\n",
       "      <th>50%</th>\n",
       "      <td>26.50000</td>\n",
       "      <td>72500.000000</td>\n",
       "    </tr>\n",
       "    <tr>\n",
       "      <th>75%</th>\n",
       "      <td>29.25000</td>\n",
       "      <td>200000.000000</td>\n",
       "    </tr>\n",
       "    <tr>\n",
       "      <th>max</th>\n",
       "      <td>33.00000</td>\n",
       "      <td>500000.000000</td>\n",
       "    </tr>\n",
       "  </tbody>\n",
       "</table>\n",
       "</div>"
      ],
      "text/plain": [
       "            Age         Salary\n",
       "count   4.00000       4.000000\n",
       "mean   26.25000  169250.000000\n",
       "std     5.85235  222461.045279\n",
       "min    19.00000   32000.000000\n",
       "25%    23.50000   41750.000000\n",
       "50%    26.50000   72500.000000\n",
       "75%    29.25000  200000.000000\n",
       "max    33.00000  500000.000000"
      ]
     },
     "execution_count": 67,
     "metadata": {},
     "output_type": "execute_result"
    }
   ],
   "source": [
    "# describe \n",
    "df1.describe()"
   ]
  },
  {
   "cell_type": "code",
   "execution_count": 90,
   "id": "33304221",
   "metadata": {},
   "outputs": [
    {
     "name": "stdout",
     "output_type": "stream",
     "text": [
      "  Client ID             Name  Age     Sex  Location ID Joined Bank  \\\n",
      "0  PKR81288    Raymond Mills   24    Male        34324  2019-05-06   \n",
      "1  PKR65833    Julia Spencer   23    Male        42205  2001-12-10   \n",
      "2  PKR47499   Stephen Murray   27  Female         7314  2010-01-25   \n",
      "3  PKR72498   Virginia Garza   40    Male        34594  1993-03-28   \n",
      "4  PKR60181  Melissa Sanders   46  Female        41269  2012-07-20   \n",
      "\n",
      "    Banking Contact Nationality            Occupation Investment Advisor  ...  \\\n",
      "0    Anthony Torres    American  Safety Technician IV        Victor Dean  ...   \n",
      "1  Jonathan Hawkins     African   Software Consultant      Jeremy Porter  ...   \n",
      "2     Anthony Berry    European    Help Desk Operator      Ernest Knight  ...   \n",
      "3        Steve Diaz    American          Geologist II          Eric Shaw  ...   \n",
      "4        Shawn Long    American   Assistant Professor          Kevin Kim  ...   \n",
      "\n",
      "  Amount of Credit Cards Credit Card Balance    Bank Loans  Bank Deposits  \\\n",
      "0                      1            484.5440  7.762429e+05   1.485829e+06   \n",
      "1                      1           2256.8777  1.270615e+06   6.414828e+05   \n",
      "2                      2           4568.7438  1.052716e+06   1.033402e+06   \n",
      "3                      2           4205.0010  1.211951e+05   1.048157e+06   \n",
      "4                      1           3779.4880  1.048302e+06   4.877825e+05   \n",
      "\n",
      "   Checking Accounts  Saving Accounts  Foreign Currency Account  \\\n",
      "0       6.036179e+05    607332.455240                12249.9584   \n",
      "1       2.295214e+05    344635.157402                61162.3089   \n",
      "2       6.526747e+05    203054.348179                79071.7794   \n",
      "3       1.048157e+06    234685.019326                57513.6520   \n",
      "4       4.466442e+05    128351.452320                30012.1360   \n",
      "\n",
      "   Business Lending  Properties Owned  Risk Weighting  \n",
      "0      1.134475e+06                 1               2  \n",
      "1      2.000526e+06                 1               3  \n",
      "2      5.481376e+05                 1               3  \n",
      "3      1.148402e+06                 0               4  \n",
      "4      1.674412e+06                 0               3  \n",
      "\n",
      "[5 rows x 25 columns]\n"
     ]
    }
   ],
   "source": [
    "print(df_file.head())"
   ]
  },
  {
   "cell_type": "code",
   "execution_count": 91,
   "id": "cb09d8a1",
   "metadata": {},
   "outputs": [
    {
     "name": "stdout",
     "output_type": "stream",
     "text": [
      "Nationality\n",
      "African       217584.410114\n",
      "American      237009.812752\n",
      "Asian         236910.293318\n",
      "Australian    222976.594811\n",
      "European      233002.148833\n",
      "Name: Saving Accounts, dtype: float64\n"
     ]
    }
   ],
   "source": [
    "groups = df_file.groupby('Nationality')['Saving Accounts'].mean()\n",
    "print(groups)"
   ]
  },
  {
   "cell_type": "markdown",
   "id": "512364a6",
   "metadata": {},
   "source": [
    "### Data Manipulation and Analysis with Pandas:"
   ]
  },
  {
   "cell_type": "code",
   "execution_count": 104,
   "id": "012489d6",
   "metadata": {},
   "outputs": [
    {
     "data": {
      "text/html": [
       "<div>\n",
       "<style scoped>\n",
       "    .dataframe tbody tr th:only-of-type {\n",
       "        vertical-align: middle;\n",
       "    }\n",
       "\n",
       "    .dataframe tbody tr th {\n",
       "        vertical-align: top;\n",
       "    }\n",
       "\n",
       "    .dataframe thead th {\n",
       "        text-align: right;\n",
       "    }\n",
       "</style>\n",
       "<table border=\"1\" class=\"dataframe\">\n",
       "  <thead>\n",
       "    <tr style=\"text-align: right;\">\n",
       "      <th></th>\n",
       "      <th>EmployeeID</th>\n",
       "      <th>Name</th>\n",
       "      <th>Department</th>\n",
       "      <th>JoiningDate</th>\n",
       "      <th>Salary</th>\n",
       "      <th>PerformanceScore</th>\n",
       "      <th>RemoteWorker</th>\n",
       "    </tr>\n",
       "  </thead>\n",
       "  <tbody>\n",
       "    <tr>\n",
       "      <th>0</th>\n",
       "      <td>1001</td>\n",
       "      <td>Employee_1</td>\n",
       "      <td>Sales</td>\n",
       "      <td>2015-01-01</td>\n",
       "      <td>53483.0</td>\n",
       "      <td>Excellent</td>\n",
       "      <td>True</td>\n",
       "    </tr>\n",
       "    <tr>\n",
       "      <th>1</th>\n",
       "      <td>1002</td>\n",
       "      <td>Employee_2</td>\n",
       "      <td>Marketing</td>\n",
       "      <td>2015-06-30</td>\n",
       "      <td>78555.0</td>\n",
       "      <td>Poor</td>\n",
       "      <td>True</td>\n",
       "    </tr>\n",
       "    <tr>\n",
       "      <th>2</th>\n",
       "      <td>1003</td>\n",
       "      <td>Employee_3</td>\n",
       "      <td>IT</td>\n",
       "      <td>2015-12-27</td>\n",
       "      <td>47159.0</td>\n",
       "      <td>Average</td>\n",
       "      <td>True</td>\n",
       "    </tr>\n",
       "    <tr>\n",
       "      <th>3</th>\n",
       "      <td>1004</td>\n",
       "      <td>Employee_4</td>\n",
       "      <td>Marketing</td>\n",
       "      <td>2016-06-24</td>\n",
       "      <td>NaN</td>\n",
       "      <td>Average</td>\n",
       "      <td>False</td>\n",
       "    </tr>\n",
       "    <tr>\n",
       "      <th>4</th>\n",
       "      <td>1005</td>\n",
       "      <td>Employee_5</td>\n",
       "      <td>Marketing</td>\n",
       "      <td>2016-12-21</td>\n",
       "      <td>65920.0</td>\n",
       "      <td>Excellent</td>\n",
       "      <td>True</td>\n",
       "    </tr>\n",
       "  </tbody>\n",
       "</table>\n",
       "</div>"
      ],
      "text/plain": [
       "   EmployeeID        Name Department JoiningDate   Salary PerformanceScore  \\\n",
       "0        1001  Employee_1      Sales  2015-01-01  53483.0        Excellent   \n",
       "1        1002  Employee_2  Marketing  2015-06-30  78555.0             Poor   \n",
       "2        1003  Employee_3         IT  2015-12-27  47159.0          Average   \n",
       "3        1004  Employee_4  Marketing  2016-06-24      NaN          Average   \n",
       "4        1005  Employee_5  Marketing  2016-12-21  65920.0        Excellent   \n",
       "\n",
       "   RemoteWorker  \n",
       "0          True  \n",
       "1          True  \n",
       "2          True  \n",
       "3         False  \n",
       "4          True  "
      ]
     },
     "execution_count": 104,
     "metadata": {},
     "output_type": "execute_result"
    }
   ],
   "source": [
    "file_path = '../meta_data/dummy_employees_csv.csv'\n",
    "df_emp = pd.read_csv(file_path)\n",
    "df_emp.head()"
   ]
  },
  {
   "cell_type": "code",
   "execution_count": 105,
   "id": "a1b0cf38",
   "metadata": {},
   "outputs": [
    {
     "data": {
      "text/html": [
       "<div>\n",
       "<style scoped>\n",
       "    .dataframe tbody tr th:only-of-type {\n",
       "        vertical-align: middle;\n",
       "    }\n",
       "\n",
       "    .dataframe tbody tr th {\n",
       "        vertical-align: top;\n",
       "    }\n",
       "\n",
       "    .dataframe thead th {\n",
       "        text-align: right;\n",
       "    }\n",
       "</style>\n",
       "<table border=\"1\" class=\"dataframe\">\n",
       "  <thead>\n",
       "    <tr style=\"text-align: right;\">\n",
       "      <th></th>\n",
       "      <th>EmployeeID</th>\n",
       "      <th>Salary</th>\n",
       "    </tr>\n",
       "  </thead>\n",
       "  <tbody>\n",
       "    <tr>\n",
       "      <th>count</th>\n",
       "      <td>50.00000</td>\n",
       "      <td>40.000000</td>\n",
       "    </tr>\n",
       "    <tr>\n",
       "      <th>mean</th>\n",
       "      <td>1025.50000</td>\n",
       "      <td>78856.000000</td>\n",
       "    </tr>\n",
       "    <tr>\n",
       "      <th>std</th>\n",
       "      <td>14.57738</td>\n",
       "      <td>26205.648375</td>\n",
       "    </tr>\n",
       "    <tr>\n",
       "      <th>min</th>\n",
       "      <td>1001.00000</td>\n",
       "      <td>31016.000000</td>\n",
       "    </tr>\n",
       "    <tr>\n",
       "      <th>25%</th>\n",
       "      <td>1013.25000</td>\n",
       "      <td>60325.250000</td>\n",
       "    </tr>\n",
       "    <tr>\n",
       "      <th>50%</th>\n",
       "      <td>1025.50000</td>\n",
       "      <td>78769.500000</td>\n",
       "    </tr>\n",
       "    <tr>\n",
       "      <th>75%</th>\n",
       "      <td>1037.75000</td>\n",
       "      <td>98042.000000</td>\n",
       "    </tr>\n",
       "    <tr>\n",
       "      <th>max</th>\n",
       "      <td>1050.00000</td>\n",
       "      <td>119812.000000</td>\n",
       "    </tr>\n",
       "  </tbody>\n",
       "</table>\n",
       "</div>"
      ],
      "text/plain": [
       "       EmployeeID         Salary\n",
       "count    50.00000      40.000000\n",
       "mean   1025.50000   78856.000000\n",
       "std      14.57738   26205.648375\n",
       "min    1001.00000   31016.000000\n",
       "25%    1013.25000   60325.250000\n",
       "50%    1025.50000   78769.500000\n",
       "75%    1037.75000   98042.000000\n",
       "max    1050.00000  119812.000000"
      ]
     },
     "execution_count": 105,
     "metadata": {},
     "output_type": "execute_result"
    }
   ],
   "source": [
    "df_emp.describe()"
   ]
  },
  {
   "cell_type": "code",
   "execution_count": 106,
   "id": "8b3cf30d",
   "metadata": {},
   "outputs": [
    {
     "data": {
      "text/plain": [
       "EmployeeID            int64\n",
       "Name                 object\n",
       "Department           object\n",
       "JoiningDate          object\n",
       "Salary              float64\n",
       "PerformanceScore     object\n",
       "RemoteWorker           bool\n",
       "dtype: object"
      ]
     },
     "execution_count": 106,
     "metadata": {},
     "output_type": "execute_result"
    }
   ],
   "source": [
    "df_emp.dtypes"
   ]
  },
  {
   "cell_type": "code",
   "execution_count": 107,
   "id": "43363b20",
   "metadata": {},
   "outputs": [
    {
     "data": {
      "text/plain": [
       "EmployeeID          False\n",
       "Name                False\n",
       "Department          False\n",
       "JoiningDate         False\n",
       "Salary               True\n",
       "PerformanceScore    False\n",
       "RemoteWorker        False\n",
       "dtype: bool"
      ]
     },
     "execution_count": 107,
     "metadata": {},
     "output_type": "execute_result"
    }
   ],
   "source": [
    "## Handling Missing Values:\n",
    "\n",
    "df_emp.isnull().any()"
   ]
  },
  {
   "cell_type": "code",
   "execution_count": 108,
   "id": "f017138c",
   "metadata": {},
   "outputs": [
    {
     "data": {
      "text/plain": [
       "EmployeeID           0\n",
       "Name                 0\n",
       "Department           0\n",
       "JoiningDate          0\n",
       "Salary              10\n",
       "PerformanceScore     0\n",
       "RemoteWorker         0\n",
       "dtype: int64"
      ]
     },
     "execution_count": 108,
     "metadata": {},
     "output_type": "execute_result"
    }
   ],
   "source": [
    "df_emp.isnull().sum()"
   ]
  },
  {
   "cell_type": "code",
   "execution_count": 112,
   "id": "c988d4ad",
   "metadata": {},
   "outputs": [
    {
     "data": {
      "text/plain": [
       "EmployeeID          False\n",
       "Name                False\n",
       "Department          False\n",
       "JoiningDate         False\n",
       "Salary              False\n",
       "PerformanceScore    False\n",
       "RemoteWorker        False\n",
       "dtype: bool"
      ]
     },
     "execution_count": 112,
     "metadata": {},
     "output_type": "execute_result"
    }
   ],
   "source": [
    "df_fill = df_emp.fillna(0)\n",
    "df_fill.isnull().any()"
   ]
  },
  {
   "cell_type": "code",
   "execution_count": 123,
   "id": "3b0b62c1",
   "metadata": {},
   "outputs": [
    {
     "data": {
      "text/html": [
       "<div>\n",
       "<style scoped>\n",
       "    .dataframe tbody tr th:only-of-type {\n",
       "        vertical-align: middle;\n",
       "    }\n",
       "\n",
       "    .dataframe tbody tr th {\n",
       "        vertical-align: top;\n",
       "    }\n",
       "\n",
       "    .dataframe thead th {\n",
       "        text-align: right;\n",
       "    }\n",
       "</style>\n",
       "<table border=\"1\" class=\"dataframe\">\n",
       "  <thead>\n",
       "    <tr style=\"text-align: right;\">\n",
       "      <th></th>\n",
       "      <th>EmployeeID</th>\n",
       "      <th>Name</th>\n",
       "      <th>Department</th>\n",
       "      <th>JoiningDate</th>\n",
       "      <th>Salary</th>\n",
       "      <th>PerformanceScore</th>\n",
       "      <th>RemoteWorker</th>\n",
       "      <th>Salary_fillna</th>\n",
       "    </tr>\n",
       "  </thead>\n",
       "  <tbody>\n",
       "    <tr>\n",
       "      <th>0</th>\n",
       "      <td>1001</td>\n",
       "      <td>Employee_1</td>\n",
       "      <td>Sales</td>\n",
       "      <td>2015-01-01</td>\n",
       "      <td>53483.0</td>\n",
       "      <td>Excellent</td>\n",
       "      <td>True</td>\n",
       "      <td>53483.0</td>\n",
       "    </tr>\n",
       "    <tr>\n",
       "      <th>1</th>\n",
       "      <td>1002</td>\n",
       "      <td>Employee_2</td>\n",
       "      <td>Marketing</td>\n",
       "      <td>2015-06-30</td>\n",
       "      <td>78555.0</td>\n",
       "      <td>Poor</td>\n",
       "      <td>True</td>\n",
       "      <td>78555.0</td>\n",
       "    </tr>\n",
       "    <tr>\n",
       "      <th>2</th>\n",
       "      <td>1003</td>\n",
       "      <td>Employee_3</td>\n",
       "      <td>IT</td>\n",
       "      <td>2015-12-27</td>\n",
       "      <td>47159.0</td>\n",
       "      <td>Average</td>\n",
       "      <td>True</td>\n",
       "      <td>47159.0</td>\n",
       "    </tr>\n",
       "    <tr>\n",
       "      <th>3</th>\n",
       "      <td>1004</td>\n",
       "      <td>Employee_4</td>\n",
       "      <td>Marketing</td>\n",
       "      <td>2016-06-24</td>\n",
       "      <td>NaN</td>\n",
       "      <td>Average</td>\n",
       "      <td>False</td>\n",
       "      <td>78856.0</td>\n",
       "    </tr>\n",
       "    <tr>\n",
       "      <th>4</th>\n",
       "      <td>1005</td>\n",
       "      <td>Employee_5</td>\n",
       "      <td>Marketing</td>\n",
       "      <td>2016-12-21</td>\n",
       "      <td>65920.0</td>\n",
       "      <td>Excellent</td>\n",
       "      <td>True</td>\n",
       "      <td>65920.0</td>\n",
       "    </tr>\n",
       "  </tbody>\n",
       "</table>\n",
       "</div>"
      ],
      "text/plain": [
       "   EmployeeID        Name Department JoiningDate   Salary PerformanceScore  \\\n",
       "0        1001  Employee_1      Sales  2015-01-01  53483.0        Excellent   \n",
       "1        1002  Employee_2  Marketing  2015-06-30  78555.0             Poor   \n",
       "2        1003  Employee_3         IT  2015-12-27  47159.0          Average   \n",
       "3        1004  Employee_4  Marketing  2016-06-24      NaN          Average   \n",
       "4        1005  Employee_5  Marketing  2016-12-21  65920.0        Excellent   \n",
       "\n",
       "   RemoteWorker  Salary_fillna  \n",
       "0          True        53483.0  \n",
       "1          True        78555.0  \n",
       "2          True        47159.0  \n",
       "3         False        78856.0  \n",
       "4          True        65920.0  "
      ]
     },
     "execution_count": 123,
     "metadata": {},
     "output_type": "execute_result"
    }
   ],
   "source": [
    "### Filling missing value with mean value.\n",
    "df_emp['Salary_fillna'] = df_emp['Salary'].fillna(df_emp['Salary'].mean())\n",
    "df_emp.head()"
   ]
  },
  {
   "cell_type": "code",
   "execution_count": null,
   "id": "29cc3026",
   "metadata": {},
   "outputs": [
    {
     "data": {
      "text/html": [
       "<div>\n",
       "<style scoped>\n",
       "    .dataframe tbody tr th:only-of-type {\n",
       "        vertical-align: middle;\n",
       "    }\n",
       "\n",
       "    .dataframe tbody tr th {\n",
       "        vertical-align: top;\n",
       "    }\n",
       "\n",
       "    .dataframe thead th {\n",
       "        text-align: right;\n",
       "    }\n",
       "</style>\n",
       "<table border=\"1\" class=\"dataframe\">\n",
       "  <thead>\n",
       "    <tr style=\"text-align: right;\">\n",
       "      <th></th>\n",
       "      <th>EmployeeID</th>\n",
       "      <th>Salary</th>\n",
       "      <th>Salary_fillna</th>\n",
       "    </tr>\n",
       "  </thead>\n",
       "  <tbody>\n",
       "    <tr>\n",
       "      <th>3</th>\n",
       "      <td>1004</td>\n",
       "      <td>NaN</td>\n",
       "      <td>78856.0</td>\n",
       "    </tr>\n",
       "    <tr>\n",
       "      <th>7</th>\n",
       "      <td>1008</td>\n",
       "      <td>NaN</td>\n",
       "      <td>78856.0</td>\n",
       "    </tr>\n",
       "    <tr>\n",
       "      <th>12</th>\n",
       "      <td>1013</td>\n",
       "      <td>NaN</td>\n",
       "      <td>78856.0</td>\n",
       "    </tr>\n",
       "    <tr>\n",
       "      <th>17</th>\n",
       "      <td>1018</td>\n",
       "      <td>NaN</td>\n",
       "      <td>78856.0</td>\n",
       "    </tr>\n",
       "    <tr>\n",
       "      <th>24</th>\n",
       "      <td>1025</td>\n",
       "      <td>NaN</td>\n",
       "      <td>78856.0</td>\n",
       "    </tr>\n",
       "    <tr>\n",
       "      <th>28</th>\n",
       "      <td>1029</td>\n",
       "      <td>NaN</td>\n",
       "      <td>78856.0</td>\n",
       "    </tr>\n",
       "    <tr>\n",
       "      <th>31</th>\n",
       "      <td>1032</td>\n",
       "      <td>NaN</td>\n",
       "      <td>78856.0</td>\n",
       "    </tr>\n",
       "    <tr>\n",
       "      <th>38</th>\n",
       "      <td>1039</td>\n",
       "      <td>NaN</td>\n",
       "      <td>78856.0</td>\n",
       "    </tr>\n",
       "    <tr>\n",
       "      <th>43</th>\n",
       "      <td>1044</td>\n",
       "      <td>NaN</td>\n",
       "      <td>78856.0</td>\n",
       "    </tr>\n",
       "    <tr>\n",
       "      <th>48</th>\n",
       "      <td>1049</td>\n",
       "      <td>NaN</td>\n",
       "      <td>78856.0</td>\n",
       "    </tr>\n",
       "  </tbody>\n",
       "</table>\n",
       "</div>"
      ],
      "text/plain": [
       "    EmployeeID  Salary  Salary_fillna\n",
       "3         1004     NaN        78856.0\n",
       "7         1008     NaN        78856.0\n",
       "12        1013     NaN        78856.0\n",
       "17        1018     NaN        78856.0\n",
       "24        1025     NaN        78856.0\n",
       "28        1029     NaN        78856.0\n",
       "31        1032     NaN        78856.0\n",
       "38        1039     NaN        78856.0\n",
       "43        1044     NaN        78856.0\n",
       "48        1049     NaN        78856.0"
      ]
     },
     "execution_count": 124,
     "metadata": {},
     "output_type": "execute_result"
    }
   ],
   "source": [
    "###\n",
    "result = df_emp[df_emp['Salary'].isna() & df_emp['Salary_fillna'].notna()]\n",
    "result[['EmployeeID','Salary','Salary_fillna']]"
   ]
  },
  {
   "cell_type": "code",
   "execution_count": 125,
   "id": "d49c3335",
   "metadata": {},
   "outputs": [
    {
     "data": {
      "text/plain": [
       "EmployeeID            int64\n",
       "Name                 object\n",
       "Department           object\n",
       "JoiningDate          object\n",
       "Salary              float64\n",
       "PerformanceScore     object\n",
       "RemoteWorker           bool\n",
       "Salary_fillna       float64\n",
       "dtype: object"
      ]
     },
     "execution_count": 125,
     "metadata": {},
     "output_type": "execute_result"
    }
   ],
   "source": [
    "df_emp.dtypes"
   ]
  },
  {
   "cell_type": "code",
   "execution_count": 127,
   "id": "32206199",
   "metadata": {},
   "outputs": [
    {
     "data": {
      "text/html": [
       "<div>\n",
       "<style scoped>\n",
       "    .dataframe tbody tr th:only-of-type {\n",
       "        vertical-align: middle;\n",
       "    }\n",
       "\n",
       "    .dataframe tbody tr th {\n",
       "        vertical-align: top;\n",
       "    }\n",
       "\n",
       "    .dataframe thead th {\n",
       "        text-align: right;\n",
       "    }\n",
       "</style>\n",
       "<table border=\"1\" class=\"dataframe\">\n",
       "  <thead>\n",
       "    <tr style=\"text-align: right;\">\n",
       "      <th></th>\n",
       "      <th>EmployeeID</th>\n",
       "      <th>Name</th>\n",
       "      <th>Department</th>\n",
       "      <th>Joining_Date</th>\n",
       "      <th>Salary</th>\n",
       "      <th>PerformanceScore</th>\n",
       "      <th>Remote_Work</th>\n",
       "      <th>Salary_fillna</th>\n",
       "    </tr>\n",
       "  </thead>\n",
       "  <tbody>\n",
       "    <tr>\n",
       "      <th>0</th>\n",
       "      <td>1001</td>\n",
       "      <td>Employee_1</td>\n",
       "      <td>Sales</td>\n",
       "      <td>2015-01-01</td>\n",
       "      <td>53483.0</td>\n",
       "      <td>Excellent</td>\n",
       "      <td>True</td>\n",
       "      <td>53483.0</td>\n",
       "    </tr>\n",
       "    <tr>\n",
       "      <th>1</th>\n",
       "      <td>1002</td>\n",
       "      <td>Employee_2</td>\n",
       "      <td>Marketing</td>\n",
       "      <td>2015-06-30</td>\n",
       "      <td>78555.0</td>\n",
       "      <td>Poor</td>\n",
       "      <td>True</td>\n",
       "      <td>78555.0</td>\n",
       "    </tr>\n",
       "    <tr>\n",
       "      <th>2</th>\n",
       "      <td>1003</td>\n",
       "      <td>Employee_3</td>\n",
       "      <td>IT</td>\n",
       "      <td>2015-12-27</td>\n",
       "      <td>47159.0</td>\n",
       "      <td>Average</td>\n",
       "      <td>True</td>\n",
       "      <td>47159.0</td>\n",
       "    </tr>\n",
       "    <tr>\n",
       "      <th>3</th>\n",
       "      <td>1004</td>\n",
       "      <td>Employee_4</td>\n",
       "      <td>Marketing</td>\n",
       "      <td>2016-06-24</td>\n",
       "      <td>NaN</td>\n",
       "      <td>Average</td>\n",
       "      <td>False</td>\n",
       "      <td>78856.0</td>\n",
       "    </tr>\n",
       "    <tr>\n",
       "      <th>4</th>\n",
       "      <td>1005</td>\n",
       "      <td>Employee_5</td>\n",
       "      <td>Marketing</td>\n",
       "      <td>2016-12-21</td>\n",
       "      <td>65920.0</td>\n",
       "      <td>Excellent</td>\n",
       "      <td>True</td>\n",
       "      <td>65920.0</td>\n",
       "    </tr>\n",
       "  </tbody>\n",
       "</table>\n",
       "</div>"
      ],
      "text/plain": [
       "   EmployeeID        Name Department Joining_Date   Salary PerformanceScore  \\\n",
       "0        1001  Employee_1      Sales   2015-01-01  53483.0        Excellent   \n",
       "1        1002  Employee_2  Marketing   2015-06-30  78555.0             Poor   \n",
       "2        1003  Employee_3         IT   2015-12-27  47159.0          Average   \n",
       "3        1004  Employee_4  Marketing   2016-06-24      NaN          Average   \n",
       "4        1005  Employee_5  Marketing   2016-12-21  65920.0        Excellent   \n",
       "\n",
       "   Remote_Work  Salary_fillna  \n",
       "0         True        53483.0  \n",
       "1         True        78555.0  \n",
       "2         True        47159.0  \n",
       "3        False        78856.0  \n",
       "4         True        65920.0  "
      ]
     },
     "execution_count": 127,
     "metadata": {},
     "output_type": "execute_result"
    }
   ],
   "source": [
    "## Rename columns: \n",
    "df_rename = df_emp.rename(columns={'JoiningDate': 'Joining_Date', 'RemoteWorker':'Remote_Work'})\n",
    "df_rename.head()"
   ]
  },
  {
   "cell_type": "code",
   "execution_count": 128,
   "id": "70dd0801",
   "metadata": {},
   "outputs": [
    {
     "data": {
      "text/html": [
       "<div>\n",
       "<style scoped>\n",
       "    .dataframe tbody tr th:only-of-type {\n",
       "        vertical-align: middle;\n",
       "    }\n",
       "\n",
       "    .dataframe tbody tr th {\n",
       "        vertical-align: top;\n",
       "    }\n",
       "\n",
       "    .dataframe thead th {\n",
       "        text-align: right;\n",
       "    }\n",
       "</style>\n",
       "<table border=\"1\" class=\"dataframe\">\n",
       "  <thead>\n",
       "    <tr style=\"text-align: right;\">\n",
       "      <th></th>\n",
       "      <th>EmployeeID</th>\n",
       "      <th>Name</th>\n",
       "      <th>Department</th>\n",
       "      <th>JoiningDate</th>\n",
       "      <th>Salary</th>\n",
       "      <th>PerformanceScore</th>\n",
       "      <th>RemoteWorker</th>\n",
       "      <th>Salary_fillna</th>\n",
       "      <th>Values</th>\n",
       "    </tr>\n",
       "  </thead>\n",
       "  <tbody>\n",
       "    <tr>\n",
       "      <th>0</th>\n",
       "      <td>1001</td>\n",
       "      <td>Employee_1</td>\n",
       "      <td>Sales</td>\n",
       "      <td>2015-01-01</td>\n",
       "      <td>53483.0</td>\n",
       "      <td>Excellent</td>\n",
       "      <td>True</td>\n",
       "      <td>53483.0</td>\n",
       "      <td>1001.0</td>\n",
       "    </tr>\n",
       "    <tr>\n",
       "      <th>1</th>\n",
       "      <td>1002</td>\n",
       "      <td>Employee_2</td>\n",
       "      <td>Marketing</td>\n",
       "      <td>2015-06-30</td>\n",
       "      <td>78555.0</td>\n",
       "      <td>Poor</td>\n",
       "      <td>True</td>\n",
       "      <td>78555.0</td>\n",
       "      <td>1002.0</td>\n",
       "    </tr>\n",
       "    <tr>\n",
       "      <th>2</th>\n",
       "      <td>1003</td>\n",
       "      <td>Employee_3</td>\n",
       "      <td>IT</td>\n",
       "      <td>2015-12-27</td>\n",
       "      <td>47159.0</td>\n",
       "      <td>Average</td>\n",
       "      <td>True</td>\n",
       "      <td>47159.0</td>\n",
       "      <td>1003.0</td>\n",
       "    </tr>\n",
       "    <tr>\n",
       "      <th>3</th>\n",
       "      <td>1004</td>\n",
       "      <td>Employee_4</td>\n",
       "      <td>Marketing</td>\n",
       "      <td>2016-06-24</td>\n",
       "      <td>NaN</td>\n",
       "      <td>Average</td>\n",
       "      <td>False</td>\n",
       "      <td>78856.0</td>\n",
       "      <td>1004.0</td>\n",
       "    </tr>\n",
       "    <tr>\n",
       "      <th>4</th>\n",
       "      <td>1005</td>\n",
       "      <td>Employee_5</td>\n",
       "      <td>Marketing</td>\n",
       "      <td>2016-12-21</td>\n",
       "      <td>65920.0</td>\n",
       "      <td>Excellent</td>\n",
       "      <td>True</td>\n",
       "      <td>65920.0</td>\n",
       "      <td>1005.0</td>\n",
       "    </tr>\n",
       "  </tbody>\n",
       "</table>\n",
       "</div>"
      ],
      "text/plain": [
       "   EmployeeID        Name Department JoiningDate   Salary PerformanceScore  \\\n",
       "0        1001  Employee_1      Sales  2015-01-01  53483.0        Excellent   \n",
       "1        1002  Employee_2  Marketing  2015-06-30  78555.0             Poor   \n",
       "2        1003  Employee_3         IT  2015-12-27  47159.0          Average   \n",
       "3        1004  Employee_4  Marketing  2016-06-24      NaN          Average   \n",
       "4        1005  Employee_5  Marketing  2016-12-21  65920.0        Excellent   \n",
       "\n",
       "   RemoteWorker  Salary_fillna  Values  \n",
       "0          True        53483.0  1001.0  \n",
       "1          True        78555.0  1002.0  \n",
       "2          True        47159.0  1003.0  \n",
       "3         False        78856.0  1004.0  \n",
       "4          True        65920.0  1005.0  "
      ]
     },
     "execution_count": 128,
     "metadata": {},
     "output_type": "execute_result"
    }
   ],
   "source": [
    "## Change Datatype:\n",
    "df_emp['Values'] = df_emp['EmployeeID'].astype(float)\n",
    "df_emp.head()"
   ]
  },
  {
   "cell_type": "code",
   "execution_count": 130,
   "id": "31a4ddd0",
   "metadata": {},
   "outputs": [
    {
     "data": {
      "text/html": [
       "<div>\n",
       "<style scoped>\n",
       "    .dataframe tbody tr th:only-of-type {\n",
       "        vertical-align: middle;\n",
       "    }\n",
       "\n",
       "    .dataframe tbody tr th {\n",
       "        vertical-align: top;\n",
       "    }\n",
       "\n",
       "    .dataframe thead th {\n",
       "        text-align: right;\n",
       "    }\n",
       "</style>\n",
       "<table border=\"1\" class=\"dataframe\">\n",
       "  <thead>\n",
       "    <tr style=\"text-align: right;\">\n",
       "      <th></th>\n",
       "      <th>EmployeeID</th>\n",
       "      <th>Name</th>\n",
       "      <th>Department</th>\n",
       "      <th>JoiningDate</th>\n",
       "      <th>Salary</th>\n",
       "      <th>PerformanceScore</th>\n",
       "      <th>RemoteWorker</th>\n",
       "      <th>Salary_fillna</th>\n",
       "      <th>Values</th>\n",
       "      <th>Values_adding_10%</th>\n",
       "    </tr>\n",
       "  </thead>\n",
       "  <tbody>\n",
       "    <tr>\n",
       "      <th>0</th>\n",
       "      <td>1001</td>\n",
       "      <td>Employee_1</td>\n",
       "      <td>Sales</td>\n",
       "      <td>2015-01-01</td>\n",
       "      <td>53483.0</td>\n",
       "      <td>Excellent</td>\n",
       "      <td>True</td>\n",
       "      <td>53483.0</td>\n",
       "      <td>1001.0</td>\n",
       "      <td>1101.1</td>\n",
       "    </tr>\n",
       "    <tr>\n",
       "      <th>1</th>\n",
       "      <td>1002</td>\n",
       "      <td>Employee_2</td>\n",
       "      <td>Marketing</td>\n",
       "      <td>2015-06-30</td>\n",
       "      <td>78555.0</td>\n",
       "      <td>Poor</td>\n",
       "      <td>True</td>\n",
       "      <td>78555.0</td>\n",
       "      <td>1002.0</td>\n",
       "      <td>1102.2</td>\n",
       "    </tr>\n",
       "    <tr>\n",
       "      <th>2</th>\n",
       "      <td>1003</td>\n",
       "      <td>Employee_3</td>\n",
       "      <td>IT</td>\n",
       "      <td>2015-12-27</td>\n",
       "      <td>47159.0</td>\n",
       "      <td>Average</td>\n",
       "      <td>True</td>\n",
       "      <td>47159.0</td>\n",
       "      <td>1003.0</td>\n",
       "      <td>1103.3</td>\n",
       "    </tr>\n",
       "    <tr>\n",
       "      <th>3</th>\n",
       "      <td>1004</td>\n",
       "      <td>Employee_4</td>\n",
       "      <td>Marketing</td>\n",
       "      <td>2016-06-24</td>\n",
       "      <td>NaN</td>\n",
       "      <td>Average</td>\n",
       "      <td>False</td>\n",
       "      <td>78856.0</td>\n",
       "      <td>1004.0</td>\n",
       "      <td>1104.4</td>\n",
       "    </tr>\n",
       "    <tr>\n",
       "      <th>4</th>\n",
       "      <td>1005</td>\n",
       "      <td>Employee_5</td>\n",
       "      <td>Marketing</td>\n",
       "      <td>2016-12-21</td>\n",
       "      <td>65920.0</td>\n",
       "      <td>Excellent</td>\n",
       "      <td>True</td>\n",
       "      <td>65920.0</td>\n",
       "      <td>1005.0</td>\n",
       "      <td>1105.5</td>\n",
       "    </tr>\n",
       "  </tbody>\n",
       "</table>\n",
       "</div>"
      ],
      "text/plain": [
       "   EmployeeID        Name Department JoiningDate   Salary PerformanceScore  \\\n",
       "0        1001  Employee_1      Sales  2015-01-01  53483.0        Excellent   \n",
       "1        1002  Employee_2  Marketing  2015-06-30  78555.0             Poor   \n",
       "2        1003  Employee_3         IT  2015-12-27  47159.0          Average   \n",
       "3        1004  Employee_4  Marketing  2016-06-24      NaN          Average   \n",
       "4        1005  Employee_5  Marketing  2016-12-21  65920.0        Excellent   \n",
       "\n",
       "   RemoteWorker  Salary_fillna  Values  Values_adding_10%  \n",
       "0          True        53483.0  1001.0             1101.1  \n",
       "1          True        78555.0  1002.0             1102.2  \n",
       "2          True        47159.0  1003.0             1103.3  \n",
       "3         False        78856.0  1004.0             1104.4  \n",
       "4          True        65920.0  1005.0             1105.5  "
      ]
     },
     "execution_count": 130,
     "metadata": {},
     "output_type": "execute_result"
    }
   ],
   "source": [
    "df_emp['Values_adding_10%'] = df_emp['Values'].apply(lambda x:x+x*0.1)\n",
    "df_emp.head()"
   ]
  },
  {
   "cell_type": "code",
   "execution_count": 131,
   "id": "9e2aa25b",
   "metadata": {},
   "outputs": [
    {
     "data": {
      "text/plain": [
       "Department\n",
       "Finance      70748.750000\n",
       "HR           69089.000000\n",
       "IT           87339.111111\n",
       "Marketing    73729.428571\n",
       "Sales        85513.363636\n",
       "Name: Salary, dtype: float64"
      ]
     },
     "execution_count": 131,
     "metadata": {},
     "output_type": "execute_result"
    }
   ],
   "source": [
    "## Data Aggregating and Grouping:\n",
    "\n",
    "group_mean = df_emp.groupby('Department')['Salary'].mean()\n",
    "group_mean"
   ]
  },
  {
   "cell_type": "code",
   "execution_count": 133,
   "id": "200e179d",
   "metadata": {},
   "outputs": [
    {
     "data": {
      "text/plain": [
       "Department  RemoteWorker\n",
       "Finance     False           289659.0\n",
       "            True            276331.0\n",
       "HR          False           216866.0\n",
       "            True            128579.0\n",
       "IT          False           517142.0\n",
       "            True            268910.0\n",
       "Marketing   False           330097.0\n",
       "            True            186009.0\n",
       "Sales       False           398835.0\n",
       "            True            541812.0\n",
       "Name: Salary, dtype: float64"
      ]
     },
     "execution_count": 133,
     "metadata": {},
     "output_type": "execute_result"
    }
   ],
   "source": [
    "group_sum = df_emp.groupby(['Department','RemoteWorker'])['Salary'].sum()\n",
    "group_sum"
   ]
  },
  {
   "cell_type": "code",
   "execution_count": 134,
   "id": "5363ca1f",
   "metadata": {},
   "outputs": [
    {
     "data": {
      "text/html": [
       "<div>\n",
       "<style scoped>\n",
       "    .dataframe tbody tr th:only-of-type {\n",
       "        vertical-align: middle;\n",
       "    }\n",
       "\n",
       "    .dataframe tbody tr th {\n",
       "        vertical-align: top;\n",
       "    }\n",
       "\n",
       "    .dataframe thead th {\n",
       "        text-align: right;\n",
       "    }\n",
       "</style>\n",
       "<table border=\"1\" class=\"dataframe\">\n",
       "  <thead>\n",
       "    <tr style=\"text-align: right;\">\n",
       "      <th></th>\n",
       "      <th>mean</th>\n",
       "      <th>sum</th>\n",
       "      <th>count</th>\n",
       "    </tr>\n",
       "    <tr>\n",
       "      <th>Department</th>\n",
       "      <th></th>\n",
       "      <th></th>\n",
       "      <th></th>\n",
       "    </tr>\n",
       "  </thead>\n",
       "  <tbody>\n",
       "    <tr>\n",
       "      <th>Finance</th>\n",
       "      <td>72370.200000</td>\n",
       "      <td>723702.0</td>\n",
       "      <td>10</td>\n",
       "    </tr>\n",
       "    <tr>\n",
       "      <th>HR</th>\n",
       "      <td>71879.571429</td>\n",
       "      <td>503157.0</td>\n",
       "      <td>7</td>\n",
       "    </tr>\n",
       "    <tr>\n",
       "      <th>IT</th>\n",
       "      <td>86490.800000</td>\n",
       "      <td>864908.0</td>\n",
       "      <td>10</td>\n",
       "    </tr>\n",
       "    <tr>\n",
       "      <th>Marketing</th>\n",
       "      <td>75267.400000</td>\n",
       "      <td>752674.0</td>\n",
       "      <td>10</td>\n",
       "    </tr>\n",
       "    <tr>\n",
       "      <th>Sales</th>\n",
       "      <td>84489.153846</td>\n",
       "      <td>1098359.0</td>\n",
       "      <td>13</td>\n",
       "    </tr>\n",
       "  </tbody>\n",
       "</table>\n",
       "</div>"
      ],
      "text/plain": [
       "                    mean        sum  count\n",
       "Department                                \n",
       "Finance     72370.200000   723702.0     10\n",
       "HR          71879.571429   503157.0      7\n",
       "IT          86490.800000   864908.0     10\n",
       "Marketing   75267.400000   752674.0     10\n",
       "Sales       84489.153846  1098359.0     13"
      ]
     },
     "execution_count": 134,
     "metadata": {},
     "output_type": "execute_result"
    }
   ],
   "source": [
    "## Aggregate multiple functions:\n",
    "\n",
    "group_agg = df_emp.groupby('Department')['Salary_fillna'].agg(['mean','sum','count'])\n",
    "group_agg"
   ]
  },
  {
   "cell_type": "code",
   "execution_count": 139,
   "id": "d1a35df6",
   "metadata": {},
   "outputs": [
    {
     "name": "stdout",
     "output_type": "stream",
     "text": [
      "  key  Value1\n",
      "0   A       1\n",
      "1   B       2\n",
      "2   C       3\n",
      "\n",
      "  key  Value2\n",
      "0   A       4\n",
      "1   B       5\n",
      "2   D       6\n"
     ]
    }
   ],
   "source": [
    "## Merging and Joining Dataframes:\n",
    "# df_101 = df_emp[['EmployeeID', 'Department', 'Salary']]\n",
    "# df_102 = df_emp[['EmployeeID', 'Department', 'Salary_fillna']]\n",
    "df_101 = pd.DataFrame({'key':['A','B','C'], 'Value1': [1,2,3]})\n",
    "df_102 = pd.DataFrame({'key':['A','B','D'], 'Value2': [4,5,6]})\n",
    "print(df_101)\n",
    "\n",
    "print()\n",
    "\n",
    "print(df_102)"
   ]
  },
  {
   "cell_type": "code",
   "execution_count": 140,
   "id": "d31454db",
   "metadata": {},
   "outputs": [
    {
     "data": {
      "text/html": [
       "<div>\n",
       "<style scoped>\n",
       "    .dataframe tbody tr th:only-of-type {\n",
       "        vertical-align: middle;\n",
       "    }\n",
       "\n",
       "    .dataframe tbody tr th {\n",
       "        vertical-align: top;\n",
       "    }\n",
       "\n",
       "    .dataframe thead th {\n",
       "        text-align: right;\n",
       "    }\n",
       "</style>\n",
       "<table border=\"1\" class=\"dataframe\">\n",
       "  <thead>\n",
       "    <tr style=\"text-align: right;\">\n",
       "      <th></th>\n",
       "      <th>key</th>\n",
       "      <th>Value1</th>\n",
       "      <th>Value2</th>\n",
       "    </tr>\n",
       "  </thead>\n",
       "  <tbody>\n",
       "    <tr>\n",
       "      <th>0</th>\n",
       "      <td>A</td>\n",
       "      <td>1</td>\n",
       "      <td>4</td>\n",
       "    </tr>\n",
       "    <tr>\n",
       "      <th>1</th>\n",
       "      <td>B</td>\n",
       "      <td>2</td>\n",
       "      <td>5</td>\n",
       "    </tr>\n",
       "  </tbody>\n",
       "</table>\n",
       "</div>"
      ],
      "text/plain": [
       "  key  Value1  Value2\n",
       "0   A       1       4\n",
       "1   B       2       5"
      ]
     },
     "execution_count": 140,
     "metadata": {},
     "output_type": "execute_result"
    }
   ],
   "source": [
    "## Merging df on the 'Key':\n",
    "pd.merge(df_101,df_102, on= 'key', how='inner')"
   ]
  },
  {
   "cell_type": "code",
   "execution_count": 141,
   "id": "a7fb7808",
   "metadata": {},
   "outputs": [
    {
     "data": {
      "text/html": [
       "<div>\n",
       "<style scoped>\n",
       "    .dataframe tbody tr th:only-of-type {\n",
       "        vertical-align: middle;\n",
       "    }\n",
       "\n",
       "    .dataframe tbody tr th {\n",
       "        vertical-align: top;\n",
       "    }\n",
       "\n",
       "    .dataframe thead th {\n",
       "        text-align: right;\n",
       "    }\n",
       "</style>\n",
       "<table border=\"1\" class=\"dataframe\">\n",
       "  <thead>\n",
       "    <tr style=\"text-align: right;\">\n",
       "      <th></th>\n",
       "      <th>key</th>\n",
       "      <th>Value1</th>\n",
       "      <th>Value2</th>\n",
       "    </tr>\n",
       "  </thead>\n",
       "  <tbody>\n",
       "    <tr>\n",
       "      <th>0</th>\n",
       "      <td>A</td>\n",
       "      <td>1.0</td>\n",
       "      <td>4.0</td>\n",
       "    </tr>\n",
       "    <tr>\n",
       "      <th>1</th>\n",
       "      <td>B</td>\n",
       "      <td>2.0</td>\n",
       "      <td>5.0</td>\n",
       "    </tr>\n",
       "    <tr>\n",
       "      <th>2</th>\n",
       "      <td>C</td>\n",
       "      <td>3.0</td>\n",
       "      <td>NaN</td>\n",
       "    </tr>\n",
       "    <tr>\n",
       "      <th>3</th>\n",
       "      <td>D</td>\n",
       "      <td>NaN</td>\n",
       "      <td>6.0</td>\n",
       "    </tr>\n",
       "  </tbody>\n",
       "</table>\n",
       "</div>"
      ],
      "text/plain": [
       "  key  Value1  Value2\n",
       "0   A     1.0     4.0\n",
       "1   B     2.0     5.0\n",
       "2   C     3.0     NaN\n",
       "3   D     NaN     6.0"
      ]
     },
     "execution_count": 141,
     "metadata": {},
     "output_type": "execute_result"
    }
   ],
   "source": [
    "pd.merge(df_101,df_102, on='key', how='outer')"
   ]
  },
  {
   "cell_type": "code",
   "execution_count": 142,
   "id": "071fa101",
   "metadata": {},
   "outputs": [
    {
     "data": {
      "text/html": [
       "<div>\n",
       "<style scoped>\n",
       "    .dataframe tbody tr th:only-of-type {\n",
       "        vertical-align: middle;\n",
       "    }\n",
       "\n",
       "    .dataframe tbody tr th {\n",
       "        vertical-align: top;\n",
       "    }\n",
       "\n",
       "    .dataframe thead th {\n",
       "        text-align: right;\n",
       "    }\n",
       "</style>\n",
       "<table border=\"1\" class=\"dataframe\">\n",
       "  <thead>\n",
       "    <tr style=\"text-align: right;\">\n",
       "      <th></th>\n",
       "      <th>key</th>\n",
       "      <th>Value1</th>\n",
       "      <th>Value2</th>\n",
       "    </tr>\n",
       "  </thead>\n",
       "  <tbody>\n",
       "    <tr>\n",
       "      <th>0</th>\n",
       "      <td>A</td>\n",
       "      <td>1</td>\n",
       "      <td>4.0</td>\n",
       "    </tr>\n",
       "    <tr>\n",
       "      <th>1</th>\n",
       "      <td>B</td>\n",
       "      <td>2</td>\n",
       "      <td>5.0</td>\n",
       "    </tr>\n",
       "    <tr>\n",
       "      <th>2</th>\n",
       "      <td>C</td>\n",
       "      <td>3</td>\n",
       "      <td>NaN</td>\n",
       "    </tr>\n",
       "  </tbody>\n",
       "</table>\n",
       "</div>"
      ],
      "text/plain": [
       "  key  Value1  Value2\n",
       "0   A       1     4.0\n",
       "1   B       2     5.0\n",
       "2   C       3     NaN"
      ]
     },
     "execution_count": 142,
     "metadata": {},
     "output_type": "execute_result"
    }
   ],
   "source": [
    "pd.merge(df_101,df_102,on='key', how='left')"
   ]
  },
  {
   "cell_type": "code",
   "execution_count": 143,
   "id": "7f3abd2e",
   "metadata": {},
   "outputs": [
    {
     "data": {
      "text/html": [
       "<div>\n",
       "<style scoped>\n",
       "    .dataframe tbody tr th:only-of-type {\n",
       "        vertical-align: middle;\n",
       "    }\n",
       "\n",
       "    .dataframe tbody tr th {\n",
       "        vertical-align: top;\n",
       "    }\n",
       "\n",
       "    .dataframe thead th {\n",
       "        text-align: right;\n",
       "    }\n",
       "</style>\n",
       "<table border=\"1\" class=\"dataframe\">\n",
       "  <thead>\n",
       "    <tr style=\"text-align: right;\">\n",
       "      <th></th>\n",
       "      <th>key</th>\n",
       "      <th>Value1</th>\n",
       "      <th>Value2</th>\n",
       "    </tr>\n",
       "  </thead>\n",
       "  <tbody>\n",
       "    <tr>\n",
       "      <th>0</th>\n",
       "      <td>A</td>\n",
       "      <td>1.0</td>\n",
       "      <td>4</td>\n",
       "    </tr>\n",
       "    <tr>\n",
       "      <th>1</th>\n",
       "      <td>B</td>\n",
       "      <td>2.0</td>\n",
       "      <td>5</td>\n",
       "    </tr>\n",
       "    <tr>\n",
       "      <th>2</th>\n",
       "      <td>D</td>\n",
       "      <td>NaN</td>\n",
       "      <td>6</td>\n",
       "    </tr>\n",
       "  </tbody>\n",
       "</table>\n",
       "</div>"
      ],
      "text/plain": [
       "  key  Value1  Value2\n",
       "0   A     1.0       4\n",
       "1   B     2.0       5\n",
       "2   D     NaN       6"
      ]
     },
     "execution_count": 143,
     "metadata": {},
     "output_type": "execute_result"
    }
   ],
   "source": [
    "pd.merge(df_101,df_102, on='key', how='right')"
   ]
  },
  {
   "cell_type": "markdown",
   "id": "20411fa8",
   "metadata": {},
   "source": [
    "### Reading Data From Different Sources:"
   ]
  },
  {
   "cell_type": "code",
   "execution_count": 145,
   "id": "36eff2cf",
   "metadata": {},
   "outputs": [
    {
     "data": {
      "text/html": [
       "<div>\n",
       "<style scoped>\n",
       "    .dataframe tbody tr th:only-of-type {\n",
       "        vertical-align: middle;\n",
       "    }\n",
       "\n",
       "    .dataframe tbody tr th {\n",
       "        vertical-align: top;\n",
       "    }\n",
       "\n",
       "    .dataframe thead th {\n",
       "        text-align: right;\n",
       "    }\n",
       "</style>\n",
       "<table border=\"1\" class=\"dataframe\">\n",
       "  <thead>\n",
       "    <tr style=\"text-align: right;\">\n",
       "      <th></th>\n",
       "      <th>employee_name</th>\n",
       "      <th>email</th>\n",
       "      <th>job_profile</th>\n",
       "    </tr>\n",
       "  </thead>\n",
       "  <tbody>\n",
       "    <tr>\n",
       "      <th>0</th>\n",
       "      <td>James</td>\n",
       "      <td>james@gmail.com</td>\n",
       "      <td>{'title1': 'Team Lead', 'title2': 'Sr. Develop...</td>\n",
       "    </tr>\n",
       "  </tbody>\n",
       "</table>\n",
       "</div>"
      ],
      "text/plain": [
       "  employee_name            email  \\\n",
       "0         James  james@gmail.com   \n",
       "\n",
       "                                         job_profile  \n",
       "0  {'title1': 'Team Lead', 'title2': 'Sr. Develop...  "
      ]
     },
     "execution_count": 145,
     "metadata": {},
     "output_type": "execute_result"
    }
   ],
   "source": [
    "import pandas as pd\n",
    "from io import StringIO\n",
    "\n",
    "data_json = '{\"employee_name\":\"James\", \"email\":\"james@gmail.com\", \"job_profile\": [{\"title1\": \"Team Lead\", \"title2\":\"Sr. Developer\"}]}'\n",
    "df_json = pd.read_json(StringIO(data_json))\n",
    "df_json"
   ]
  },
  {
   "cell_type": "code",
   "execution_count": 147,
   "id": "2c93e9a1",
   "metadata": {},
   "outputs": [
    {
     "data": {
      "text/plain": [
       "'{\"employee_name\":{\"0\":\"James\"},\"email\":{\"0\":\"james@gmail.com\"},\"job_profile\":{\"0\":{\"title1\":\"Team Lead\",\"title2\":\"Sr. Developer\"}}}'"
      ]
     },
     "execution_count": 147,
     "metadata": {},
     "output_type": "execute_result"
    }
   ],
   "source": [
    "df_json.to_json() # it creating key:value parameter based on index number wrt to json trnasformation."
   ]
  },
  {
   "cell_type": "code",
   "execution_count": null,
   "id": "41358812",
   "metadata": {},
   "outputs": [
    {
     "data": {
      "text/plain": [
       "'{\"a\":{\"Name\":\"Ayush\",\"Age\":26,\"City\":\"Bhopal\"},\"b\":{\"Name\":\"Krish\",\"Age\":29,\"City\":\"Bangalore\"},\"c\":{\"Name\":\"John\",\"Age\":20,\"City\":\"New York\"},\"d\":{\"Name\":\"Jack\",\"Age\":34,\"City\":\"Florida\"}}'"
      ]
     },
     "execution_count": 148,
     "metadata": {},
     "output_type": "execute_result"
    }
   ],
   "source": [
    "df.to_json(orient='index') # we can se value wrt to an index"
   ]
  },
  {
   "cell_type": "code",
   "execution_count": null,
   "id": "0f6db3ea",
   "metadata": {},
   "outputs": [
    {
     "data": {
      "text/plain": [
       "'[{\"Name\":\"Ayush\",\"Age\":26,\"City\":\"Bhopal\"},{\"Name\":\"Krish\",\"Age\":29,\"City\":\"Bangalore\"},{\"Name\":\"John\",\"Age\":20,\"City\":\"New York\"},{\"Name\":\"Jack\",\"Age\":34,\"City\":\"Florida\"}]'"
      ]
     },
     "execution_count": 149,
     "metadata": {},
     "output_type": "execute_result"
    }
   ],
   "source": [
    "df.to_json(orient='records') # we can see seprate records of values "
   ]
  },
  {
   "cell_type": "code",
   "execution_count": 150,
   "id": "4ad601cf",
   "metadata": {},
   "outputs": [
    {
     "data": {
      "text/html": [
       "<div>\n",
       "<style scoped>\n",
       "    .dataframe tbody tr th:only-of-type {\n",
       "        vertical-align: middle;\n",
       "    }\n",
       "\n",
       "    .dataframe tbody tr th {\n",
       "        vertical-align: top;\n",
       "    }\n",
       "\n",
       "    .dataframe thead th {\n",
       "        text-align: right;\n",
       "    }\n",
       "</style>\n",
       "<table border=\"1\" class=\"dataframe\">\n",
       "  <thead>\n",
       "    <tr style=\"text-align: right;\">\n",
       "      <th></th>\n",
       "      <th>0</th>\n",
       "      <th>1</th>\n",
       "      <th>2</th>\n",
       "      <th>3</th>\n",
       "      <th>4</th>\n",
       "      <th>5</th>\n",
       "      <th>6</th>\n",
       "      <th>7</th>\n",
       "      <th>8</th>\n",
       "      <th>9</th>\n",
       "      <th>10</th>\n",
       "      <th>11</th>\n",
       "      <th>12</th>\n",
       "      <th>13</th>\n",
       "    </tr>\n",
       "  </thead>\n",
       "  <tbody>\n",
       "    <tr>\n",
       "      <th>0</th>\n",
       "      <td>1</td>\n",
       "      <td>14.23</td>\n",
       "      <td>1.71</td>\n",
       "      <td>2.43</td>\n",
       "      <td>15.6</td>\n",
       "      <td>127</td>\n",
       "      <td>2.80</td>\n",
       "      <td>3.06</td>\n",
       "      <td>0.28</td>\n",
       "      <td>2.29</td>\n",
       "      <td>5.64</td>\n",
       "      <td>1.04</td>\n",
       "      <td>3.92</td>\n",
       "      <td>1065</td>\n",
       "    </tr>\n",
       "    <tr>\n",
       "      <th>1</th>\n",
       "      <td>1</td>\n",
       "      <td>13.20</td>\n",
       "      <td>1.78</td>\n",
       "      <td>2.14</td>\n",
       "      <td>11.2</td>\n",
       "      <td>100</td>\n",
       "      <td>2.65</td>\n",
       "      <td>2.76</td>\n",
       "      <td>0.26</td>\n",
       "      <td>1.28</td>\n",
       "      <td>4.38</td>\n",
       "      <td>1.05</td>\n",
       "      <td>3.40</td>\n",
       "      <td>1050</td>\n",
       "    </tr>\n",
       "    <tr>\n",
       "      <th>2</th>\n",
       "      <td>1</td>\n",
       "      <td>13.16</td>\n",
       "      <td>2.36</td>\n",
       "      <td>2.67</td>\n",
       "      <td>18.6</td>\n",
       "      <td>101</td>\n",
       "      <td>2.80</td>\n",
       "      <td>3.24</td>\n",
       "      <td>0.30</td>\n",
       "      <td>2.81</td>\n",
       "      <td>5.68</td>\n",
       "      <td>1.03</td>\n",
       "      <td>3.17</td>\n",
       "      <td>1185</td>\n",
       "    </tr>\n",
       "    <tr>\n",
       "      <th>3</th>\n",
       "      <td>1</td>\n",
       "      <td>14.37</td>\n",
       "      <td>1.95</td>\n",
       "      <td>2.50</td>\n",
       "      <td>16.8</td>\n",
       "      <td>113</td>\n",
       "      <td>3.85</td>\n",
       "      <td>3.49</td>\n",
       "      <td>0.24</td>\n",
       "      <td>2.18</td>\n",
       "      <td>7.80</td>\n",
       "      <td>0.86</td>\n",
       "      <td>3.45</td>\n",
       "      <td>1480</td>\n",
       "    </tr>\n",
       "    <tr>\n",
       "      <th>4</th>\n",
       "      <td>1</td>\n",
       "      <td>13.24</td>\n",
       "      <td>2.59</td>\n",
       "      <td>2.87</td>\n",
       "      <td>21.0</td>\n",
       "      <td>118</td>\n",
       "      <td>2.80</td>\n",
       "      <td>2.69</td>\n",
       "      <td>0.39</td>\n",
       "      <td>1.82</td>\n",
       "      <td>4.32</td>\n",
       "      <td>1.04</td>\n",
       "      <td>2.93</td>\n",
       "      <td>735</td>\n",
       "    </tr>\n",
       "  </tbody>\n",
       "</table>\n",
       "</div>"
      ],
      "text/plain": [
       "   0      1     2     3     4    5     6     7     8     9     10    11    12  \\\n",
       "0   1  14.23  1.71  2.43  15.6  127  2.80  3.06  0.28  2.29  5.64  1.04  3.92   \n",
       "1   1  13.20  1.78  2.14  11.2  100  2.65  2.76  0.26  1.28  4.38  1.05  3.40   \n",
       "2   1  13.16  2.36  2.67  18.6  101  2.80  3.24  0.30  2.81  5.68  1.03  3.17   \n",
       "3   1  14.37  1.95  2.50  16.8  113  3.85  3.49  0.24  2.18  7.80  0.86  3.45   \n",
       "4   1  13.24  2.59  2.87  21.0  118  2.80  2.69  0.39  1.82  4.32  1.04  2.93   \n",
       "\n",
       "     13  \n",
       "0  1065  \n",
       "1  1050  \n",
       "2  1185  \n",
       "3  1480  \n",
       "4   735  "
      ]
     },
     "execution_count": 150,
     "metadata": {},
     "output_type": "execute_result"
    }
   ],
   "source": [
    "# read url:\n",
    "url_df = pd.read_csv(\"https://archive.ics.uci.edu/ml/machine-learning-databases/wine/wine.data\", header=None)\n",
    "url_df.head()"
   ]
  },
  {
   "cell_type": "code",
   "execution_count": 151,
   "id": "282a5b7d",
   "metadata": {},
   "outputs": [],
   "source": [
    "file_path = '../meta_data/wine.csv'\n",
    "df.to_csv(file_path)\n"
   ]
  },
  {
   "cell_type": "code",
   "execution_count": 152,
   "id": "0a137567",
   "metadata": {},
   "outputs": [
    {
     "name": "stdout",
     "output_type": "stream",
     "text": [
      "Requirement already satisfied: lxml in c:\\users\\ayush\\appdata\\local\\programs\\python\\python312\\lib\\site-packages (5.2.2)\n"
     ]
    }
   ],
   "source": [
    "!pip install lxml"
   ]
  },
  {
   "cell_type": "code",
   "execution_count": 162,
   "id": "4a850d57",
   "metadata": {},
   "outputs": [
    {
     "data": {
      "text/html": [
       "<div>\n",
       "<style scoped>\n",
       "    .dataframe tbody tr th:only-of-type {\n",
       "        vertical-align: middle;\n",
       "    }\n",
       "\n",
       "    .dataframe tbody tr th {\n",
       "        vertical-align: top;\n",
       "    }\n",
       "\n",
       "    .dataframe thead th {\n",
       "        text-align: right;\n",
       "    }\n",
       "</style>\n",
       "<table border=\"1\" class=\"dataframe\">\n",
       "  <thead>\n",
       "    <tr style=\"text-align: right;\">\n",
       "      <th></th>\n",
       "      <th>Bank Name</th>\n",
       "      <th>City</th>\n",
       "      <th>State</th>\n",
       "      <th>Cert</th>\n",
       "      <th>Acquiring Institution</th>\n",
       "      <th>Closing Date</th>\n",
       "      <th>Fund  Sort ascending</th>\n",
       "    </tr>\n",
       "  </thead>\n",
       "  <tbody>\n",
       "    <tr>\n",
       "      <th>0</th>\n",
       "      <td>The Santa Anna National Bank</td>\n",
       "      <td>Santa Anna</td>\n",
       "      <td>Texas</td>\n",
       "      <td>5520</td>\n",
       "      <td>Coleman County State Bank</td>\n",
       "      <td>June 27, 2025</td>\n",
       "      <td>10549</td>\n",
       "    </tr>\n",
       "    <tr>\n",
       "      <th>1</th>\n",
       "      <td>Pulaski Savings Bank</td>\n",
       "      <td>Chicago</td>\n",
       "      <td>Illinois</td>\n",
       "      <td>28611</td>\n",
       "      <td>Millennium Bank</td>\n",
       "      <td>January 17, 2025</td>\n",
       "      <td>10548</td>\n",
       "    </tr>\n",
       "    <tr>\n",
       "      <th>2</th>\n",
       "      <td>The First National Bank of Lindsay</td>\n",
       "      <td>Lindsay</td>\n",
       "      <td>Oklahoma</td>\n",
       "      <td>4134</td>\n",
       "      <td>First Bank &amp; Trust Co.</td>\n",
       "      <td>October 18, 2024</td>\n",
       "      <td>10547</td>\n",
       "    </tr>\n",
       "    <tr>\n",
       "      <th>3</th>\n",
       "      <td>Republic First Bank dba Republic Bank</td>\n",
       "      <td>Philadelphia</td>\n",
       "      <td>Pennsylvania</td>\n",
       "      <td>27332</td>\n",
       "      <td>Fulton Bank, National Association</td>\n",
       "      <td>April 26, 2024</td>\n",
       "      <td>10546</td>\n",
       "    </tr>\n",
       "    <tr>\n",
       "      <th>4</th>\n",
       "      <td>Citizens Bank</td>\n",
       "      <td>Sac City</td>\n",
       "      <td>Iowa</td>\n",
       "      <td>8758</td>\n",
       "      <td>Iowa Trust &amp; Savings Bank</td>\n",
       "      <td>November 3, 2023</td>\n",
       "      <td>10545</td>\n",
       "    </tr>\n",
       "  </tbody>\n",
       "</table>\n",
       "</div>"
      ],
      "text/plain": [
       "                               Bank Name          City         State   Cert  \\\n",
       "0           The Santa Anna National Bank    Santa Anna         Texas   5520   \n",
       "1                   Pulaski Savings Bank       Chicago      Illinois  28611   \n",
       "2     The First National Bank of Lindsay       Lindsay      Oklahoma   4134   \n",
       "3  Republic First Bank dba Republic Bank  Philadelphia  Pennsylvania  27332   \n",
       "4                          Citizens Bank      Sac City          Iowa   8758   \n",
       "\n",
       "               Acquiring Institution      Closing Date  Fund  Sort ascending  \n",
       "0          Coleman County State Bank     June 27, 2025                 10549  \n",
       "1                    Millennium Bank  January 17, 2025                 10548  \n",
       "2             First Bank & Trust Co.  October 18, 2024                 10547  \n",
       "3  Fulton Bank, National Association    April 26, 2024                 10546  \n",
       "4          Iowa Trust & Savings Bank  November 3, 2023                 10545  "
      ]
     },
     "execution_count": 162,
     "metadata": {},
     "output_type": "execute_result"
    }
   ],
   "source": [
    "url = \"https://www.fdic.gov/resources/resolutions/bank-failures/failed-bank-list/\"\n",
    "\n",
    "df_url = pd.read_html(url)\n",
    "df_url[0].head()"
   ]
  },
  {
   "cell_type": "code",
   "execution_count": 171,
   "id": "006064d9",
   "metadata": {},
   "outputs": [
    {
     "data": {
      "text/html": [
       "<div>\n",
       "<style scoped>\n",
       "    .dataframe tbody tr th:only-of-type {\n",
       "        vertical-align: middle;\n",
       "    }\n",
       "\n",
       "    .dataframe tbody tr th {\n",
       "        vertical-align: top;\n",
       "    }\n",
       "\n",
       "    .dataframe thead th {\n",
       "        text-align: right;\n",
       "    }\n",
       "</style>\n",
       "<table border=\"1\" class=\"dataframe\">\n",
       "  <thead>\n",
       "    <tr style=\"text-align: right;\">\n",
       "      <th></th>\n",
       "      <th>Mobile country code</th>\n",
       "      <th>Country</th>\n",
       "      <th>ISO 3166</th>\n",
       "      <th>Mobile network codes</th>\n",
       "      <th>National MNC authority</th>\n",
       "      <th>Remarks</th>\n",
       "    </tr>\n",
       "  </thead>\n",
       "  <tbody>\n",
       "    <tr>\n",
       "      <th>0</th>\n",
       "      <td>289</td>\n",
       "      <td>A Abkhazia</td>\n",
       "      <td>GE-AB</td>\n",
       "      <td>List of mobile network codes in Abkhazia</td>\n",
       "      <td>NaN</td>\n",
       "      <td>MCC is not listed by ITU</td>\n",
       "    </tr>\n",
       "    <tr>\n",
       "      <th>1</th>\n",
       "      <td>412</td>\n",
       "      <td>Afghanistan</td>\n",
       "      <td>AF</td>\n",
       "      <td>List of mobile network codes in Afghanistan</td>\n",
       "      <td>NaN</td>\n",
       "      <td>NaN</td>\n",
       "    </tr>\n",
       "    <tr>\n",
       "      <th>2</th>\n",
       "      <td>276</td>\n",
       "      <td>Albania</td>\n",
       "      <td>AL</td>\n",
       "      <td>List of mobile network codes in Albania</td>\n",
       "      <td>NaN</td>\n",
       "      <td>NaN</td>\n",
       "    </tr>\n",
       "    <tr>\n",
       "      <th>3</th>\n",
       "      <td>603</td>\n",
       "      <td>Algeria</td>\n",
       "      <td>DZ</td>\n",
       "      <td>List of mobile network codes in Algeria</td>\n",
       "      <td>NaN</td>\n",
       "      <td>NaN</td>\n",
       "    </tr>\n",
       "    <tr>\n",
       "      <th>4</th>\n",
       "      <td>544</td>\n",
       "      <td>American Samoa (United States of America)</td>\n",
       "      <td>AS</td>\n",
       "      <td>List of mobile network codes in American Samoa</td>\n",
       "      <td>NaN</td>\n",
       "      <td>NaN</td>\n",
       "    </tr>\n",
       "  </tbody>\n",
       "</table>\n",
       "</div>"
      ],
      "text/plain": [
       "   Mobile country code                                    Country ISO 3166  \\\n",
       "0                  289                                 A Abkhazia    GE-AB   \n",
       "1                  412                                Afghanistan       AF   \n",
       "2                  276                                    Albania       AL   \n",
       "3                  603                                    Algeria       DZ   \n",
       "4                  544  American Samoa (United States of America)       AS   \n",
       "\n",
       "                             Mobile network codes National MNC authority  \\\n",
       "0        List of mobile network codes in Abkhazia                    NaN   \n",
       "1     List of mobile network codes in Afghanistan                    NaN   \n",
       "2         List of mobile network codes in Albania                    NaN   \n",
       "3         List of mobile network codes in Algeria                    NaN   \n",
       "4  List of mobile network codes in American Samoa                    NaN   \n",
       "\n",
       "                    Remarks  \n",
       "0  MCC is not listed by ITU  \n",
       "1                       NaN  \n",
       "2                       NaN  \n",
       "3                       NaN  \n",
       "4                       NaN  "
      ]
     },
     "execution_count": 171,
     "metadata": {},
     "output_type": "execute_result"
    }
   ],
   "source": [
    "import requests\n",
    "from io import StringIO\n",
    "\n",
    "url = \"https://en.wikipedia.org/wiki/Mobile_country_code\"\n",
    "\n",
    "# headers = {\"User-Agent\": \"Mozilla/5.0 (Windows NT 11.0; Win64; x64)\"}\n",
    "headers = {\"User-Agent\": \"Mozilla/5.0\"}\n",
    "\n",
    "response = requests.get(url, headers=headers).text\n",
    "# response.raise_for_status() # will raise an error if request failed only for json status\n",
    "\n",
    "tables = pd.read_html(StringIO(response), match='Country', header=0)\n",
    "df_wiki = tables[0]\n",
    "df_wiki.head()"
   ]
  },
  {
   "cell_type": "code",
   "execution_count": 173,
   "id": "29cb042a",
   "metadata": {},
   "outputs": [
    {
     "data": {
      "text/html": [
       "<div>\n",
       "<style scoped>\n",
       "    .dataframe tbody tr th:only-of-type {\n",
       "        vertical-align: middle;\n",
       "    }\n",
       "\n",
       "    .dataframe tbody tr th {\n",
       "        vertical-align: top;\n",
       "    }\n",
       "\n",
       "    .dataframe thead th {\n",
       "        text-align: right;\n",
       "    }\n",
       "</style>\n",
       "<table border=\"1\" class=\"dataframe\">\n",
       "  <thead>\n",
       "    <tr style=\"text-align: right;\">\n",
       "      <th></th>\n",
       "      <th>Client ID</th>\n",
       "      <th>Name</th>\n",
       "      <th>Age</th>\n",
       "      <th>Sex</th>\n",
       "      <th>Location ID</th>\n",
       "      <th>Joined Bank</th>\n",
       "      <th>Banking Contact</th>\n",
       "      <th>Nationality</th>\n",
       "      <th>Occupation</th>\n",
       "      <th>Investment Advisor</th>\n",
       "      <th>...</th>\n",
       "      <th>Amount of Credit Cards</th>\n",
       "      <th>Credit Card Balance</th>\n",
       "      <th>Bank Loans</th>\n",
       "      <th>Bank Deposits</th>\n",
       "      <th>Checking Accounts</th>\n",
       "      <th>Saving Accounts</th>\n",
       "      <th>Foreign Currency Account</th>\n",
       "      <th>Business Lending</th>\n",
       "      <th>Properties Owned</th>\n",
       "      <th>Risk Weighting</th>\n",
       "    </tr>\n",
       "  </thead>\n",
       "  <tbody>\n",
       "    <tr>\n",
       "      <th>0</th>\n",
       "      <td>PKR81288</td>\n",
       "      <td>Raymond Mills</td>\n",
       "      <td>24</td>\n",
       "      <td>Male</td>\n",
       "      <td>34324</td>\n",
       "      <td>2019-05-06</td>\n",
       "      <td>Anthony Torres</td>\n",
       "      <td>American</td>\n",
       "      <td>Safety Technician IV</td>\n",
       "      <td>Victor Dean</td>\n",
       "      <td>...</td>\n",
       "      <td>1</td>\n",
       "      <td>484.5440</td>\n",
       "      <td>7.762429e+05</td>\n",
       "      <td>1.485829e+06</td>\n",
       "      <td>6.036179e+05</td>\n",
       "      <td>607332.455240</td>\n",
       "      <td>12249.9584</td>\n",
       "      <td>1.134475e+06</td>\n",
       "      <td>1</td>\n",
       "      <td>2</td>\n",
       "    </tr>\n",
       "    <tr>\n",
       "      <th>1</th>\n",
       "      <td>PKR65833</td>\n",
       "      <td>Julia Spencer</td>\n",
       "      <td>23</td>\n",
       "      <td>Male</td>\n",
       "      <td>42205</td>\n",
       "      <td>2001-12-10</td>\n",
       "      <td>Jonathan Hawkins</td>\n",
       "      <td>African</td>\n",
       "      <td>Software Consultant</td>\n",
       "      <td>Jeremy Porter</td>\n",
       "      <td>...</td>\n",
       "      <td>1</td>\n",
       "      <td>2256.8777</td>\n",
       "      <td>1.270615e+06</td>\n",
       "      <td>6.414828e+05</td>\n",
       "      <td>2.295214e+05</td>\n",
       "      <td>344635.157402</td>\n",
       "      <td>61162.3089</td>\n",
       "      <td>2.000526e+06</td>\n",
       "      <td>1</td>\n",
       "      <td>3</td>\n",
       "    </tr>\n",
       "    <tr>\n",
       "      <th>2</th>\n",
       "      <td>PKR47499</td>\n",
       "      <td>Stephen Murray</td>\n",
       "      <td>27</td>\n",
       "      <td>Female</td>\n",
       "      <td>7314</td>\n",
       "      <td>2010-01-25</td>\n",
       "      <td>Anthony Berry</td>\n",
       "      <td>European</td>\n",
       "      <td>Help Desk Operator</td>\n",
       "      <td>Ernest Knight</td>\n",
       "      <td>...</td>\n",
       "      <td>2</td>\n",
       "      <td>4568.7438</td>\n",
       "      <td>1.052716e+06</td>\n",
       "      <td>1.033402e+06</td>\n",
       "      <td>6.526747e+05</td>\n",
       "      <td>203054.348179</td>\n",
       "      <td>79071.7794</td>\n",
       "      <td>5.481376e+05</td>\n",
       "      <td>1</td>\n",
       "      <td>3</td>\n",
       "    </tr>\n",
       "    <tr>\n",
       "      <th>3</th>\n",
       "      <td>PKR72498</td>\n",
       "      <td>Virginia Garza</td>\n",
       "      <td>40</td>\n",
       "      <td>Male</td>\n",
       "      <td>34594</td>\n",
       "      <td>1993-03-28</td>\n",
       "      <td>Steve Diaz</td>\n",
       "      <td>American</td>\n",
       "      <td>Geologist II</td>\n",
       "      <td>Eric Shaw</td>\n",
       "      <td>...</td>\n",
       "      <td>2</td>\n",
       "      <td>4205.0010</td>\n",
       "      <td>1.211951e+05</td>\n",
       "      <td>1.048157e+06</td>\n",
       "      <td>1.048157e+06</td>\n",
       "      <td>234685.019326</td>\n",
       "      <td>57513.6520</td>\n",
       "      <td>1.148402e+06</td>\n",
       "      <td>0</td>\n",
       "      <td>4</td>\n",
       "    </tr>\n",
       "    <tr>\n",
       "      <th>4</th>\n",
       "      <td>PKR60181</td>\n",
       "      <td>Melissa Sanders</td>\n",
       "      <td>46</td>\n",
       "      <td>Female</td>\n",
       "      <td>41269</td>\n",
       "      <td>2012-07-20</td>\n",
       "      <td>Shawn Long</td>\n",
       "      <td>American</td>\n",
       "      <td>Assistant Professor</td>\n",
       "      <td>Kevin Kim</td>\n",
       "      <td>...</td>\n",
       "      <td>1</td>\n",
       "      <td>3779.4880</td>\n",
       "      <td>1.048302e+06</td>\n",
       "      <td>4.877825e+05</td>\n",
       "      <td>4.466442e+05</td>\n",
       "      <td>128351.452320</td>\n",
       "      <td>30012.1360</td>\n",
       "      <td>1.674412e+06</td>\n",
       "      <td>0</td>\n",
       "      <td>3</td>\n",
       "    </tr>\n",
       "  </tbody>\n",
       "</table>\n",
       "<p>5 rows × 25 columns</p>\n",
       "</div>"
      ],
      "text/plain": [
       "  Client ID             Name  Age     Sex  Location ID Joined Bank  \\\n",
       "0  PKR81288    Raymond Mills   24    Male        34324  2019-05-06   \n",
       "1  PKR65833    Julia Spencer   23    Male        42205  2001-12-10   \n",
       "2  PKR47499   Stephen Murray   27  Female         7314  2010-01-25   \n",
       "3  PKR72498   Virginia Garza   40    Male        34594  1993-03-28   \n",
       "4  PKR60181  Melissa Sanders   46  Female        41269  2012-07-20   \n",
       "\n",
       "    Banking Contact Nationality            Occupation Investment Advisor  ...  \\\n",
       "0    Anthony Torres    American  Safety Technician IV        Victor Dean  ...   \n",
       "1  Jonathan Hawkins     African   Software Consultant      Jeremy Porter  ...   \n",
       "2     Anthony Berry    European    Help Desk Operator      Ernest Knight  ...   \n",
       "3        Steve Diaz    American          Geologist II          Eric Shaw  ...   \n",
       "4        Shawn Long    American   Assistant Professor          Kevin Kim  ...   \n",
       "\n",
       "  Amount of Credit Cards Credit Card Balance    Bank Loans  Bank Deposits  \\\n",
       "0                      1            484.5440  7.762429e+05   1.485829e+06   \n",
       "1                      1           2256.8777  1.270615e+06   6.414828e+05   \n",
       "2                      2           4568.7438  1.052716e+06   1.033402e+06   \n",
       "3                      2           4205.0010  1.211951e+05   1.048157e+06   \n",
       "4                      1           3779.4880  1.048302e+06   4.877825e+05   \n",
       "\n",
       "   Checking Accounts  Saving Accounts  Foreign Currency Account  \\\n",
       "0       6.036179e+05    607332.455240                12249.9584   \n",
       "1       2.295214e+05    344635.157402                61162.3089   \n",
       "2       6.526747e+05    203054.348179                79071.7794   \n",
       "3       1.048157e+06    234685.019326                57513.6520   \n",
       "4       4.466442e+05    128351.452320                30012.1360   \n",
       "\n",
       "   Business Lending  Properties Owned  Risk Weighting  \n",
       "0      1.134475e+06                 1               2  \n",
       "1      2.000526e+06                 1               3  \n",
       "2      5.481376e+05                 1               3  \n",
       "3      1.148402e+06                 0               4  \n",
       "4      1.674412e+06                 0               3  \n",
       "\n",
       "[5 rows x 25 columns]"
      ]
     },
     "execution_count": 173,
     "metadata": {},
     "output_type": "execute_result"
    }
   ],
   "source": [
    "excel_file = 'D:/Python/Python_Bootcamp/ds,ml,dl,nlp/meta_data/banking Data.xlsx'\n",
    "df_excel = pd.read_excel(excel_file)\n",
    "df_excel.head()"
   ]
  },
  {
   "cell_type": "markdown",
   "id": "7df83f62",
   "metadata": {},
   "source": [
    "Pickle: \n",
    "\n",
    "Pickle in Python is primarily using in serializing and deserializing a python object structure.\n",
    "\n",
    "The process of converting a Python object code into byte stream to store it in a file/database, maintain program state across sessions, or transform data over the network.\n"
   ]
  },
  {
   "cell_type": "code",
   "execution_count": 179,
   "id": "9cc3ee11",
   "metadata": {},
   "outputs": [],
   "source": [
    "df_excel.to_pickle('../meta_data/df_excel')"
   ]
  },
  {
   "cell_type": "code",
   "execution_count": 181,
   "id": "ac2e9f12",
   "metadata": {},
   "outputs": [
    {
     "data": {
      "text/html": [
       "<div>\n",
       "<style scoped>\n",
       "    .dataframe tbody tr th:only-of-type {\n",
       "        vertical-align: middle;\n",
       "    }\n",
       "\n",
       "    .dataframe tbody tr th {\n",
       "        vertical-align: top;\n",
       "    }\n",
       "\n",
       "    .dataframe thead th {\n",
       "        text-align: right;\n",
       "    }\n",
       "</style>\n",
       "<table border=\"1\" class=\"dataframe\">\n",
       "  <thead>\n",
       "    <tr style=\"text-align: right;\">\n",
       "      <th></th>\n",
       "      <th>Client ID</th>\n",
       "      <th>Name</th>\n",
       "      <th>Age</th>\n",
       "      <th>Sex</th>\n",
       "      <th>Location ID</th>\n",
       "      <th>Joined Bank</th>\n",
       "      <th>Banking Contact</th>\n",
       "      <th>Nationality</th>\n",
       "      <th>Occupation</th>\n",
       "      <th>Investment Advisor</th>\n",
       "      <th>...</th>\n",
       "      <th>Amount of Credit Cards</th>\n",
       "      <th>Credit Card Balance</th>\n",
       "      <th>Bank Loans</th>\n",
       "      <th>Bank Deposits</th>\n",
       "      <th>Checking Accounts</th>\n",
       "      <th>Saving Accounts</th>\n",
       "      <th>Foreign Currency Account</th>\n",
       "      <th>Business Lending</th>\n",
       "      <th>Properties Owned</th>\n",
       "      <th>Risk Weighting</th>\n",
       "    </tr>\n",
       "  </thead>\n",
       "  <tbody>\n",
       "    <tr>\n",
       "      <th>0</th>\n",
       "      <td>PKR81288</td>\n",
       "      <td>Raymond Mills</td>\n",
       "      <td>24</td>\n",
       "      <td>Male</td>\n",
       "      <td>34324</td>\n",
       "      <td>2019-05-06</td>\n",
       "      <td>Anthony Torres</td>\n",
       "      <td>American</td>\n",
       "      <td>Safety Technician IV</td>\n",
       "      <td>Victor Dean</td>\n",
       "      <td>...</td>\n",
       "      <td>1</td>\n",
       "      <td>484.5440</td>\n",
       "      <td>7.762429e+05</td>\n",
       "      <td>1.485829e+06</td>\n",
       "      <td>6.036179e+05</td>\n",
       "      <td>607332.455240</td>\n",
       "      <td>12249.9584</td>\n",
       "      <td>1.134475e+06</td>\n",
       "      <td>1</td>\n",
       "      <td>2</td>\n",
       "    </tr>\n",
       "    <tr>\n",
       "      <th>1</th>\n",
       "      <td>PKR65833</td>\n",
       "      <td>Julia Spencer</td>\n",
       "      <td>23</td>\n",
       "      <td>Male</td>\n",
       "      <td>42205</td>\n",
       "      <td>2001-12-10</td>\n",
       "      <td>Jonathan Hawkins</td>\n",
       "      <td>African</td>\n",
       "      <td>Software Consultant</td>\n",
       "      <td>Jeremy Porter</td>\n",
       "      <td>...</td>\n",
       "      <td>1</td>\n",
       "      <td>2256.8777</td>\n",
       "      <td>1.270615e+06</td>\n",
       "      <td>6.414828e+05</td>\n",
       "      <td>2.295214e+05</td>\n",
       "      <td>344635.157402</td>\n",
       "      <td>61162.3089</td>\n",
       "      <td>2.000526e+06</td>\n",
       "      <td>1</td>\n",
       "      <td>3</td>\n",
       "    </tr>\n",
       "    <tr>\n",
       "      <th>2</th>\n",
       "      <td>PKR47499</td>\n",
       "      <td>Stephen Murray</td>\n",
       "      <td>27</td>\n",
       "      <td>Female</td>\n",
       "      <td>7314</td>\n",
       "      <td>2010-01-25</td>\n",
       "      <td>Anthony Berry</td>\n",
       "      <td>European</td>\n",
       "      <td>Help Desk Operator</td>\n",
       "      <td>Ernest Knight</td>\n",
       "      <td>...</td>\n",
       "      <td>2</td>\n",
       "      <td>4568.7438</td>\n",
       "      <td>1.052716e+06</td>\n",
       "      <td>1.033402e+06</td>\n",
       "      <td>6.526747e+05</td>\n",
       "      <td>203054.348179</td>\n",
       "      <td>79071.7794</td>\n",
       "      <td>5.481376e+05</td>\n",
       "      <td>1</td>\n",
       "      <td>3</td>\n",
       "    </tr>\n",
       "    <tr>\n",
       "      <th>3</th>\n",
       "      <td>PKR72498</td>\n",
       "      <td>Virginia Garza</td>\n",
       "      <td>40</td>\n",
       "      <td>Male</td>\n",
       "      <td>34594</td>\n",
       "      <td>1993-03-28</td>\n",
       "      <td>Steve Diaz</td>\n",
       "      <td>American</td>\n",
       "      <td>Geologist II</td>\n",
       "      <td>Eric Shaw</td>\n",
       "      <td>...</td>\n",
       "      <td>2</td>\n",
       "      <td>4205.0010</td>\n",
       "      <td>1.211951e+05</td>\n",
       "      <td>1.048157e+06</td>\n",
       "      <td>1.048157e+06</td>\n",
       "      <td>234685.019326</td>\n",
       "      <td>57513.6520</td>\n",
       "      <td>1.148402e+06</td>\n",
       "      <td>0</td>\n",
       "      <td>4</td>\n",
       "    </tr>\n",
       "    <tr>\n",
       "      <th>4</th>\n",
       "      <td>PKR60181</td>\n",
       "      <td>Melissa Sanders</td>\n",
       "      <td>46</td>\n",
       "      <td>Female</td>\n",
       "      <td>41269</td>\n",
       "      <td>2012-07-20</td>\n",
       "      <td>Shawn Long</td>\n",
       "      <td>American</td>\n",
       "      <td>Assistant Professor</td>\n",
       "      <td>Kevin Kim</td>\n",
       "      <td>...</td>\n",
       "      <td>1</td>\n",
       "      <td>3779.4880</td>\n",
       "      <td>1.048302e+06</td>\n",
       "      <td>4.877825e+05</td>\n",
       "      <td>4.466442e+05</td>\n",
       "      <td>128351.452320</td>\n",
       "      <td>30012.1360</td>\n",
       "      <td>1.674412e+06</td>\n",
       "      <td>0</td>\n",
       "      <td>3</td>\n",
       "    </tr>\n",
       "  </tbody>\n",
       "</table>\n",
       "<p>5 rows × 25 columns</p>\n",
       "</div>"
      ],
      "text/plain": [
       "  Client ID             Name  Age     Sex  Location ID Joined Bank  \\\n",
       "0  PKR81288    Raymond Mills   24    Male        34324  2019-05-06   \n",
       "1  PKR65833    Julia Spencer   23    Male        42205  2001-12-10   \n",
       "2  PKR47499   Stephen Murray   27  Female         7314  2010-01-25   \n",
       "3  PKR72498   Virginia Garza   40    Male        34594  1993-03-28   \n",
       "4  PKR60181  Melissa Sanders   46  Female        41269  2012-07-20   \n",
       "\n",
       "    Banking Contact Nationality            Occupation Investment Advisor  ...  \\\n",
       "0    Anthony Torres    American  Safety Technician IV        Victor Dean  ...   \n",
       "1  Jonathan Hawkins     African   Software Consultant      Jeremy Porter  ...   \n",
       "2     Anthony Berry    European    Help Desk Operator      Ernest Knight  ...   \n",
       "3        Steve Diaz    American          Geologist II          Eric Shaw  ...   \n",
       "4        Shawn Long    American   Assistant Professor          Kevin Kim  ...   \n",
       "\n",
       "  Amount of Credit Cards Credit Card Balance    Bank Loans  Bank Deposits  \\\n",
       "0                      1            484.5440  7.762429e+05   1.485829e+06   \n",
       "1                      1           2256.8777  1.270615e+06   6.414828e+05   \n",
       "2                      2           4568.7438  1.052716e+06   1.033402e+06   \n",
       "3                      2           4205.0010  1.211951e+05   1.048157e+06   \n",
       "4                      1           3779.4880  1.048302e+06   4.877825e+05   \n",
       "\n",
       "   Checking Accounts  Saving Accounts  Foreign Currency Account  \\\n",
       "0       6.036179e+05    607332.455240                12249.9584   \n",
       "1       2.295214e+05    344635.157402                61162.3089   \n",
       "2       6.526747e+05    203054.348179                79071.7794   \n",
       "3       1.048157e+06    234685.019326                57513.6520   \n",
       "4       4.466442e+05    128351.452320                30012.1360   \n",
       "\n",
       "   Business Lending  Properties Owned  Risk Weighting  \n",
       "0      1.134475e+06                 1               2  \n",
       "1      2.000526e+06                 1               3  \n",
       "2      5.481376e+05                 1               3  \n",
       "3      1.148402e+06                 0               4  \n",
       "4      1.674412e+06                 0               3  \n",
       "\n",
       "[5 rows x 25 columns]"
      ]
     },
     "execution_count": 181,
     "metadata": {},
     "output_type": "execute_result"
    }
   ],
   "source": [
    "df_pickle = pd.read_pickle('../meta_data/df_excel')\n",
    "df_pickle.head()"
   ]
  },
  {
   "cell_type": "markdown",
   "id": "b9915b44",
   "metadata": {},
   "source": [
    "### Data Visualization with Matplotlib:"
   ]
  },
  {
   "cell_type": "code",
   "execution_count": 182,
   "id": "accd368a",
   "metadata": {},
   "outputs": [
    {
     "name": "stdout",
     "output_type": "stream",
     "text": [
      "Requirement already satisfied: matplotlib in c:\\users\\ayush\\appdata\\local\\programs\\python\\python312\\lib\\site-packages (3.8.4)\n",
      "Requirement already satisfied: contourpy>=1.0.1 in c:\\users\\ayush\\appdata\\local\\programs\\python\\python312\\lib\\site-packages (from matplotlib) (1.2.1)\n",
      "Requirement already satisfied: cycler>=0.10 in c:\\users\\ayush\\appdata\\local\\programs\\python\\python312\\lib\\site-packages (from matplotlib) (0.12.1)\n",
      "Requirement already satisfied: fonttools>=4.22.0 in c:\\users\\ayush\\appdata\\local\\programs\\python\\python312\\lib\\site-packages (from matplotlib) (4.51.0)\n",
      "Requirement already satisfied: kiwisolver>=1.3.1 in c:\\users\\ayush\\appdata\\local\\programs\\python\\python312\\lib\\site-packages (from matplotlib) (1.4.5)\n",
      "Requirement already satisfied: numpy>=1.21 in c:\\users\\ayush\\appdata\\local\\programs\\python\\python312\\lib\\site-packages (from matplotlib) (1.26.4)\n",
      "Requirement already satisfied: packaging>=20.0 in c:\\users\\ayush\\appdata\\local\\programs\\python\\python312\\lib\\site-packages (from matplotlib) (24.0)\n",
      "Requirement already satisfied: pillow>=8 in c:\\users\\ayush\\appdata\\local\\programs\\python\\python312\\lib\\site-packages (from matplotlib) (10.3.0)\n",
      "Requirement already satisfied: pyparsing>=2.3.1 in c:\\users\\ayush\\appdata\\local\\programs\\python\\python312\\lib\\site-packages (from matplotlib) (3.1.2)\n",
      "Requirement already satisfied: python-dateutil>=2.7 in c:\\users\\ayush\\appdata\\local\\programs\\python\\python312\\lib\\site-packages (from matplotlib) (2.9.0.post0)\n",
      "Requirement already satisfied: six>=1.5 in c:\\users\\ayush\\appdata\\local\\programs\\python\\python312\\lib\\site-packages (from python-dateutil>=2.7->matplotlib) (1.16.0)\n"
     ]
    }
   ],
   "source": [
    "!pip install matplotlib"
   ]
  },
  {
   "cell_type": "code",
   "execution_count": 183,
   "id": "9aec69f8",
   "metadata": {},
   "outputs": [],
   "source": [
    "import matplotlib.pyplot as plt"
   ]
  },
  {
   "cell_type": "code",
   "execution_count": 187,
   "id": "e5e0f401",
   "metadata": {},
   "outputs": [
    {
     "data": {
      "text/plain": [
       "Text(0.5, 1.0, 'Basic Line Plot')"
      ]
     },
     "execution_count": 187,
     "metadata": {},
     "output_type": "execute_result"
    },
    {
     "data": {
      "image/png": "[encoded data removed]",
      "text/plain": [
       "<Figure size 640x480 with 1 Axes>"
      ]
     },
     "metadata": {},
     "output_type": "display_data"
    }
   ],
   "source": [
    "x = [1,2,3,4,5]\n",
    "y = [1,4,9,16,25]\n",
    "\n",
    "plt.plot(x,y)\n",
    "plt.xlabel(\"X axis\")\n",
    "plt.ylabel('Y axis')\n",
    "plt.title(\"Basic Line Plot\")"
   ]
  },
  {
   "cell_type": "code",
   "execution_count": 192,
   "id": "12eb3bb9",
   "metadata": {},
   "outputs": [
    {
     "data": {
      "image/png": "[encoded data removed]",
      "text/plain": [
       "<Figure size 640x480 with 1 Axes>"
      ]
     },
     "metadata": {},
     "output_type": "display_data"
    }
   ],
   "source": [
    "x = [1,2,3,4,5]\n",
    "y = [1,4,9,16,25]\n",
    "\n",
    "## Crate a customized line plot:\n",
    "plt.plot(x,y, color = 'red', linestyle = '--', marker = 'o', linewidth = 3, markersize = 9)\n",
    "# plt.plot(x,y, color = 'red', linestyle = '-.', marker = '*\"\")\n",
    "\n",
    "plt.grid(True)"
   ]
  },
  {
   "cell_type": "code",
   "execution_count": 222,
   "id": "f3d5fa78",
   "metadata": {},
   "outputs": [
    {
     "data": {
      "text/plain": [
       "Text(0.5, 1.0, 'Plot 4')"
      ]
     },
     "execution_count": 222,
     "metadata": {},
     "output_type": "execute_result"
    },
    {
     "data": {
      "image/png": "[encoded data removed]",
      "text/plain": [
       "<Figure size 900x500 with 4 Axes>"
      ]
     },
     "metadata": {},
     "output_type": "display_data"
    }
   ],
   "source": [
    "## Multiple Plots:\n",
    "\n",
    "x = [1,2,3,4,5] \n",
    "y1 = [1,4,9,16,25]\n",
    "y2 = [1,2,3,4,5]\n",
    "\n",
    "plt.figure(figsize=(9,5))\n",
    "\n",
    "plt.subplot(2,2,1) # (rows, columns, index)\n",
    "plt.plot(x,y1, color = 'green' ,marker='o')\n",
    "plt.title(\"Plot 1\")\n",
    "\n",
    "plt.subplot(2,2,2)\n",
    "plt.plot(y1,x, color = 'green', linestyle = '--')\n",
    "plt.title(\"Plot 2\")\n",
    "\n",
    "plt.subplot(2,2,3)\n",
    "plt.plot(x,y2, color= 'blue', marker = '*')\n",
    "plt.title('Plot 3')\n",
    "\n",
    "plt.subplot(2,2,4)\n",
    "plt.plot(y2,x, color = 'black', linestyle = '-.')\n",
    "plt.title('Plot 4')"
   ]
  },
  {
   "cell_type": "code",
   "execution_count": 223,
   "id": "0b331752",
   "metadata": {},
   "outputs": [
    {
     "data": {
      "text/plain": [
       "<BarContainer object of 5 artists>"
      ]
     },
     "execution_count": 223,
     "metadata": {},
     "output_type": "execute_result"
    },
    {
     "data": {
      "image/png": "[encoded data removed]",
      "text/plain": [
       "<Figure size 640x480 with 1 Axes>"
      ]
     },
     "metadata": {},
     "output_type": "display_data"
    }
   ],
   "source": [
    "## Bar Plot:\n",
    "categories = ['A', 'B', 'C', 'D', 'E']\n",
    "values = [5,7,3,8,6]\n",
    "\n",
    "plt.bar(categories, values, color = 'purple')"
   ]
  },
  {
   "cell_type": "code",
   "execution_count": null,
   "id": "8bace813",
   "metadata": {},
   "outputs": [],
   "source": []
  }
 ],
 "metadata": {
  "kernelspec": {
   "display_name": "Python 3",
   "language": "python",
   "name": "python3"
  },
  "language_info": {
   "codemirror_mode": {
    "name": "ipython",
    "version": 3
   },
   "file_extension": ".py",
   "mimetype": "text/x-python",
   "name": "python",
   "nbconvert_exporter": "python",
   "pygments_lexer": "ipython3",
   "version": "3.12.2"
  }
 },
 "nbformat": 4,
 "nbformat_minor": 5
}
