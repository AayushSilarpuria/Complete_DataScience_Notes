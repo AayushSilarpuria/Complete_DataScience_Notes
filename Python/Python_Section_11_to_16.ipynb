{
 "cells": [
  {
   "cell_type": "markdown",
   "id": "af920b63",
   "metadata": {},
   "source": [
    "### Section - 11:"
   ]
  },
  {
   "cell_type": "markdown",
   "id": "58f1d2be",
   "metadata": {},
   "source": [
    "#### Classes & Objects: \n",
    "\n",
    "Object - Oriented Programming Language (OOPs) is a programming paradigm (\"आदर्श, मिसाल\") that uses \"objects\" to design applications and computer programs.\n",
    "OOPs allows for modelling real-world scenarios using classes and objects. This lesson covers the basics of creating classes and objects, including instance variables and methods."
   ]
  },
  {
   "cell_type": "code",
   "execution_count": 3,
   "id": "83c19ee5",
   "metadata": {},
   "outputs": [],
   "source": [
    "## A class is a blue print for creating objects.\n",
    "## It will be having Attributes, methods."
   ]
  },
  {
   "cell_type": "code",
   "execution_count": null,
   "id": "5f6d8200",
   "metadata": {},
   "outputs": [],
   "source": [
    "class Car:\n",
    "    pass\n",
    "\n",
    "audi = Car() # audi is object\n",
    "bmw = Car()\n",
    "\n",
    "print(type(audi)) # audi is object beacuse we have instantiated from specific class which is called as car.\n"
   ]
  },
  {
   "cell_type": "code",
   "execution_count": 6,
   "id": "9c93d72d",
   "metadata": {},
   "outputs": [
    {
     "name": "stdout",
     "output_type": "stream",
     "text": [
      "4\n"
     ]
    }
   ],
   "source": [
    "# We can pass an attribute in below way but this is not proper way.\n",
    "\n",
    "audi.windows = 4\n",
    "print(audi.windows)"
   ]
  },
  {
   "cell_type": "code",
   "execution_count": 18,
   "id": "561757c0",
   "metadata": {},
   "outputs": [
    {
     "data": {
      "text/plain": [
       "['__class__',\n",
       " '__delattr__',\n",
       " '__dict__',\n",
       " '__dir__',\n",
       " '__doc__',\n",
       " '__eq__',\n",
       " '__firstlineno__',\n",
       " '__format__',\n",
       " '__ge__',\n",
       " '__getattribute__',\n",
       " '__getstate__',\n",
       " '__gt__',\n",
       " '__hash__',\n",
       " '__init__',\n",
       " '__init_subclass__',\n",
       " '__le__',\n",
       " '__lt__',\n",
       " '__module__',\n",
       " '__ne__',\n",
       " '__new__',\n",
       " '__reduce__',\n",
       " '__reduce_ex__',\n",
       " '__repr__',\n",
       " '__setattr__',\n",
       " '__sizeof__',\n",
       " '__static_attributes__',\n",
       " '__str__',\n",
       " '__subclasshook__',\n",
       " '__weakref__',\n",
       " 'windows']"
      ]
     },
     "execution_count": 18,
     "metadata": {},
     "output_type": "execute_result"
    }
   ],
   "source": [
    "dir(audi)"
   ]
  },
  {
   "cell_type": "code",
   "execution_count": 19,
   "id": "d2627d71",
   "metadata": {},
   "outputs": [
    {
     "name": "stdout",
     "output_type": "stream",
     "text": [
      "<__main__.Dog object at 0x000001D75D31EBA0>\n",
      "Buddy\n",
      "3\n"
     ]
    }
   ],
   "source": [
    "# Instance variable and methods:\n",
    "\n",
    "class Dog:\n",
    "    ## Constructor is __init__\n",
    "    def __init__(self, name, age): # Here name is an attribute to the class\n",
    "        self.name = name # name is an Instance Variable\n",
    "        self.age = age\n",
    "    \n",
    "\n",
    "## create objects:\n",
    "dog1 = Dog(\"Buddy\", 3)\n",
    "print(dog1)  # memory location\n",
    "print(dog1.name) \n",
    "print(dog1.age)    "
   ]
  },
  {
   "cell_type": "code",
   "execution_count": 20,
   "id": "39a37333",
   "metadata": {},
   "outputs": [
    {
     "name": "stdout",
     "output_type": "stream",
     "text": [
      "Lucy\n",
      "4\n"
     ]
    }
   ],
   "source": [
    "# we are accessign Instance Variable - which is some type of property.\n",
    "dog2 = Dog('Lucy', 4)\n",
    "print(dog2.name)\n",
    "print(dog2.age)"
   ]
  },
  {
   "cell_type": "code",
   "execution_count": 23,
   "id": "fa6e8261",
   "metadata": {},
   "outputs": [
    {
     "name": "stdout",
     "output_type": "stream",
     "text": [
      "Buddy says woof..!!\n",
      "Lucy says woof..!!\n"
     ]
    }
   ],
   "source": [
    "## Define a class with Instance Methods.\n",
    "class Dog: \n",
    "    def __init__(self, name, age):\n",
    "        self.name = name\n",
    "        self.age = age\n",
    "\n",
    "    # Instance Methods related to dog\n",
    "    def bark(self):  # with the help of 'self' in an Method we will be able to use instance variable.\n",
    "        print(f\"{self.name} says woof..!!\")\n",
    "\n",
    "dog1 = Dog('Buddy', 2)\n",
    "dog1.bark()\n",
    "dog2 = Dog('Lucy', 4)\n",
    "dog2.bark()"
   ]
  },
  {
   "cell_type": "code",
   "execution_count": 28,
   "id": "d1b484ae",
   "metadata": {},
   "outputs": [
    {
     "name": "stdout",
     "output_type": "stream",
     "text": [
      "5000\n"
     ]
    }
   ],
   "source": [
    "## Modeling a Bank Account: \n",
    "\n",
    "## Define a class for Bank Account:\n",
    "class BankAccount:\n",
    "    def __init__(self, owner, balance=0):\n",
    "        self.owner = owner\n",
    "        self.balance = balance\n",
    "\n",
    "    def deposit(self, amount):\n",
    "        self.balance += amount\n",
    "        print(f\"Rs. {amount} is deposited. New Balance is Rs. {self.balance} \")\n",
    "    \n",
    "    def withdraw(self, amount):\n",
    "        if amount > self.balance:\n",
    "            print(\"Insufficent funds.!\")\n",
    "        else:   \n",
    "            self.balance -= amount\n",
    "        print(f\"You have withdraw Rs. {amount}. New Balance is Rs. {self.balance}\")\n",
    "\n",
    "    def show(self):\n",
    "        print(f\"Your current balance is Rs. {self.balance}\")\n",
    "        return self.balance\n",
    "        \n",
    "# Create an Account:\n",
    "account = BankAccount(\"Ayush\", 5000)\n",
    "print(account.balance)"
   ]
  },
  {
   "cell_type": "code",
   "execution_count": 29,
   "id": "dca4743b",
   "metadata": {},
   "outputs": [
    {
     "name": "stdout",
     "output_type": "stream",
     "text": [
      "Rs. 1000 is deposited. New Balance is Rs. 6000 \n"
     ]
    }
   ],
   "source": [
    "# Call Instance Methods:\n",
    "account.deposit(1000)"
   ]
  },
  {
   "cell_type": "code",
   "execution_count": 30,
   "id": "ea1fd67d",
   "metadata": {},
   "outputs": [
    {
     "name": "stdout",
     "output_type": "stream",
     "text": [
      "You have withdraw Rs. 100. New Balance is Rs. 5900\n"
     ]
    }
   ],
   "source": [
    "account.withdraw(100)"
   ]
  },
  {
   "cell_type": "code",
   "execution_count": 32,
   "id": "42a5062a",
   "metadata": {},
   "outputs": [
    {
     "name": "stdout",
     "output_type": "stream",
     "text": [
      "Your current balance is Rs. 5900\n"
     ]
    },
    {
     "data": {
      "text/plain": [
       "5900"
      ]
     },
     "execution_count": 32,
     "metadata": {},
     "output_type": "execute_result"
    }
   ],
   "source": [
    "account.show()"
   ]
  },
  {
   "cell_type": "markdown",
   "id": "3d35080e",
   "metadata": {},
   "source": [
    "### OOPs Type:\n",
    "#### 1. Inheritance:\n",
    "\n",
    "Inheritance allows a class (child class) to acquire properties and methods of another class (parent class). It supports hierarchical classification and promotes code reuse.\n",
    "\n",
    "##### Types of Inheritance:\n",
    "- Single Inheritance: A child class inherits from a single parent class.\n",
    "- Multiple Inheritance: A child class inherits from more than one parent class.\n",
    "- Multilevel Inheritance: A child class inherits from a parent class, which in turn inherits from another class.\n",
    "- Hierarchical Inheritance: Multiple child classes inherit from a single parent class.\n",
    "- Hybrid Inheritance: A combination of two or more types of inheritance."
   ]
  },
  {
   "cell_type": "code",
   "execution_count": 18,
   "metadata": {},
   "outputs": [],
   "source": [
    "# 1.1 -> Single Inheritance:  \n",
    "## Parent Class:\n",
    "\n",
    "class Car:\n",
    "    def __init__(self, model, engine_type, windows):\n",
    "        self.model = model\n",
    "        self.engine_type = engine_type\n",
    "        self.windows = windows\n",
    "    \n",
    "    def drive(self, distance):\n",
    "        print(f\"The person will drive the {self.engine_type} car\")\n",
    "        self.distance = distance\n",
    "        print(f\"Long drive {self.distance} \")"
   ]
  },
  {
   "cell_type": "code",
   "execution_count": 19,
   "metadata": {},
   "outputs": [
    {
     "name": "stdout",
     "output_type": "stream",
     "text": [
      "The person will drive the Diesel car\n",
      "Long drive 100 \n"
     ]
    },
    {
     "data": {
      "text/plain": [
       "'XUV700'"
      ]
     },
     "execution_count": 19,
     "metadata": {},
     "output_type": "execute_result"
    }
   ],
   "source": [
    "car1 = Car('XUV700', 'Diesel', 4)\n",
    "car1.drive(100)\n",
    "car1.model"
   ]
  },
  {
   "cell_type": "code",
   "execution_count": 20,
   "metadata": {},
   "outputs": [],
   "source": [
    "# Child class:\n",
    "\n",
    "class Tesla(Car):\n",
    "    \n",
    "    def __init__(self, model, engine_type, windows, is_selfdriving):\n",
    "        super().__init__(model, engine_type, windows)\n",
    "        self.is_selfdriving = is_selfdriving\n",
    "\n",
    "    def selfdriving(self):\n",
    "        print(f\"Tesla supports self driving: {self.is_selfdriving}\")"
   ]
  },
  {
   "cell_type": "code",
   "execution_count": 21,
   "id": "6be49e3a",
   "metadata": {},
   "outputs": [
    {
     "name": "stdout",
     "output_type": "stream",
     "text": [
      "Tesla supports self driving: True\n"
     ]
    },
    {
     "data": {
      "text/plain": [
       "'Electric'"
      ]
     },
     "execution_count": 21,
     "metadata": {},
     "output_type": "execute_result"
    }
   ],
   "source": [
    "tesla1 = Tesla('X', 'Electric', 4, True)\n",
    "tesla1.selfdriving()\n",
    "tesla1.engine_type"
   ]
  },
  {
   "cell_type": "code",
   "execution_count": 22,
   "id": "3fcccf3f",
   "metadata": {},
   "outputs": [
    {
     "name": "stdout",
     "output_type": "stream",
     "text": [
      "The person will drive the Electric car\n",
      "Long drive 11000 \n"
     ]
    }
   ],
   "source": [
    "tesla1.drive(11000)"
   ]
  },
  {
   "cell_type": "code",
   "execution_count": null,
   "metadata": {},
   "outputs": [],
   "source": [
    "# 1.2 -> Multiple Inheritance:"
   ]
  },
  {
   "cell_type": "code",
   "execution_count": 31,
   "metadata": {},
   "outputs": [
    {
     "name": "stdout",
     "output_type": "stream",
     "text": [
      "Buddy say woof.\n",
      "Owner: Ayush\n"
     ]
    }
   ],
   "source": [
    "class Animal:\n",
    "    def __init__(self, name):\n",
    "        self.name = name\n",
    "    \n",
    "    def speak(self):\n",
    "        print(\"Subclass must implement this method.\")\n",
    "    \n",
    "\n",
    "class Pet:\n",
    "    def __init__(self, owner):\n",
    "        self.owner = owner\n",
    "\n",
    "\n",
    "class Dog(Animal, Pet):\n",
    "    def __init__(self, name, owner):\n",
    "        Animal.__init__(self,name)\n",
    "        Pet.__init__(self,owner)\n",
    "    \n",
    "    def speak(self):\n",
    "        return f\"{self.name} say woof.\"\n",
    "    \n",
    "dog = Dog('Buddy', 'Ayush')\n",
    "print(dog.speak())\n",
    "print(f\"Owner: {dog.owner}\")\n"
   ]
  },
  {
   "cell_type": "markdown",
   "id": "a0e3a3a4",
   "metadata": {},
   "source": [
    "#### 2. Polymorphism:\n",
    "\n",
    "Polymorphism in Python means \"same operation, different behavior.\" It allows functions or methods with the same name to work differently depending on the type of object they are acting upon.\n",
    "\n",
    "##### Types of Polymorphism\n",
    "\n",
    "2_1. Compile-Time Polymorphism:\n",
    "\n",
    "This type of polymorphism is determined during the compilation of the program. It allows methods or operators with the same name to behave differently based on their input parameters or usage. In languages like Java or C++, compile-time polymorphism is achieved through method overloading but it's not directly supported in Python.\n",
    "\n",
    "In Python:\n",
    "\n",
    "- True compile-time polymorphism is not supported.\n",
    "- Instead, Python mimics it using default arguments or *args/**kwargs."
   ]
  },
  {
   "cell_type": "code",
   "execution_count": 32,
   "id": "02b91efd",
   "metadata": {},
   "outputs": [
    {
     "name": "stdout",
     "output_type": "stream",
     "text": [
      "15\n",
      "30\n",
      "15\n"
     ]
    }
   ],
   "source": [
    "class Calculator:\n",
    "\n",
    "    def add(self, *args):\n",
    "        return sum(args)\n",
    "    \n",
    "calc = Calculator()\n",
    "print(calc.add(5,10))\n",
    "print(calc.add(5,10,15))\n",
    "print(calc.add(1,2,3,4,5))"
   ]
  },
  {
   "cell_type": "markdown",
   "id": "eab211b0",
   "metadata": {},
   "source": [
    "2_2. Run-Time Polymorphism\n",
    "\n",
    "Run-Time Polymorphism is determined during the execution of the program. It covers multiple forms in Python:\n",
    "\n",
    "- Method Overriding: A subclass redefines a method from its parent class.\n",
    "- Duck Typing: If an object implements the required method, it works regardless of its type.\n",
    "- Operator Overloading: Special methods (__add__, __sub__, etc.) redefine how operators behave for user-defined objects."
   ]
  },
  {
   "cell_type": "code",
   "execution_count": 37,
   "metadata": {},
   "outputs": [
    {
     "name": "stdout",
     "output_type": "stream",
     "text": [
      "Woof!!\n"
     ]
    }
   ],
   "source": [
    "# 1. Method Overriding\n",
    "# We start with a base class and then a subclass that \"overrides\" the speak method.\n",
    "\n",
    "class Animal:\n",
    "    def speak(self):\n",
    "        return \"I am an animal.\"\n",
    "    \n",
    "class Dog(Animal):\n",
    "    def speak(self):\n",
    "        return \"Woof!!\"\n",
    "\n",
    "print(Dog().speak())"
   ]
  },
  {
   "cell_type": "code",
   "execution_count": 38,
   "metadata": {},
   "outputs": [
    {
     "name": "stdout",
     "output_type": "stream",
     "text": [
      "meow!!\n",
      "Woof!!\n"
     ]
    }
   ],
   "source": [
    "# 2. Duck Typing:\n",
    "# This function works for both Dog and Cat because they both have a 'speak' method.\n",
    "\n",
    "class Cat:\n",
    "    def speak(self):\n",
    "        return 'meow!!'\n",
    "    \n",
    "def make_animal_speak(animal):\n",
    "    return animal.speak()\n",
    "print(make_animal_speak(Cat()))\n",
    "print(make_animal_speak(Dog()))\n"
   ]
  },
  {
   "cell_type": "code",
   "execution_count": null,
   "id": "b6592ddc",
   "metadata": {},
   "outputs": [
    {
     "name": "stdout",
     "output_type": "stream",
     "text": [
      "Vector(6, 8)\n"
     ]
    }
   ],
   "source": [
    "# 3 Operator Overloading\n",
    "# We create a simple class that customizes the '+' operator.\n",
    "\n",
    "class Vector:\n",
    "    def __init__(self, x, y):\n",
    "        self.x = x\n",
    "        self.y = y\n",
    "\n",
    "    # This special method defines the behavior of the '+' operator.\n",
    "\n",
    "    def __add__(self, other):\n",
    "        return Vector(self.x + other.x, self.y + other.y)\n",
    "    \n",
    "    def __repr__(self): \n",
    "        # When you inspect an object in an interactive python interpretor, \n",
    "        # __repr__ method is invoked to provide a clear and unambiguous representation of the object's state.\n",
    "        \n",
    "        return f\"Vector({self.x}, {self.y})\"\n",
    "    \n",
    "v1 = Vector(2,3)\n",
    "v2 = Vector(4,5)\n",
    "v3 = v1 + v2\n",
    "print(v3)"
   ]
  },
  {
   "cell_type": "code",
   "execution_count": 44,
   "id": "26c9499d",
   "metadata": {},
   "outputs": [],
   "source": [
    "# Polymorphism with Abstract Base Classes:\n",
    "\n",
    "# Abstract base classes (ABCs) are used to define common methods for a group of related objects.\n",
    "# They can enforce that derived classes implement particular methods, promoting consistency across different implementations."
   ]
  },
  {
   "cell_type": "code",
   "execution_count": 49,
   "id": "de478709",
   "metadata": {},
   "outputs": [
    {
     "name": "stdout",
     "output_type": "stream",
     "text": [
      "Car engine started\n",
      "Motorcycle engine started\n"
     ]
    }
   ],
   "source": [
    "from abc import ABC, abstractmethod\n",
    "\n",
    "## Define abstract class:\n",
    "class Vehicle(ABC):\n",
    "    @abstractmethod\n",
    "    def start_engine(self):\n",
    "        pass\n",
    "\n",
    "class Car(Vehicle):\n",
    "    def start_engine(self):\n",
    "        return \"Car engine started\"\n",
    "    \n",
    "class Motorcycle(Vehicle):\n",
    "    def start_engine(self):\n",
    "        return \"Motorcycle engine started\"\n",
    "    \n",
    "# Function that demonstrate polymorphism:\n",
    "def start_vehicle(vehicle):\n",
    "    print(vehicle.start_engine())\n",
    "\n",
    "## objects of CAR:\n",
    "\n",
    "car = Car()\n",
    "moto = Motorcycle()\n",
    "\n",
    "start_vehicle(car)\n",
    "start_vehicle(moto)"
   ]
  },
  {
   "cell_type": "markdown",
   "id": "e82800b4",
   "metadata": {},
   "source": [
    "#### 3. Encapsulation:\n",
    "\n",
    "Encapsulation is the bundling of data (attributes) and methods (functions) within a class, restricting access to some components to control interactions.\n",
    "\n",
    "##### Types of Encapsulation:\n",
    "- Public Members: Accessible from anywhere. {self.name -> #public attribute}\n",
    "- Protected Members: Accessible within the class and its subclasses. {self._name -> #protected attribute}\n",
    "- Private Members: Accessible only within the class. {self.__name -> #private attribute}"
   ]
  },
  {
   "cell_type": "code",
   "execution_count": null,
   "id": "e5e10fa6",
   "metadata": {},
   "outputs": [
    {
     "data": {
      "text/plain": [
       "['_Person__gender',\n",
       " '__class__',\n",
       " '__delattr__',\n",
       " '__dict__',\n",
       " '__dir__',\n",
       " '__doc__',\n",
       " '__eq__',\n",
       " '__format__',\n",
       " '__ge__',\n",
       " '__getattribute__',\n",
       " '__getstate__',\n",
       " '__gt__',\n",
       " '__hash__',\n",
       " '__init__',\n",
       " '__init_subclass__',\n",
       " '__le__',\n",
       " '__lt__',\n",
       " '__module__',\n",
       " '__ne__',\n",
       " '__new__',\n",
       " '__reduce__',\n",
       " '__reduce_ex__',\n",
       " '__repr__',\n",
       " '__setattr__',\n",
       " '__sizeof__',\n",
       " '__str__',\n",
       " '__subclasshook__',\n",
       " '__weakref__',\n",
       " '_age',\n",
       " 'name']"
      ]
     },
     "execution_count": 61,
     "metadata": {},
     "output_type": "execute_result"
    }
   ],
   "source": [
    "class Person:\n",
    "    def __init__(self, name , age, gender):\n",
    "        self.name = name \n",
    "        self._age = age\n",
    "        self.__gender = gender\n",
    "\n",
    "class Employee(Person):\n",
    "    def __init__(self, name, age, gender):\n",
    "        super().__init__(name, age, gender)\n",
    "\n",
    "# obj = Person('Ayush', 27, \"Male\") # similar output\n",
    "obj = Employee('Ayush', 27, \"Male\")\n",
    "\n",
    "dir(obj)"
   ]
  },
  {
   "cell_type": "code",
   "execution_count": 63,
   "id": "74df8859",
   "metadata": {},
   "outputs": [
    {
     "name": "stdout",
     "output_type": "stream",
     "text": [
      "Ayush\n",
      "27\n"
     ]
    },
    {
     "ename": "AttributeError",
     "evalue": "'Employee' object has no attribute '__gender'",
     "output_type": "error",
     "traceback": [
      "\u001b[1;31m---------------------------------------------------------------------------\u001b[0m",
      "\u001b[1;31mAttributeError\u001b[0m                            Traceback (most recent call last)",
      "Cell \u001b[1;32mIn[63], line 5\u001b[0m\n\u001b[0;32m      3\u001b[0m \u001b[38;5;28mprint\u001b[39m(obj\u001b[38;5;241m.\u001b[39mname) \u001b[38;5;66;03m# we will got public member.\u001b[39;00m\n\u001b[0;32m      4\u001b[0m \u001b[38;5;28mprint\u001b[39m(obj\u001b[38;5;241m.\u001b[39m_age) \u001b[38;5;66;03m# we will got protected member because we are accessing it from same class.\u001b[39;00m\n\u001b[1;32m----> 5\u001b[0m \u001b[38;5;28mprint\u001b[39m(\u001b[43mobj\u001b[49m\u001b[38;5;241;43m.\u001b[39;49m\u001b[43m__gender\u001b[49m) \u001b[38;5;66;03m# this will though error cannot access outside class.\u001b[39;00m\n",
      "\u001b[1;31mAttributeError\u001b[0m: 'Employee' object has no attribute '__gender'"
     ]
    }
   ],
   "source": [
    "# similar output got from base class:\n",
    "\n",
    "print(obj.name) # we will got public member.\n",
    "print(obj._age) # we will got protected member because we are accessing it from same class.\n",
    "print(obj.__gender) # this will though error cannot access outside class."
   ]
  },
  {
   "cell_type": "code",
   "execution_count": null,
   "id": "45fd462f",
   "metadata": {},
   "outputs": [
    {
     "data": {
      "text/plain": [
       "27"
      ]
     },
     "execution_count": 67,
     "metadata": {},
     "output_type": "execute_result"
    }
   ],
   "source": [
    "def get_age(person):\n",
    "    return person._age\n",
    "\n",
    "get_age(obj)"
   ]
  },
  {
   "cell_type": "code",
   "execution_count": 68,
   "id": "78b60ed0",
   "metadata": {},
   "outputs": [
    {
     "name": "stdout",
     "output_type": "stream",
     "text": [
      "Protected variable accessed via method: 10\n",
      "Protected variable modified via method: 20\n",
      "Direct access to protected variable: 20\n",
      "Direct modification of protected variable: 30\n"
     ]
    }
   ],
   "source": [
    "class MyClass:\n",
    "    def __init__(self, value):\n",
    "        self._protected_variable = value  # This is a protected variable\n",
    "\n",
    "    def get_protected_value(self):\n",
    "        return self._protected_variable\n",
    "\n",
    "    def set_protected_value(self, new_value):\n",
    "        self._protected_variable = new_value\n",
    "\n",
    "# Create an instance of MyClass\n",
    "obj = MyClass(10)\n",
    "\n",
    "# Accessing the protected variable through a public method (recommended)\n",
    "print(f\"Protected variable accessed via method: {obj.get_protected_value()}\")\n",
    "\n",
    "# Modifying the protected variable through a public method (recommended)\n",
    "obj.set_protected_value(20)\n",
    "print(f\"Protected variable modified via method: {obj.get_protected_value()}\")\n",
    "\n",
    "# Direct access to the protected variable (discouraged, but possible)\n",
    "print(f\"Direct access to protected variable: {obj._protected_variable}\")\n",
    "\n",
    "# Direct modification of the protected variable (discouraged, but possible)\n",
    "obj._protected_variable = 30\n",
    "print(f\"Direct modification of protected variable: {obj._protected_variable}\")"
   ]
  },
  {
   "cell_type": "code",
   "execution_count": 83,
   "id": "3dddbb07",
   "metadata": {},
   "outputs": [
    {
     "name": "stdout",
     "output_type": "stream",
     "text": [
      "Ayush\n",
      "27\n",
      "21\n",
      "Age cannot be negative.\n"
     ]
    }
   ],
   "source": [
    "## Encapsulation with Getter and Setter:\n",
    "class Person:\n",
    "    def __init__(self, name, age):\n",
    "        self.__name = name \n",
    "        self.__age = age\n",
    "\n",
    "    ## getter method for name:\n",
    "    def get_name(self):\n",
    "        return self.__name\n",
    "    \n",
    "    ## setter method for name:\n",
    "    def set_name(self, new_name):\n",
    "        self.__name = new_name\n",
    "    \n",
    "    ## getter method for age:\n",
    "    def get_age(self):\n",
    "        return self.__age\n",
    "    \n",
    "    ## setter method for age:\n",
    "    def set_age(self, new_age):\n",
    "        if new_age>0:\n",
    "            self.__age = new_age\n",
    "        else:\n",
    "            print(\"Age cannot be negative.\")\n",
    "\n",
    "person = Person('Ayush', 27)\n",
    "\n",
    "# Access and modify private method using getter and setter:\n",
    "\n",
    "print(person.get_name())\n",
    "print(person.get_age())\n",
    "\n",
    "person.set_age(21)\n",
    "print(person.get_age())\n",
    "\n",
    "person.set_age(-5)\n"
   ]
  },
  {
   "cell_type": "markdown",
   "id": "5fe92832",
   "metadata": {},
   "source": [
    "#### 4. Data Abstraction:\n",
    "\n",
    "Abstraction hides the internal implementation details while exposing only the necessary functionality. It helps focus on \"what to do\" rather than \"how to do it.\"\n",
    "\n",
    "Abstraction is a concept of hiding complex implementation details and showing only the necessary features of an object. This help to reducing programming complexity and effort.\n",
    "\n",
    "##### Types of Abstraction:\n",
    "- Partial Abstraction: Abstract class contains both abstract and concrete methods.\n",
    "- Full Abstraction: Abstract class contains only abstract methods (like interfaces).\n",
    "\n",
    "\n",
    "Why Use It: \n",
    "\n",
    "Abstraction ensures consistency in derived classes by enforcing the implementation of abstract methods.\n",
    "\n",
    "from abc import ABC, abstractmethod"
   ]
  },
  {
   "cell_type": "code",
   "execution_count": 84,
   "metadata": {},
   "outputs": [
    {
     "name": "stdout",
     "output_type": "stream",
     "text": [
      "Car engine started.\n",
      "The vehichle is used for driving\n"
     ]
    }
   ],
   "source": [
    "from abc import ABC, abstractmethod\n",
    "\n",
    "class Vehicle(ABC):\n",
    "\n",
    "    def drive(self):\n",
    "        print(\"The vehichle is used for driving\")\n",
    "\n",
    "    @abstractmethod\n",
    "    def start_engine(self):\n",
    "        pass\n",
    "\n",
    "class Car(Vehicle):\n",
    "\n",
    "    def start_engine(self):\n",
    "        print(\"Car engine started.\")\n",
    "\n",
    "def operate_vehicle(vehicle):\n",
    "    vehicle.start_engine()\n",
    "    vehicle.drive()\n",
    "\n",
    "car = Car()\n",
    "operate_vehicle(car)"
   ]
  },
  {
   "cell_type": "markdown",
   "id": "93e604c1",
   "metadata": {},
   "source": [
    "#### Magic Methods:\n",
    "\n",
    "Magic Methods in Python, also known as dunder methods (double underscore methods), are special methods that start and end with double underscores. These methods enable you to define the behavior of objects for built-in operations, such as arithmetic operations, comparisons, and more."
   ]
  },
  {
   "cell_type": "code",
   "execution_count": null,
   "metadata": {},
   "outputs": [],
   "source": [
    "\"\"\" \n",
    "Methods include:\n",
    "- __init__: Initialize a new instance of class.\n",
    "- __str__: returns a str representation of an object.\n",
    "- __repr__: returns an official string representation of an object.\n",
    "- __len__: return an length of an object.\n",
    "- __getitem__: Gets an item from a container.\n",
    "- __setitem__: Sets and item in a container.\n",
    "\"\"\""
   ]
  },
  {
   "cell_type": "code",
   "execution_count": 85,
   "metadata": {},
   "outputs": [
    {
     "data": {
      "text/plain": [
       "['__class__',\n",
       " '__delattr__',\n",
       " '__dict__',\n",
       " '__dir__',\n",
       " '__doc__',\n",
       " '__eq__',\n",
       " '__format__',\n",
       " '__ge__',\n",
       " '__getattribute__',\n",
       " '__getstate__',\n",
       " '__gt__',\n",
       " '__hash__',\n",
       " '__init__',\n",
       " '__init_subclass__',\n",
       " '__le__',\n",
       " '__lt__',\n",
       " '__module__',\n",
       " '__ne__',\n",
       " '__new__',\n",
       " '__reduce__',\n",
       " '__reduce_ex__',\n",
       " '__repr__',\n",
       " '__setattr__',\n",
       " '__sizeof__',\n",
       " '__str__',\n",
       " '__subclasshook__',\n",
       " '__weakref__']"
      ]
     },
     "execution_count": 85,
     "metadata": {},
     "output_type": "execute_result"
    }
   ],
   "source": [
    "# below output are all magic methods:\n",
    "\n",
    "class Person:\n",
    "    def __init__(self):\n",
    "        pass\n",
    "\n",
    "obj = Person()\n",
    "dir(obj)"
   ]
  },
  {
   "cell_type": "code",
   "execution_count": 86,
   "metadata": {},
   "outputs": [
    {
     "name": "stdout",
     "output_type": "stream",
     "text": [
      "<__main__.Person object at 0x0000023401F15580>\n"
     ]
    }
   ],
   "source": [
    "print(person)"
   ]
  },
  {
   "cell_type": "code",
   "execution_count": 90,
   "metadata": {},
   "outputs": [
    {
     "name": "stdout",
     "output_type": "stream",
     "text": [
      "My name is Ayush, and I am 29 years old.\n",
      "Person(name=Ayush, age=29) \n"
     ]
    }
   ],
   "source": [
    "# We can replace above memory location by some string using __str__\n",
    "\n",
    "class Person:\n",
    "    def __init__(self, name , age):\n",
    "        self.name = name \n",
    "        self.age = age\n",
    "\n",
    "    def __str__(self):\n",
    "        return f\"My name is {self.name}, and I am {self.age} years old.\"\n",
    "    \n",
    "    def __repr__(self):\n",
    "        return f\"Person(name={self.name}, age={self.age}) \"\n",
    "    \n",
    "per = Person(\"Ayush\", 29)\n",
    "print(per)\n",
    "# representing __repr__ method:\n",
    "print(repr(per))"
   ]
  },
  {
   "cell_type": "markdown",
   "id": "6caa03cd",
   "metadata": {},
   "source": [
    "#### Operator Overloading:\n",
    "\n",
    "Operator Overloading allows you to define the behavior of operators(+,-,*, etc.) for custom objects. You achieve this by overriding specific magic mehtods in your class."
   ]
  },
  {
   "cell_type": "code",
   "execution_count": 91,
   "metadata": {},
   "outputs": [
    {
     "data": {
      "text/plain": [
       "'\\n- __add__(self, other): Adds two objects using the + operator.\\n- __sub__(self, other): Subtracts two objects using the - operator.\\n- __mul__(self, other): Multiplies two objects using the * operator.\\n- __truediv__(self, other): Divides two objects using the / operator.\\n- __eq__(self, other): Checks if two objects are equal using the == operator.\\n- __lt__(self, other): Checks if two objects is less then other using the < operator.\\n- __gt__(self, other): Checks if two objects is more then other using the > operator.\\n'"
      ]
     },
     "execution_count": 91,
     "metadata": {},
     "output_type": "execute_result"
    }
   ],
   "source": [
    "\"\"\"\n",
    "- __add__(self, other): Adds two objects using the + operator.\n",
    "- __sub__(self, other): Subtracts two objects using the - operator.\n",
    "- __mul__(self, other): Multiplies two objects using the * operator.\n",
    "- __truediv__(self, other): Divides two objects using the / operator.\n",
    "- __eq__(self, other): Checks if two objects are equal using the == operator.\n",
    "- __lt__(self, other): Checks if two objects is less then other using the < operator.\n",
    "- __gt__(self, other): Checks if two objects is more then other using the > operator.\n",
    "\"\"\""
   ]
  },
  {
   "cell_type": "code",
   "execution_count": 98,
   "metadata": {},
   "outputs": [
    {
     "name": "stdout",
     "output_type": "stream",
     "text": [
      "Vector(4,8)\n",
      "Vector(0,-2)\n",
      "Vector(10,15)\n"
     ]
    }
   ],
   "source": [
    "class Vector:\n",
    "    def __init__(self, x, y):\n",
    "        self.x = x\n",
    "        self.y = y\n",
    "\n",
    "    def __add__(self, other):\n",
    "        return Vector(self.x + other.x, self.y+ other.y)\n",
    "    \n",
    "    def __sub__(self, other):\n",
    "        return Vector(self.x-other.x, self.y-other.y)\n",
    "    \n",
    "    def __mul__(self, other):\n",
    "        return Vector(self.x*other, self.y*other)\n",
    "    \n",
    "    def __eq__(self, other):\n",
    "        return self.x == other.x and self.y == other.y\n",
    "\n",
    "    def __repr__(self):\n",
    "        return f\"Vector({self.x},{self.y})\"\n",
    "v1 = Vector(2,3)\n",
    "v2 = Vector(2,5)\n",
    "obj = v1+v2\n",
    "print(obj)\n",
    "print(v1-v2)\n",
    "print(v1*5)"
   ]
  },
  {
   "cell_type": "code",
   "execution_count": 105,
   "metadata": {},
   "outputs": [
    {
     "name": "stdout",
     "output_type": "stream",
     "text": [
      "3 + 7i\n",
      "1 + -1i\n",
      "-10 + 11i\n",
      "0.8235294117647058 + 0.29411764705882354i\n",
      "False\n"
     ]
    }
   ],
   "source": [
    "## Operator overloading for complex numbers (x+yi=0):\n",
    "class ComplexNumbers: \n",
    "    def __init__(self, real, imag):\n",
    "        self.real = real\n",
    "        self.imag = imag\n",
    "    \n",
    "    def __add__(self, other):\n",
    "        return ComplexNumbers(self.real + other.real, self.imag + other.imag )\n",
    "    \n",
    "    def __sub__(self, other):\n",
    "        return ComplexNumbers(self.real - other.real, self.imag - other.imag)\n",
    "    \n",
    "    def __mul__(self, other):\n",
    "        real_part = self.real * other.real - self.imag * other.imag\n",
    "        imag_part = self.real * other.imag + self.imag * other.real\n",
    "        return ComplexNumbers(real_part, imag_part)\n",
    "    \n",
    "    def __truediv__(self, other):\n",
    "        denominator = other.real**2 + other.imag**2\n",
    "        real_part = (self.real * other.real + self.imag * other.imag) / denominator\n",
    "        imag_part = (self.real * other.imag - self.imag * other.real) / denominator\n",
    "        return ComplexNumbers(real_part, imag_part)\n",
    "\n",
    "    def __eq__(self, other):\n",
    "        return self.real == other.real and self.imag == other.imag\n",
    "    \n",
    "    def __repr__(self):\n",
    "        return f\"{self.real} + {self.imag}i\"\n",
    "    \n",
    "c1 = ComplexNumbers(2,3)\n",
    "c2 = ComplexNumbers(1,4)\n",
    "\n",
    "print(c1+c2)\n",
    "print(c1-c2)\n",
    "print(c1 * c2)\n",
    "print(c1 / c2)\n",
    "print(c1==c2)\n"
   ]
  },
  {
   "cell_type": "markdown",
   "id": "4d479a18",
   "metadata": {},
   "source": [
    "### Custom Exception (Raise and Throw an exception):"
   ]
  },
  {
   "cell_type": "code",
   "execution_count": 106,
   "metadata": {},
   "outputs": [],
   "source": [
    "class Error(Exception):\n",
    "    pass\n",
    "\n",
    "class dobException(Error):\n",
    "    pass"
   ]
  },
  {
   "cell_type": "code",
   "execution_count": 107,
   "metadata": {},
   "outputs": [
    {
     "name": "stdout",
     "output_type": "stream",
     "text": [
      "The age is valid so you can apply for the exam.\n"
     ]
    }
   ],
   "source": [
    "year = int(input(\"Enter your DOB: \"))\n",
    "age = 2025 - year\n",
    "\n",
    "try:\n",
    "    if age<=30 and age>=20:\n",
    "        print(\"The age is valid so you can apply for the exam.\")\n",
    "    else:\n",
    "        raise dobException\n",
    "except dobException: \n",
    "    print(\"Sorry, your age should be greater than 20 and less then 30.\")\n"
   ]
  },
  {
   "cell_type": "markdown",
   "id": "f34ce2ff",
   "metadata": {},
   "source": [
    "## Section - 12:"
   ]
  },
  {
   "cell_type": "markdown",
   "id": "6580f348",
   "metadata": {},
   "source": [
    "#### Iterators:\n",
    "\n",
    "Iterators are the advance python concepts that allow for efficient looping and memory management. Iterators provide a way to access collection elements sequentially without exposing the underlying structure."
   ]
  },
  {
   "cell_type": "code",
   "execution_count": 2,
   "metadata": {},
   "outputs": [
    {
     "name": "stdout",
     "output_type": "stream",
     "text": [
      "1\n",
      "2\n",
      "3\n",
      "4\n",
      "5\n",
      "6\n"
     ]
    }
   ],
   "source": [
    "# Normally iteration of list.\n",
    "my_list = [1,2,3,4,5,6]\n",
    "for i in my_list:\n",
    "    print(i)"
   ]
  },
  {
   "cell_type": "code",
   "execution_count": 3,
   "id": "0b937ac6",
   "metadata": {},
   "outputs": [
    {
     "name": "stdout",
     "output_type": "stream",
     "text": [
      "<class 'list'>\n"
     ]
    }
   ],
   "source": [
    "print(type(my_list))"
   ]
  },
  {
   "cell_type": "code",
   "execution_count": 6,
   "metadata": {},
   "outputs": [
    {
     "name": "stdout",
     "output_type": "stream",
     "text": [
      "<class 'list_iterator'>\n"
     ]
    },
    {
     "data": {
      "text/plain": [
       "<list_iterator at 0x1ff2d698790>"
      ]
     },
     "execution_count": 6,
     "metadata": {},
     "output_type": "execute_result"
    }
   ],
   "source": [
    "## Iterator:\n",
    "\n",
    "iterator = iter(my_list)\n",
    "print(type(iterator))\n",
    "iterator #it get stored in memory and cannot be relesed until we iterate from iterator."
   ]
  },
  {
   "cell_type": "code",
   "execution_count": 13,
   "id": "5c5a21cc",
   "metadata": {},
   "outputs": [
    {
     "ename": "StopIteration",
     "evalue": "",
     "output_type": "error",
     "traceback": [
      "\u001b[1;31m---------------------------------------------------------------------------\u001b[0m",
      "\u001b[1;31mStopIteration\u001b[0m                             Traceback (most recent call last)",
      "Cell \u001b[1;32mIn[13], line 2\u001b[0m\n\u001b[0;32m      1\u001b[0m \u001b[38;5;66;03m## Iterate through all the element.\u001b[39;00m\n\u001b[1;32m----> 2\u001b[0m \u001b[38;5;28;43mnext\u001b[39;49m\u001b[43m(\u001b[49m\u001b[43miterator\u001b[49m\u001b[43m)\u001b[49m \u001b[38;5;66;03m# because of lazy loading techique it load only 1 value at time.\u001b[39;00m\n",
      "\u001b[1;31mStopIteration\u001b[0m: "
     ]
    }
   ],
   "source": [
    "## Iterate through all the element.\n",
    "next(iterator) # because of lazy loading techique it load only 1 value at time."
   ]
  },
  {
   "cell_type": "code",
   "execution_count": 30,
   "id": "a54e6dbc",
   "metadata": {},
   "outputs": [],
   "source": [
    "iterator2 = iter(my_list)"
   ]
  },
  {
   "cell_type": "code",
   "execution_count": 32,
   "id": "40e0cc47",
   "metadata": {},
   "outputs": [
    {
     "name": "stdout",
     "output_type": "stream",
     "text": [
      "6\n"
     ]
    }
   ],
   "source": [
    "try: \n",
    "    print(next(iterator2)*3)\n",
    "except StopIteration: \n",
    "    print(\"There are no elements in the iterator.\")"
   ]
  },
  {
   "cell_type": "code",
   "execution_count": 33,
   "id": "7275104f",
   "metadata": {},
   "outputs": [],
   "source": [
    "# string iterator:\n",
    "my_str = \"Hello\"\n",
    "str_iter = iter(my_str)"
   ]
  },
  {
   "cell_type": "code",
   "execution_count": 38,
   "id": "6232eb21",
   "metadata": {},
   "outputs": [
    {
     "name": "stdout",
     "output_type": "stream",
     "text": [
      "There are no elements in the iterator.\n"
     ]
    }
   ],
   "source": [
    "try: \n",
    "    print(next(str_iter))\n",
    "    \n",
    "except StopIteration: \n",
    "    print(\"There are no elements in the iterator.\")"
   ]
  },
  {
   "cell_type": "markdown",
   "id": "fa446aa7",
   "metadata": {},
   "source": [
    "#### Generators:\n",
    "\n",
    "Generator are the simple way to create iterators. They use the yield keyword to produce a series of value lazily, which means they generate values on the fly and do not store them in memory."
   ]
  },
  {
   "cell_type": "code",
   "execution_count": 42,
   "id": "3bc24d29",
   "metadata": {},
   "outputs": [
    {
     "data": {
      "text/plain": [
       "<generator object square at 0x000001FF2DB32330>"
      ]
     },
     "execution_count": 42,
     "metadata": {},
     "output_type": "execute_result"
    }
   ],
   "source": [
    "def square(n):\n",
    "    for i in range(n):\n",
    "        yield i ** 2\n",
    "\n",
    "square(3)"
   ]
  },
  {
   "cell_type": "code",
   "execution_count": 43,
   "id": "34292edb",
   "metadata": {},
   "outputs": [
    {
     "name": "stdout",
     "output_type": "stream",
     "text": [
      "0\n",
      "1\n",
      "4\n"
     ]
    }
   ],
   "source": [
    "for i in square(3):\n",
    "    print(i)"
   ]
  },
  {
   "cell_type": "code",
   "execution_count": 45,
   "id": "c2a33c51",
   "metadata": {},
   "outputs": [
    {
     "name": "stdout",
     "output_type": "stream",
     "text": [
      "1\n",
      "2\n",
      "3\n"
     ]
    }
   ],
   "source": [
    "def my_gen():\n",
    "    yield 1\n",
    "    yield 2\n",
    "    yield 3\n",
    "\n",
    "gen = my_gen()\n",
    "for val in gen:\n",
    "    print(val)"
   ]
  },
  {
   "cell_type": "markdown",
   "id": "02ff29bc",
   "metadata": {},
   "source": [
    "##### Practical Example: Reading Large Files-\n",
    "\n",
    "Generator are particularly useful for reading large files because they allow you to process one line at a time without loading the entire file into memory."
   ]
  },
  {
   "cell_type": "code",
   "execution_count": null,
   "id": "ea7bee51",
   "metadata": {},
   "outputs": [],
   "source": [
    "import sqlalchemy as db\n",
    "db.select([films]).where(films.columns.cetification == 'PG')\n",
    "db.select([films]).where(db.and_(films.columns.certification =='R', films.columns.release_year > 2003))\n"
   ]
  },
  {
   "cell_type": "code",
   "execution_count": null,
   "id": "20a13580",
   "metadata": {},
   "outputs": [],
   "source": []
  }
 ],
 "metadata": {
  "kernelspec": {
   "display_name": "Python 3",
   "language": "python",
   "name": "python3"
  },
  "language_info": {
   "codemirror_mode": {
    "name": "ipython",
    "version": 3
   },
   "file_extension": ".py",
   "mimetype": "text/x-python",
   "name": "python",
   "nbconvert_exporter": "python",
   "pygments_lexer": "ipython3",
   "version": "3.12.2"
  }
 },
 "nbformat": 4,
 "nbformat_minor": 5
}
