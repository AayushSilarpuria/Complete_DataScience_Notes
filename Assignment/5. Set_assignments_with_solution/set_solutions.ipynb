{
 "cells": [
  {
   "cell_type": "code",
   "execution_count": 8,
   "id": "bb2594f3",
   "metadata": {},
   "outputs": [
    {
     "name": "stdout",
     "output_type": "stream",
     "text": [
      "{64, 1, 4, 36, 100, 9, 16, 49, 81, 25} <class 'set'>\n"
     ]
    }
   ],
   "source": [
    "# Create a new set containing the squares of the first 10 positive integers using a set comprehension. Print the new set.\n",
    "\n",
    "s = set(range(1,11))\n",
    "set_comprehension = {i**2 for i in s}\n",
    "print(set_comprehension, type(set_comprehension))"
   ]
  },
  {
   "cell_type": "code",
   "execution_count": null,
   "id": "9c49e83b",
   "metadata": {},
   "outputs": [
    {
     "name": "stdout",
     "output_type": "stream",
     "text": [
      "{64, 100, 4, 36, 16}\n"
     ]
    }
   ],
   "source": [
    "# Create a new set containing only the even numbers from the set created in Assignment 1 using a set comprehension. Print the new set.\n",
    "\n",
    "\n",
    "even_compre = {i  for i in set_comprehension if i%2==0} \n",
    "print(even_compre)"
   ]
  },
  {
   "cell_type": "code",
   "execution_count": 15,
   "id": "bd4dc0b7",
   "metadata": {},
   "outputs": [
    {
     "name": "stdout",
     "output_type": "stream",
     "text": [
      "True\n",
      "True\n"
     ]
    }
   ],
   "source": [
    "# Create two sets: one with the first 5 positive integers and another with the first 3 positive integers. Check if the second set is a subset of the first set and if the first set is a superset of the second set. Print the results.\n",
    "\n",
    "s1 = {1,2,3,4,5,6,7,8}\n",
    "s2 = {4,5,7,8}\n",
    "\n",
    "print(s2.issubset(s1))\n",
    "print(s1.issuperset(s2))"
   ]
  },
  {
   "cell_type": "code",
   "execution_count": null,
   "id": "2b0cb1d5",
   "metadata": {},
   "outputs": [
    {
     "name": "stdout",
     "output_type": "stream",
     "text": [
      "frozenset({1, 2, 3, 4, 5, 6, 7, 8, 9, 10})\n"
     ]
    }
   ],
   "source": [
    "# Create a frozenset with the first 5 positive integers. Print the frozenset.\n",
    "\n",
    "new_set = frozenset(range(1,11))\n",
    "print(new_set)"
   ]
  },
  {
   "cell_type": "code",
   "execution_count": 18,
   "id": "50249b82",
   "metadata": {},
   "outputs": [],
   "source": [
    "# Create a dictionary with set keys and integer values. Print the dictionary.\n",
    "\n",
    "# dict_set = {{3,4,5}: 3, {0,3,4,5}: 4}\n",
    "# dict_set  \"It will give TypeError because it set and set is mutable datatype.\""
   ]
  },
  {
   "cell_type": "code",
   "execution_count": 20,
   "id": "8655282a",
   "metadata": {},
   "outputs": [
    {
     "name": "stdout",
     "output_type": "stream",
     "text": [
      "1\n",
      "2\n",
      "3\n",
      "4\n",
      "5\n"
     ]
    }
   ],
   "source": [
    "# Create a set and iterate over the elements, printing each element.\n",
    "\n",
    "sss = set(range(1,6))\n",
    "for i in sss:\n",
    "    print(i)"
   ]
  },
  {
   "cell_type": "code",
   "execution_count": 33,
   "id": "b27ba49d",
   "metadata": {},
   "outputs": [
    {
     "name": "stdout",
     "output_type": "stream",
     "text": [
      "{2, 3, 4, 5}\n",
      "{3, 4, 5}\n",
      "{4, 5}\n",
      "{5}\n",
      "set()\n"
     ]
    }
   ],
   "source": [
    "# Create a set and remove elements from it until it is empty. Print the set after each removal.\n",
    "\n",
    "# sss = list(range(1,6))\n",
    "# for _ in sss:\n",
    "#     sss.pop()\n",
    "#     print(sss)\n",
    "\n",
    "sss = set(range(1,6))\n",
    "while sss:\n",
    "    sss.pop()\n",
    "    print(sss)\n"
   ]
  },
  {
   "cell_type": "code",
   "execution_count": 36,
   "id": "dd2ede37",
   "metadata": {},
   "outputs": [
    {
     "name": "stdout",
     "output_type": "stream",
     "text": [
      "{0, 1, 3, 6}\n"
     ]
    }
   ],
   "source": [
    "# Create two sets and update the first set with the symmetric difference of the two sets. Print the modified first set.\n",
    "\n",
    "s1 = {1,2,3,4,5,6,7,8}\n",
    "s2 = {4,5,7,8,2,0}\n",
    "\n",
    "print(s1.symmetric_difference(s2))"
   ]
  },
  {
   "cell_type": "code",
   "execution_count": 37,
   "id": "5e5b09ee",
   "metadata": {},
   "outputs": [
    {
     "name": "stdout",
     "output_type": "stream",
     "text": [
      "True\n"
     ]
    }
   ],
   "source": [
    "# Create a set and test if certain elements are present in the set. Print the results.\n",
    "\n",
    "print(2 in s1)"
   ]
  },
  {
   "cell_type": "code",
   "execution_count": 39,
   "id": "23d9a3dc",
   "metadata": {},
   "outputs": [
    {
     "name": "stdout",
     "output_type": "stream",
     "text": [
      "{(4, 5), (6, 8), (2, 1)}\n",
      "<class 'set'>\n"
     ]
    }
   ],
   "source": [
    "# Create a set containing tuples, where each tuple contains two elements. Print the set.\n",
    "\n",
    "tup_set = {(4,5),(6,8),(2,1)}\n",
    "print(tup_set)\n",
    "print(type(tup_set))"
   ]
  },
  {
   "cell_type": "code",
   "execution_count": 41,
   "id": "e99298b9",
   "metadata": {},
   "outputs": [],
   "source": [
    "# List in set\n",
    "\n",
    "# lst_set = {[1,2],[4,5]}\n",
    "# print(lst_set)\n",
    "\n",
    "\n",
    "# Tuples are hashable and immutable, so they can be stored in a set.\n",
    "\n",
    "# Lists or dictionaries cannot be directly added to a set because they are mutable."
   ]
  },
  {
   "cell_type": "code",
   "execution_count": null,
   "id": "705e646e",
   "metadata": {},
   "outputs": [],
   "source": []
  }
 ],
 "metadata": {
  "kernelspec": {
   "display_name": "Python 3",
   "language": "python",
   "name": "python3"
  },
  "language_info": {
   "codemirror_mode": {
    "name": "ipython",
    "version": 3
   },
   "file_extension": ".py",
   "mimetype": "text/x-python",
   "name": "python",
   "nbconvert_exporter": "python",
   "pygments_lexer": "ipython3",
   "version": "3.13.0"
  }
 },
 "nbformat": 4,
 "nbformat_minor": 5
}
