{
 "cells": [
  {
   "cell_type": "code",
   "execution_count": 12,
   "id": "6185e5c0",
   "metadata": {},
   "outputs": [
    {
     "name": "stdout",
     "output_type": "stream",
     "text": [
      "11111\n",
      "2222\n",
      "333\n",
      "44\n",
      "5\n"
     ]
    }
   ],
   "source": [
    "# Write a program that prints a 5x5 grid of asterisks (*) using nested loops.\n",
    "n = 5\n",
    "for i in range(n):\n",
    "    for j in range(i+1):\n",
    "        print('', end='')\n",
    "    for j in range(i,n):\n",
    "        print(i+1, end = '')\n",
    "    print()"
   ]
  },
  {
   "cell_type": "code",
   "execution_count": 13,
   "id": "8d5c20f5",
   "metadata": {},
   "outputs": [
    {
     "name": "stdout",
     "output_type": "stream",
     "text": [
      "3628800\n"
     ]
    }
   ],
   "source": [
    "# Write a program that calculates the factorial of a number input by the user using a while loop.\n",
    "\n",
    "num = int(input(\"Enter number for factorial: \"))\n",
    "\n",
    "factorial = 1\n",
    "count = 1\n",
    "while num>=count: \n",
    "    factorial = factorial * count\n",
    "    count += 1\n",
    "\n",
    "print(factorial)"
   ]
  },
  {
   "cell_type": "code",
   "execution_count": 23,
   "id": "cb6560f1",
   "metadata": {},
   "outputs": [
    {
     "name": "stdout",
     "output_type": "stream",
     "text": [
      "False\n"
     ]
    }
   ],
   "source": [
    "# Write a program that checks if a number input by the user is a prime number using a for loop.\n",
    "from math import sqrt\n",
    "num = int(input(\"Enter number to check prime: \"))\n",
    "\n",
    "if num <= 1:\n",
    "    print(False)\n",
    "else:\n",
    "    is_prime = True\n",
    "    for i in range(2,int(sqrt(num))+1):\n",
    "        if num%i == 0:\n",
    "            is_prime = False\n",
    "            break\n",
    "    print(is_prime)"
   ]
  },
  {
   "cell_type": "code",
   "execution_count": null,
   "id": "dab7bab3",
   "metadata": {},
   "outputs": [],
   "source": []
  },
  {
   "cell_type": "code",
   "execution_count": null,
   "id": "87354978",
   "metadata": {},
   "outputs": [],
   "source": []
  }
 ],
 "metadata": {
  "kernelspec": {
   "display_name": "Python 3",
   "language": "python",
   "name": "python3"
  },
  "language_info": {
   "codemirror_mode": {
    "name": "ipython",
    "version": 3
   },
   "file_extension": ".py",
   "mimetype": "text/x-python",
   "name": "python",
   "nbconvert_exporter": "python",
   "pygments_lexer": "ipython3",
   "version": "3.13.0"
  }
 },
 "nbformat": 4,
 "nbformat_minor": 5
}
