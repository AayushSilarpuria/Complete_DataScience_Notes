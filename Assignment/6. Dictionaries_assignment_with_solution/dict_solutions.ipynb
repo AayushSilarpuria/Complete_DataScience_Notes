{
 "cells": [
  {
   "cell_type": "code",
   "execution_count": 37,
   "id": "029a0812",
   "metadata": {},
   "outputs": [
    {
     "name": "stdout",
     "output_type": "stream",
     "text": [
      "{1: 1, 2: 4, 3: 9, 4: 16, 5: 25, 6: 216, 7: 343, 8: 512, 9: 729, 10: 1000}\n"
     ]
    }
   ],
   "source": [
    "### Assignment 6: Merging Dictionaries\n",
    "\n",
    "# Create two dictionaries: one with keys as the first 5 positive integers and values as their squares, and another with keys as the next 5 positive integers and values as their squares. Merge these dictionaries into a single dictionary and print it.\n",
    "d1 = {i: i**2 for i in range(1,6)}\n",
    "d2 = {j : j**3 for j in range(6,11)}\n",
    "d1.update(d2)\n",
    "print(d1)\n"
   ]
  },
  {
   "cell_type": "code",
   "execution_count": 40,
   "id": "63c19587",
   "metadata": {},
   "outputs": [
    {
     "name": "stdout",
     "output_type": "stream",
     "text": [
      "{1: [1, 2, 3, 4, 5], 2: [2, 4, 6, 8, 10], 3: [3, 6, 9, 12, 15], 4: [4, 8, 12, 16, 20], 5: [5, 10, 15, 20, 25]}\n",
      "{1: [1, 2, 3, 4, 5], 2: [2, 4, 6, 8, 10], 3: [3, 6, 9, 12, 15], 4: [4, 8, 12, 16, 20], 5: [5, 10, 15, 20, 25]}\n"
     ]
    }
   ],
   "source": [
    "### Assignment 8: Dictionary of Lists\n",
    "\n",
    "# Create a dictionary where the keys are the first 5 positive integers and the values are lists containing the first 5 multiples of the key. Print the dictionary.\n",
    "\n",
    "# {1: [1, 2, 3, 4, 5], 2: [2, 4, 6, 8, 10], 3: [3, 6, 9, 12, 15], 4: [4, 8, 12, 16, 20], 5: [5, 10, 15, 20, 25]}\n",
    "\n",
    "def multi_keys(n):\n",
    "    dic= {}\n",
    "    for num in range(1,n+1):\n",
    "        dic[num] = [num*i for i in range(1,n+1)]\n",
    "    return dic\n",
    "print(multi_keys(5))\n",
    "\n",
    "\n",
    "multi = {i: [i*j for j in range(1,6)] for i in range(1,6)}\n",
    "print(multi)\n"
   ]
  },
  {
   "cell_type": "code",
   "execution_count": 44,
   "id": "73e8e9bd",
   "metadata": {},
   "outputs": [
    {
     "name": "stdout",
     "output_type": "stream",
     "text": [
      "{1: [1, 2, 3, 4, 5], 2: [2, 4, 6, 8, 10], 3: [3, 6, 9, 12, 15], 4: [4, 8, 12, 16, 20], 5: [5, 10, 15, 20, 25]}\n",
      "{1: (1, 1), 2: (2, 4), 3: (3, 9), 4: (4, 16), 5: (5, 25)}\n"
     ]
    }
   ],
   "source": [
    "### Assignment 9: Dictionary of Tuples\n",
    "\n",
    "# Create a dictionary where the keys are the first 5 positive integers and the values are tuples containing the key and its square. Print the dictionary.\n",
    "\n",
    "def tup_dic(n):\n",
    "    tup_d = {}\n",
    "    lst = []\n",
    "    for num in range(1,n+1):\n",
    "        # lst = []\n",
    "        for i in range(1,n+1):\n",
    "            lst.append(i*num)\n",
    "        # print(lst)\n",
    "        tup_d[num] = lst.copy()\n",
    "        lst.clear()\n",
    "\n",
    "    return tup_d\n",
    "\n",
    "print(tup_dic(5)) # wrong output\n",
    "\n",
    "\n",
    "tuple_inValue = {i:(i,i**2) for i in range(1,6)}\n",
    "print(tuple_inValue)"
   ]
  },
  {
   "cell_type": "code",
   "execution_count": null,
   "id": "ff0a0582",
   "metadata": {},
   "outputs": [
    {
     "data": {
      "text/plain": [
       "[(1, [1, 2, 3, 4, 5]),\n",
       " (2, [2, 4, 6, 8, 10]),\n",
       " (3, [3, 6, 9, 12, 15]),\n",
       " (4, [4, 8, 12, 16, 20]),\n",
       " (5, [5, 10, 15, 20, 25])]"
      ]
     },
     "execution_count": 27,
     "metadata": {},
     "output_type": "execute_result"
    }
   ],
   "source": [
    "### Assignment 10: Dictionary and List Conversion\n",
    "\n",
    "# Create a dictionary with the first 5 positive integers as keys and their squares as values. Convert the dictionary to a list of tuples and print it.\n",
    "\n",
    "dic = {1: [1, 2, 3, 4, 5], 2: [2, 4, 6, 8, 10], 3: [3, 6, 9, 12, 15], 4: [4, 8, 12, 16, 20], 5: [5, 10, 15, 20, 25]}\n",
    "\n",
    "lst_dic = list(dic.items())\n",
    "lst_dic\n"
   ]
  },
  {
   "cell_type": "code",
   "execution_count": 34,
   "id": "16269fda",
   "metadata": {},
   "outputs": [
    {
     "data": {
      "text/plain": [
       "{1: 1, 4: 2, 9: 3, 16: 4, 25: 5}"
      ]
     },
     "execution_count": 34,
     "metadata": {},
     "output_type": "execute_result"
    }
   ],
   "source": [
    "# ### Assignment 12: Dictionary Key and Value Transformation\n",
    "\n",
    "# Create a dictionary with the first 5 positive integers as keys and their squares as values. Create a new dictionary with keys and values swapped. Print the new dictionary.\n",
    "\n",
    "# sqr_dic = {i: i**2 for i in range(1,6)}\n",
    "sqr_dic = {1: 1, 2: 4, 3: 9, 4: 16, 5: 25}\n",
    "swap = {v:k for k,v in sqr_dic.items()}\n",
    "swap"
   ]
  },
  {
   "cell_type": "code",
   "execution_count": 47,
   "id": "55fb2b12",
   "metadata": {},
   "outputs": [
    {
     "name": "stdout",
     "output_type": "stream",
     "text": [
      "{1: [], 2: [1, 4, 9, 16, 25], 3: [], 4: [1, 4, 9, 16, 25], 5: []}\n",
      "defaultdict(<class 'list'>, {})\n",
      "defaultdict(<class 'list'>, {1: [1], 2: [4], 3: [9], 4: [16], 5: [25]})\n"
     ]
    }
   ],
   "source": [
    "### Assignment 13: Default Dictionary\n",
    "\n",
    "# Create a default dictionary where each key has a default value of an empty list. Add some elements to the lists and print the dictionary.\n",
    "\n",
    "def def_dict(n):\n",
    "    d_dict = {}\n",
    "    for i in range(1,n+1):\n",
    "        if i % 2== 0:\n",
    "            d_dict[i] = [j**2 for j in range(1,n+1)] \n",
    "        else:\n",
    "            d_dict[i] = []\n",
    "    return d_dict\n",
    "\n",
    "print(def_dict(5))\n",
    "\n",
    "###########################################################\n",
    "\n",
    "from collections import defaultdict\n",
    "\n",
    "def_dict = defaultdict(list)\n",
    "print(def_dict)\n",
    "\n",
    "def dict_funt(n):\n",
    "    def_dict = defaultdict(list)\n",
    "\n",
    "    for i in range(1,n):\n",
    "        val_lst = i*i\n",
    "        def_dict[i].append(val_lst)\n",
    "    return def_dict\n",
    "\n",
    "print(dict_funt(6))\n"
   ]
  },
  {
   "cell_type": "code",
   "execution_count": 50,
   "id": "0c3489ce",
   "metadata": {},
   "outputs": [
    {
     "name": "stdout",
     "output_type": "stream",
     "text": [
      "{'H': 1, 'e': 1, 'l': 2, 'o': 2, ' ': 1, 'W': 1, 'r': 1, 'd': 1}\n"
     ]
    }
   ],
   "source": [
    "### Assignment 14: Counting with Dictionaries\n",
    "\n",
    "# Write a function that takes a string and returns a dictionary with the count of each character in the string. Print the dictionary.\n",
    "\n",
    "def count_dic(strings):\n",
    "    dic = {}\n",
    "    count = 1\n",
    "    for i in strings:\n",
    "        if i in dic:\n",
    "            dic[i] = count+1\n",
    "        else: \n",
    "            dic[i] = 1\n",
    "    return dic\n",
    "string = 'Hello World'\n",
    "print(count_dic(string))"
   ]
  },
  {
   "cell_type": "code",
   "execution_count": 55,
   "id": "f0f0eda0",
   "metadata": {},
   "outputs": [
    {
     "name": "stdout",
     "output_type": "stream",
     "text": [
      "dict to json by dumps:  {\"title\": \"To Kill a Mockingbird\", \"author\": \"Harper Lee\", \"year\": 1960, \"genre\": \"Fiction\"}\n",
      "json to dict by loads: {'title': 'To Kill a Mockingbird', 'author': 'Harper Lee', 'year': 1960, 'genre': 'Fiction'}\n"
     ]
    }
   ],
   "source": [
    "### Assignment 15: Dictionary and JSON\n",
    "\n",
    "# Create a dictionary representing a book with keys 'title', 'author', 'year', and 'genre'. Convert the dictionary to a JSON string and print it.\n",
    "\n",
    "import json\n",
    "\n",
    "book = {\n",
    "    'title': 'To Kill a Mockingbird',\n",
    "    'author': 'Harper Lee',\n",
    "    'year': 1960,\n",
    "    'genre': 'Fiction'\n",
    "}\n",
    "\n",
    "dic_json = json.dumps(book)\n",
    "print(f\"dict to json by dumps: \",dic_json)\n",
    "\n",
    "dic_load = json.loads(dic_json)\n",
    "print(f\"json to dict by loads: {dic_load}\")\n"
   ]
  },
  {
   "cell_type": "code",
   "execution_count": null,
   "id": "acafd81f",
   "metadata": {},
   "outputs": [],
   "source": []
  }
 ],
 "metadata": {
  "kernelspec": {
   "display_name": "Python 3",
   "language": "python",
   "name": "python3"
  },
  "language_info": {
   "codemirror_mode": {
    "name": "ipython",
    "version": 3
   },
   "file_extension": ".py",
   "mimetype": "text/x-python",
   "name": "python",
   "nbconvert_exporter": "python",
   "pygments_lexer": "ipython3",
   "version": "3.13.0"
  }
 },
 "nbformat": 4,
 "nbformat_minor": 5
}
