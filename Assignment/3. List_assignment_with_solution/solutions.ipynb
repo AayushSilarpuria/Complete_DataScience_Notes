{
 "cells": [
  {
   "cell_type": "code",
   "execution_count": 2,
   "id": "2299a228",
   "metadata": {},
   "outputs": [
    {
     "data": {
      "text/plain": [
       "[1, 2, 3, 4, 5, 6, 7, 8, 9, 10, 11, 12, 13, 14, 15, 16, 17, 18, 19, 20]"
      ]
     },
     "execution_count": 2,
     "metadata": {},
     "output_type": "execute_result"
    }
   ],
   "source": [
    "lst = [i for i in range(1,21)]\n",
    "lst"
   ]
  },
  {
   "cell_type": "code",
   "execution_count": 6,
   "id": "e8833f12",
   "metadata": {},
   "outputs": [
    {
     "data": {
      "text/plain": [
       "[10, 11]"
      ]
     },
     "execution_count": 6,
     "metadata": {},
     "output_type": "execute_result"
    }
   ],
   "source": [
    "lst_1st= lst[0]\n",
    "lst_last = lst[-1]\n",
    "lnt = len(lst)\n",
    "if lnt%2 ==0:\n",
    "    lst_middle = [lst[(lnt//2) -1],lst[lnt//2]]\n",
    "else: \n",
    "    lst_middle = lst[lnt//2]\n",
    "\n",
    "lst_middle"
   ]
  },
  {
   "cell_type": "code",
   "execution_count": 7,
   "id": "a5b0e297",
   "metadata": {},
   "outputs": [
    {
     "data": {
      "text/plain": [
       "[6, 10, 9, 3, 7, 10, 8, 8, 10, 1]"
      ]
     },
     "execution_count": 7,
     "metadata": {},
     "output_type": "execute_result"
    }
   ],
   "source": [
    "import random\n",
    "rand_int = [random.randint(1,10) for _ in range(10)]\n",
    "rand_int"
   ]
  },
  {
   "cell_type": "code",
   "execution_count": 11,
   "id": "f860741d",
   "metadata": {},
   "outputs": [
    {
     "data": {
      "text/plain": [
       "[1, 3, 6, 7, 8, 8, 9, 10, 10, 10]"
      ]
     },
     "execution_count": 11,
     "metadata": {},
     "output_type": "execute_result"
    }
   ],
   "source": [
    "sort_lst = sorted(rand_int)\n",
    "sort_lst"
   ]
  },
  {
   "cell_type": "code",
   "execution_count": 14,
   "id": "24a7d927",
   "metadata": {},
   "outputs": [
    {
     "data": {
      "text/plain": [
       "{1: 1, 3: 1, 6: 1, 7: 1, 8: 2, 9: 1, 10: 3}"
      ]
     },
     "execution_count": 14,
     "metadata": {},
     "output_type": "execute_result"
    }
   ],
   "source": [
    "count_lst = {k:sort_lst.count(k) for k in sort_lst}\n",
    "count_lst"
   ]
  },
  {
   "cell_type": "code",
   "execution_count": 15,
   "id": "9112e5c2",
   "metadata": {},
   "outputs": [
    {
     "data": {
      "text/plain": [
       "[1, 3, 6, 7, 9]"
      ]
     },
     "execution_count": 15,
     "metadata": {},
     "output_type": "execute_result"
    }
   ],
   "source": [
    "rem_dup = [k for k,v in count_lst.items() if v==1]\n",
    "rem_dup"
   ]
  },
  {
   "cell_type": "code",
   "execution_count": 17,
   "id": "848f5f5c",
   "metadata": {},
   "outputs": [
    {
     "data": {
      "text/plain": [
       "[10, 10, 10, 9, 8, 8, 7, 6, 3, 1]"
      ]
     },
     "execution_count": 17,
     "metadata": {},
     "output_type": "execute_result"
    }
   ],
   "source": [
    "sort_rand_int = sorted(rand_int, reverse=True)\n",
    "sort_rand_int"
   ]
  },
  {
   "cell_type": "code",
   "execution_count": 19,
   "id": "2c9f7438",
   "metadata": {},
   "outputs": [
    {
     "data": {
      "text/plain": [
       "[1, 3, 6, 7, 8, 9, 10]"
      ]
     },
     "execution_count": 19,
     "metadata": {},
     "output_type": "execute_result"
    }
   ],
   "source": [
    "unique = list(set(sort_rand_int))\n",
    "unique"
   ]
  },
  {
   "cell_type": "code",
   "execution_count": 16,
   "id": "4dd5d2d8",
   "metadata": {},
   "outputs": [
    {
     "name": "stdout",
     "output_type": "stream",
     "text": [
      "[[0, 1, 2], [0, 1, 2], [0, 1, 2]]\n"
     ]
    }
   ],
   "source": [
    "new_lst = []\n",
    "for i in range(3):\n",
    "    new_lst.append([ j for j in range(3)])\n",
    "print(new_lst)\n",
    "        "
   ]
  },
  {
   "cell_type": "code",
   "execution_count": 23,
   "id": "c5b6bb8c",
   "metadata": {},
   "outputs": [
    {
     "name": "stdout",
     "output_type": "stream",
     "text": [
      "{'name': 'Charlie', 'score': 95}\n",
      "{'name': 'Alice', 'score': 88}\n",
      "{'name': 'Eve', 'score': 78}\n",
      "{'name': 'Bob', 'score': 72}\n",
      "{'name': 'David', 'score': 65}\n"
     ]
    }
   ],
   "source": [
    "students = [\n",
    "    {'name': 'Alice', 'score': 88},\n",
    "    {'name': 'Bob', 'score': 72},\n",
    "    {'name': 'Charlie', 'score': 95},\n",
    "    {'name': 'David', 'score': 65},\n",
    "    {'name': 'Eve', 'score': 78}\n",
    "]\n",
    "sort_stu = sorted(students, key=lambda x:x['score'], reverse=True)\n",
    "for i in sort_stu:\n",
    "    print(i)"
   ]
  },
  {
   "cell_type": "code",
   "execution_count": 25,
   "id": "b7bc3ec1",
   "metadata": {},
   "outputs": [
    {
     "name": "stdout",
     "output_type": "stream",
     "text": [
      "[[1, 4, 7], [2, 5, 8], [3, 6, 9]]\n"
     ]
    }
   ],
   "source": [
    "# Write a function that takes a 3x3 matrix (nested list) as input and returns its transpose. Print the original and transposed matrices.\n",
    "\n",
    "matrix = [\n",
    "    [1, 2, 3],\n",
    "    [4, 5, 6],\n",
    "    [7, 8, 9]\n",
    "]\n",
    "\n",
    "def transpose_matrix(matrix):\n",
    "    return [[matrix[j][i] for j in range(len(matrix))] for i in range(len(matrix[0]))]\n",
    "print(transpose_matrix(matrix))"
   ]
  },
  {
   "cell_type": "code",
   "execution_count": 26,
   "id": "e9934612",
   "metadata": {},
   "outputs": [
    {
     "name": "stdout",
     "output_type": "stream",
     "text": [
      "[1, 2, 3, 4, 5, 6, 7, 8, 9]\n"
     ]
    }
   ],
   "source": [
    "# Write a function that takes a nested list and flattens it into a single list. Print the original and flattened lists.\n",
    "\n",
    "def flatter_func(matrix):\n",
    "    return [ j for i in matrix for j in i]\n",
    "print(flatter_func(matrix))"
   ]
  },
  {
   "cell_type": "code",
   "execution_count": 27,
   "id": "18f6556f",
   "metadata": {},
   "outputs": [
    {
     "data": {
      "text/plain": [
       "[(1, 'a'), (2, 'b'), (3, 'c'), (4, 'd'), (5, 'e')]"
      ]
     },
     "execution_count": 27,
     "metadata": {},
     "output_type": "execute_result"
    }
   ],
   "source": [
    "list1 = [1, 2, 3, 4, 5]\n",
    "list2 = ['a', 'b', 'c', 'd', 'e']\n",
    "zipp  = list(zip(list1,list2))\n",
    "zipp"
   ]
  },
  {
   "cell_type": "code",
   "execution_count": 31,
   "id": "9b4a6626",
   "metadata": {},
   "outputs": [
    {
     "name": "stdout",
     "output_type": "stream",
     "text": [
      "(1, 2, 3, 4, 5) ('a', 'b', 'c', 'd', 'e')\n"
     ]
    }
   ],
   "source": [
    "lst1, lst2 = list(zip(*zipp))\n",
    "print(lst1, lst2)"
   ]
  },
  {
   "cell_type": "code",
   "execution_count": null,
   "id": "0ed3ab65",
   "metadata": {},
   "outputs": [
    {
     "name": "stdout",
     "output_type": "stream",
     "text": [
      "[3, 4, 5, 1, 2]\n"
     ]
    }
   ],
   "source": [
    "# Write a function that rotates a list by n positions. Print the original and rotated lists.\n",
    "\n",
    "original_list = [1, 2, 3, 4, 5]\n",
    "\n",
    "def rotate_lst(lst, n):\n",
    "    \n",
    "    for _ in range(n):\n",
    "        fst_ele = lst.pop(0)\n",
    "        lst.append(fst_ele)\n",
    "    return lst\n",
    "print(rotate_lst(original_list, 2))"
   ]
  },
  {
   "cell_type": "code",
   "execution_count": 37,
   "id": "0298b882",
   "metadata": {},
   "outputs": [
    {
     "data": {
      "text/plain": [
       "[3, 4, 5]"
      ]
     },
     "execution_count": 37,
     "metadata": {},
     "output_type": "execute_result"
    }
   ],
   "source": [
    "# Write a function that takes two lists and returns a new list containing only the elements that are present in both lists. Print the intersected list.\n",
    "list1 = [1, 2, 3, 4, 5]\n",
    "list2 = [3, 4, 5, 6, 7]\n",
    "\n",
    "inter_lst = [i for i in list1 if i in list2]\n",
    "inter_lst\n"
   ]
  },
  {
   "cell_type": "code",
   "execution_count": 39,
   "id": "b6463d67",
   "metadata": {},
   "outputs": [
    {
     "name": "stdout",
     "output_type": "stream",
     "text": [
      "[3, 4, 5, 1, 2]\n"
     ]
    }
   ],
   "source": [
    "# Write a function that rotates a list by n positions. Print the original and rotated lists.\n",
    "\n",
    "original_list = [1, 2, 3, 4, 5]\n",
    "\n",
    "def rotate_lst(lst, n):\n",
    "    pop_item = []\n",
    "    for _ in range(n):\n",
    "        fst_ele = lst.pop(0)\n",
    "        pop_item.append(fst_ele)\n",
    "    lst.extend(pop_item)\n",
    "    return lst\n",
    "print(rotate_lst(original_list, 2))"
   ]
  },
  {
   "cell_type": "code",
   "execution_count": null,
   "id": "9664b3a2",
   "metadata": {},
   "outputs": [],
   "source": []
  },
  {
   "cell_type": "code",
   "execution_count": null,
   "id": "d1665378",
   "metadata": {},
   "outputs": [],
   "source": []
  },
  {
   "cell_type": "code",
   "execution_count": null,
   "id": "a747ce2d",
   "metadata": {},
   "outputs": [],
   "source": []
  },
  {
   "cell_type": "code",
   "execution_count": null,
   "id": "6ae45030",
   "metadata": {},
   "outputs": [],
   "source": []
  },
  {
   "cell_type": "code",
   "execution_count": null,
   "id": "03dba6c7",
   "metadata": {},
   "outputs": [],
   "source": []
  },
  {
   "cell_type": "code",
   "execution_count": null,
   "id": "de029883",
   "metadata": {},
   "outputs": [],
   "source": []
  }
 ],
 "metadata": {
  "kernelspec": {
   "display_name": "Python 3",
   "language": "python",
   "name": "python3"
  },
  "language_info": {
   "codemirror_mode": {
    "name": "ipython",
    "version": 3
   },
   "file_extension": ".py",
   "mimetype": "text/x-python",
   "name": "python",
   "nbconvert_exporter": "python",
   "pygments_lexer": "ipython3",
   "version": "3.12.2"
  }
 },
 "nbformat": 4,
 "nbformat_minor": 5
}
